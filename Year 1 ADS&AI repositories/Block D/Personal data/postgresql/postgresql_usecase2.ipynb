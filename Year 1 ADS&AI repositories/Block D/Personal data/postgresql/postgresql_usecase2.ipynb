{
 "cells": [
  {
   "cell_type": "code",
   "execution_count": 1,
   "metadata": {},
   "outputs": [],
   "source": [
    "from sqlalchemy import create_engine\n",
    "\n",
    "user = \"user1\"\n",
    "password = \"1234\"\n",
    "host = \"145.101.164.141\"\n",
    "port = \"5432\"\n",
    "database = \"adsai_1d\"\n",
    "\n",
    "# PostgreSQL connection string\n",
    "connection_string = f\"postgresql://{user}:{password}@{host}:{port}/{database}\"\n",
    "\n",
    "# Create a new SQLAlchemy engine using the connection string\n",
    "engine = create_engine(connection_string)"
   ]
  },
  {
   "cell_type": "code",
   "execution_count": 2,
   "metadata": {},
   "outputs": [
    {
     "name": "stdout",
     "output_type": "stream",
     "text": [
      "Connection successful!\n"
     ]
    }
   ],
   "source": [
    "from sqlalchemy import text\n",
    "\n",
    "# Define a simple query to test the connection\n",
    "test_query = text(\"SELECT 1\")\n",
    "\n",
    "# Execute the query using the SQLAlchemy engine\n",
    "result = engine.execute(test_query)\n",
    "\n",
    "# Check if the result matches the expected output\n",
    "if result.scalar() == 1:\n",
    "    print(\"Connection successful!\")\n",
    "else:\n",
    "    print(\"Connection failed!\")"
   ]
  },
  {
   "cell_type": "code",
   "execution_count": 3,
   "metadata": {},
   "outputs": [
    {
     "name": "stdout",
     "output_type": "stream",
     "text": [
      "Tables:\n",
      "green_index\n",
      "lasers_dim_location\n",
      "lasers_export_insightz_data_breda\n",
      "buurtenqute_datum_dim\n",
      "buurtenqute_fact\n",
      "buurtenqute_antwoord_dim\n",
      "buurtenqute_buurt_dim\n",
      "buurtenqute_samengestelde_indicator_dim\n",
      "buurtenqute_vraag_dim\n",
      "livability_index\n"
     ]
    }
   ],
   "source": [
    "from sqlalchemy import create_engine, MetaData, Table\n",
    "from sqlalchemy.orm import declarative_base\n",
    "from sqlalchemy.inspection import inspect\n",
    "\n",
    "metadata = MetaData(bind=engine)\n",
    "metadata.reflect()\n",
    "\n",
    "Base = declarative_base(metadata=metadata)\n",
    "\n",
    "# List available tables\n",
    "print(\"Tables:\")\n",
    "for table_name in metadata.tables:\n",
    "    print(table_name)"
   ]
  },
  {
   "cell_type": "code",
   "execution_count": 4,
   "metadata": {},
   "outputs": [],
   "source": [
    "import pandas as pd\n",
    "\n",
    "livability_index_df =  pd.read_sql(\"\"\"\n",
    "                              SELECT * FROM livability_index\"\"\", con = connection_string)"
   ]
  },
  {
   "cell_type": "code",
   "execution_count": 5,
   "metadata": {},
   "outputs": [
    {
     "data": {
      "text/html": [
       "<div>\n",
       "<style scoped>\n",
       "    .dataframe tbody tr th:only-of-type {\n",
       "        vertical-align: middle;\n",
       "    }\n",
       "\n",
       "    .dataframe tbody tr th {\n",
       "        vertical-align: top;\n",
       "    }\n",
       "\n",
       "    .dataframe thead th {\n",
       "        text-align: right;\n",
       "    }\n",
       "</style>\n",
       "<table border=\"1\" class=\"dataframe\">\n",
       "  <thead>\n",
       "    <tr style=\"text-align: right;\">\n",
       "      <th></th>\n",
       "      <th>cbs_grid_code</th>\n",
       "      <th>livability_score</th>\n",
       "    </tr>\n",
       "  </thead>\n",
       "  <tbody>\n",
       "    <tr>\n",
       "      <th>0</th>\n",
       "      <td>E1068N3982</td>\n",
       "      <td>2.423907</td>\n",
       "    </tr>\n",
       "    <tr>\n",
       "      <th>1</th>\n",
       "      <td>E1071N4012</td>\n",
       "      <td>2.376780</td>\n",
       "    </tr>\n",
       "    <tr>\n",
       "      <th>2</th>\n",
       "      <td>E1073N4018</td>\n",
       "      <td>2.533115</td>\n",
       "    </tr>\n",
       "    <tr>\n",
       "      <th>3</th>\n",
       "      <td>E1074N4011</td>\n",
       "      <td>2.405825</td>\n",
       "    </tr>\n",
       "    <tr>\n",
       "      <th>4</th>\n",
       "      <td>E1074N4017</td>\n",
       "      <td>2.502466</td>\n",
       "    </tr>\n",
       "  </tbody>\n",
       "</table>\n",
       "</div>"
      ],
      "text/plain": [
       "  cbs_grid_code  livability_score\n",
       "0    E1068N3982          2.423907\n",
       "1    E1071N4012          2.376780\n",
       "2    E1073N4018          2.533115\n",
       "3    E1074N4011          2.405825\n",
       "4    E1074N4017          2.502466"
      ]
     },
     "execution_count": 5,
     "metadata": {},
     "output_type": "execute_result"
    }
   ],
   "source": [
    "livability_index_df.head()"
   ]
  },
  {
   "cell_type": "code",
   "execution_count": 6,
   "metadata": {},
   "outputs": [
    {
     "name": "stdout",
     "output_type": "stream",
     "text": [
      "<class 'pandas.core.frame.DataFrame'>\n",
      "RangeIndex: 2937 entries, 0 to 2936\n",
      "Data columns (total 2 columns):\n",
      " #   Column            Non-Null Count  Dtype  \n",
      "---  ------            --------------  -----  \n",
      " 0   cbs_grid_code     2937 non-null   object \n",
      " 1   livability_score  2937 non-null   float64\n",
      "dtypes: float64(1), object(1)\n",
      "memory usage: 46.0+ KB\n"
     ]
    }
   ],
   "source": [
    "livability_index_df.info()"
   ]
  },
  {
   "cell_type": "code",
   "execution_count": 9,
   "metadata": {},
   "outputs": [
    {
     "data": {
      "text/plain": [
       "array(['E1068N3982', 'E1071N4012', 'E1073N4018', ..., 'E1168N3976',\n",
       "       'E1168N3977', 'E1168N3978'], dtype=object)"
      ]
     },
     "execution_count": 9,
     "metadata": {},
     "output_type": "execute_result"
    }
   ],
   "source": [
    "livability_index_df['cbs_grid_code'].unique()"
   ]
  }
 ],
 "metadata": {
  "kernelspec": {
   "display_name": "block_d_env",
   "language": "python",
   "name": "python3"
  },
  "language_info": {
   "codemirror_mode": {
    "name": "ipython",
    "version": 3
   },
   "file_extension": ".py",
   "mimetype": "text/x-python",
   "name": "python",
   "nbconvert_exporter": "python",
   "pygments_lexer": "ipython3",
   "version": "3.9.16"
  },
  "orig_nbformat": 4
 },
 "nbformat": 4,
 "nbformat_minor": 2
}
