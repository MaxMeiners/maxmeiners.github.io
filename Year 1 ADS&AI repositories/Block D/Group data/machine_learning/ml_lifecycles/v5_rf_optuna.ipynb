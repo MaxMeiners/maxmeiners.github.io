{
 "cells": [
  {
   "cell_type": "code",
   "execution_count": 1,
   "metadata": {},
   "outputs": [
    {
     "name": "stderr",
     "output_type": "stream",
     "text": [
      "[I 2023-06-09 14:11:09,037] A new study created in memory with name: no-name-7c188a83-eba7-46ff-9e80-204f28418f07\n",
      "[I 2023-06-09 14:11:09,947] Trial 0 finished with value: 3220.5530569556477 and parameters: {'n_estimators': 100, 'max_depth': 10, 'min_samples_split': 8, 'min_samples_leaf': 4, 'max_features': 'sqrt', 'bootstrap': False}. Best is trial 0 with value: 3220.5530569556477.\n",
      "[I 2023-06-09 14:11:11,489] Trial 1 finished with value: 3535.3975556909986 and parameters: {'n_estimators': 200, 'max_depth': 5, 'min_samples_split': 2, 'min_samples_leaf': 5, 'max_features': 'log2', 'bootstrap': True}. Best is trial 0 with value: 3220.5530569556477.\n",
      "[I 2023-06-09 14:11:12,904] Trial 2 finished with value: 3413.2084752559886 and parameters: {'n_estimators': 200, 'max_depth': 5, 'min_samples_split': 2, 'min_samples_leaf': 2, 'max_features': 'sqrt', 'bootstrap': True}. Best is trial 0 with value: 3220.5530569556477.\n",
      "[I 2023-06-09 14:11:13,726] Trial 3 finished with value: 3277.1193395715754 and parameters: {'n_estimators': 150, 'max_depth': 10, 'min_samples_split': 8, 'min_samples_leaf': 4, 'max_features': 'log2', 'bootstrap': False}. Best is trial 0 with value: 3220.5530569556477.\n",
      "[I 2023-06-09 14:11:15,285] Trial 4 finished with value: 3088.5876711074525 and parameters: {'n_estimators': 200, 'max_depth': 15, 'min_samples_split': 10, 'min_samples_leaf': 3, 'max_features': 'sqrt', 'bootstrap': True}. Best is trial 4 with value: 3088.5876711074525.\n",
      "[I 2023-06-09 14:11:16,562] Trial 5 finished with value: 3103.64681841967 and parameters: {'n_estimators': 150, 'max_depth': 15, 'min_samples_split': 8, 'min_samples_leaf': 3, 'max_features': 'log2', 'bootstrap': True}. Best is trial 4 with value: 3088.5876711074525.\n",
      "[I 2023-06-09 14:11:17,588] Trial 6 finished with value: 3434.3262421583468 and parameters: {'n_estimators': 150, 'max_depth': 5, 'min_samples_split': 8, 'min_samples_leaf': 3, 'max_features': 'log2', 'bootstrap': True}. Best is trial 4 with value: 3088.5876711074525.\n",
      "[I 2023-06-09 14:11:17,903] Trial 7 finished with value: 3380.4333021723482 and parameters: {'n_estimators': 50, 'max_depth': 10, 'min_samples_split': 10, 'min_samples_leaf': 5, 'max_features': 'log2', 'bootstrap': False}. Best is trial 4 with value: 3088.5876711074525.\n",
      "[I 2023-06-09 14:11:18,954] Trial 8 finished with value: 3387.851645017331 and parameters: {'n_estimators': 150, 'max_depth': 5, 'min_samples_split': 6, 'min_samples_leaf': 3, 'max_features': 'sqrt', 'bootstrap': True}. Best is trial 4 with value: 3088.5876711074525.\n",
      "[I 2023-06-09 14:11:20,635] Trial 9 finished with value: 2972.353594718377 and parameters: {'n_estimators': 200, 'max_depth': 15, 'min_samples_split': 6, 'min_samples_leaf': 1, 'max_features': 'sqrt', 'bootstrap': True}. Best is trial 9 with value: 2972.353594718377.\n",
      "[I 2023-06-09 14:11:21,059] Trial 10 finished with value: 3024.695240892218 and parameters: {'n_estimators': 50, 'max_depth': 15, 'min_samples_split': 4, 'min_samples_leaf': 1, 'max_features': 'sqrt', 'bootstrap': False}. Best is trial 9 with value: 2972.353594718377.\n",
      "[I 2023-06-09 14:11:21,466] Trial 11 finished with value: 3024.695240892218 and parameters: {'n_estimators': 50, 'max_depth': 15, 'min_samples_split': 4, 'min_samples_leaf': 1, 'max_features': 'sqrt', 'bootstrap': False}. Best is trial 9 with value: 2972.353594718377.\n",
      "[I 2023-06-09 14:11:22,192] Trial 12 finished with value: 3036.6682850919074 and parameters: {'n_estimators': 100, 'max_depth': 15, 'min_samples_split': 4, 'min_samples_leaf': 1, 'max_features': 'sqrt', 'bootstrap': False}. Best is trial 9 with value: 2972.353594718377.\n",
      "[I 2023-06-09 14:11:22,923] Trial 13 finished with value: 3036.6682850919074 and parameters: {'n_estimators': 100, 'max_depth': 15, 'min_samples_split': 4, 'min_samples_leaf': 1, 'max_features': 'sqrt', 'bootstrap': False}. Best is trial 9 with value: 2972.353594718377.\n",
      "[I 2023-06-09 14:11:23,366] Trial 14 finished with value: 3162.336643030411 and parameters: {'n_estimators': 50, 'max_depth': 15, 'min_samples_split': 6, 'min_samples_leaf': 2, 'max_features': 'sqrt', 'bootstrap': True}. Best is trial 9 with value: 2972.353594718377.\n",
      "[I 2023-06-09 14:11:24,020] Trial 15 finished with value: 3173.6652976278997 and parameters: {'n_estimators': 100, 'max_depth': 10, 'min_samples_split': 4, 'min_samples_leaf': 2, 'max_features': 'sqrt', 'bootstrap': False}. Best is trial 9 with value: 2972.353594718377.\n",
      "[I 2023-06-09 14:11:24,478] Trial 16 finished with value: 3080.310068986331 and parameters: {'n_estimators': 50, 'max_depth': 15, 'min_samples_split': 6, 'min_samples_leaf': 1, 'max_features': 'sqrt', 'bootstrap': True}. Best is trial 9 with value: 2972.353594718377.\n",
      "[I 2023-06-09 14:11:25,721] Trial 17 finished with value: 3127.7865756258084 and parameters: {'n_estimators': 200, 'max_depth': 10, 'min_samples_split': 2, 'min_samples_leaf': 2, 'max_features': 'sqrt', 'bootstrap': False}. Best is trial 9 with value: 2972.353594718377.\n",
      "[I 2023-06-09 14:11:26,564] Trial 18 finished with value: 2996.045030082263 and parameters: {'n_estimators': 100, 'max_depth': 15, 'min_samples_split': 4, 'min_samples_leaf': 1, 'max_features': 'sqrt', 'bootstrap': True}. Best is trial 9 with value: 2972.353594718377.\n",
      "[I 2023-06-09 14:11:27,911] Trial 19 finished with value: 3082.4988009526105 and parameters: {'n_estimators': 150, 'max_depth': 15, 'min_samples_split': 6, 'min_samples_leaf': 2, 'max_features': 'sqrt', 'bootstrap': True}. Best is trial 9 with value: 2972.353594718377.\n",
      "[I 2023-06-09 14:11:28,807] Trial 20 finished with value: 3097.8156840487877 and parameters: {'n_estimators': 100, 'max_depth': 10, 'min_samples_split': 6, 'min_samples_leaf': 1, 'max_features': 'sqrt', 'bootstrap': True}. Best is trial 9 with value: 2972.353594718377.\n",
      "[I 2023-06-09 14:11:29,463] Trial 21 finished with value: 3020.3687227510018 and parameters: {'n_estimators': 50, 'max_depth': 15, 'min_samples_split': 4, 'min_samples_leaf': 1, 'max_features': 'sqrt', 'bootstrap': True}. Best is trial 9 with value: 2972.353594718377.\n",
      "[I 2023-06-09 14:11:30,477] Trial 22 finished with value: 2996.045030082263 and parameters: {'n_estimators': 100, 'max_depth': 15, 'min_samples_split': 4, 'min_samples_leaf': 1, 'max_features': 'sqrt', 'bootstrap': True}. Best is trial 9 with value: 2972.353594718377.\n",
      "[I 2023-06-09 14:11:31,639] Trial 23 finished with value: 3141.8499199029297 and parameters: {'n_estimators': 100, 'max_depth': 15, 'min_samples_split': 2, 'min_samples_leaf': 2, 'max_features': 'sqrt', 'bootstrap': True}. Best is trial 9 with value: 2972.353594718377.\n",
      "[I 2023-06-09 14:11:32,516] Trial 24 finished with value: 3049.367537776887 and parameters: {'n_estimators': 100, 'max_depth': 15, 'min_samples_split': 6, 'min_samples_leaf': 1, 'max_features': 'sqrt', 'bootstrap': True}. Best is trial 9 with value: 2972.353594718377.\n",
      "[I 2023-06-09 14:11:33,652] Trial 25 finished with value: 3243.8543038272296 and parameters: {'n_estimators': 150, 'max_depth': 10, 'min_samples_split': 4, 'min_samples_leaf': 2, 'max_features': 'sqrt', 'bootstrap': True}. Best is trial 9 with value: 2972.353594718377.\n",
      "[I 2023-06-09 14:11:34,705] Trial 26 finished with value: 3111.5210197524025 and parameters: {'n_estimators': 100, 'max_depth': 15, 'min_samples_split': 4, 'min_samples_leaf': 1, 'max_features': 'log2', 'bootstrap': True}. Best is trial 9 with value: 2972.353594718377.\n",
      "[I 2023-06-09 14:11:36,023] Trial 27 finished with value: 3127.088763488187 and parameters: {'n_estimators': 150, 'max_depth': 15, 'min_samples_split': 6, 'min_samples_leaf': 4, 'max_features': 'sqrt', 'bootstrap': True}. Best is trial 9 with value: 2972.353594718377.\n",
      "[I 2023-06-09 14:11:36,819] Trial 28 finished with value: 3267.84657380059 and parameters: {'n_estimators': 100, 'max_depth': 10, 'min_samples_split': 2, 'min_samples_leaf': 2, 'max_features': 'sqrt', 'bootstrap': True}. Best is trial 9 with value: 2972.353594718377.\n",
      "[I 2023-06-09 14:11:37,629] Trial 29 finished with value: 3049.367537776887 and parameters: {'n_estimators': 100, 'max_depth': 15, 'min_samples_split': 6, 'min_samples_leaf': 1, 'max_features': 'sqrt', 'bootstrap': True}. Best is trial 9 with value: 2972.353594718377.\n",
      "[I 2023-06-09 14:11:39,321] Trial 30 finished with value: 3256.644886243465 and parameters: {'n_estimators': 200, 'max_depth': 10, 'min_samples_split': 8, 'min_samples_leaf': 1, 'max_features': 'sqrt', 'bootstrap': True}. Best is trial 9 with value: 2972.353594718377.\n",
      "[I 2023-06-09 14:11:39,795] Trial 31 finished with value: 3020.3687227510018 and parameters: {'n_estimators': 50, 'max_depth': 15, 'min_samples_split': 4, 'min_samples_leaf': 1, 'max_features': 'sqrt', 'bootstrap': True}. Best is trial 9 with value: 2972.353594718377.\n",
      "[I 2023-06-09 14:11:40,416] Trial 32 finished with value: 3020.3687227510018 and parameters: {'n_estimators': 50, 'max_depth': 15, 'min_samples_split': 4, 'min_samples_leaf': 1, 'max_features': 'sqrt', 'bootstrap': True}. Best is trial 9 with value: 2972.353594718377.\n",
      "[I 2023-06-09 14:11:40,927] Trial 33 finished with value: 3154.293236582661 and parameters: {'n_estimators': 50, 'max_depth': 15, 'min_samples_split': 2, 'min_samples_leaf': 2, 'max_features': 'sqrt', 'bootstrap': True}. Best is trial 9 with value: 2972.353594718377.\n",
      "[I 2023-06-09 14:11:41,965] Trial 34 finished with value: 3111.5210197524025 and parameters: {'n_estimators': 100, 'max_depth': 15, 'min_samples_split': 4, 'min_samples_leaf': 1, 'max_features': 'log2', 'bootstrap': True}. Best is trial 9 with value: 2972.353594718377.\n",
      "[I 2023-06-09 14:11:43,718] Trial 35 finished with value: 3059.1083533077885 and parameters: {'n_estimators': 200, 'max_depth': 15, 'min_samples_split': 2, 'min_samples_leaf': 2, 'max_features': 'sqrt', 'bootstrap': True}. Best is trial 9 with value: 2972.353594718377.\n",
      "[I 2023-06-09 14:11:44,916] Trial 36 finished with value: 2948.4710558629245 and parameters: {'n_estimators': 150, 'max_depth': 15, 'min_samples_split': 4, 'min_samples_leaf': 1, 'max_features': 'sqrt', 'bootstrap': True}. Best is trial 36 with value: 2948.4710558629245.\n",
      "[I 2023-06-09 14:11:46,393] Trial 37 finished with value: 3085.6618777243098 and parameters: {'n_estimators': 200, 'max_depth': 15, 'min_samples_split': 6, 'min_samples_leaf': 2, 'max_features': 'log2', 'bootstrap': True}. Best is trial 36 with value: 2948.4710558629245.\n",
      "[I 2023-06-09 14:11:47,452] Trial 38 finished with value: 3222.3575570032326 and parameters: {'n_estimators': 150, 'max_depth': 15, 'min_samples_split': 8, 'min_samples_leaf': 5, 'max_features': 'sqrt', 'bootstrap': True}. Best is trial 36 with value: 2948.4710558629245.\n",
      "[I 2023-06-09 14:11:48,462] Trial 39 finished with value: 3445.1740105868157 and parameters: {'n_estimators': 150, 'max_depth': 5, 'min_samples_split': 10, 'min_samples_leaf': 3, 'max_features': 'log2', 'bootstrap': True}. Best is trial 36 with value: 2948.4710558629245.\n",
      "[I 2023-06-09 14:11:49,869] Trial 40 finished with value: 3129.1227991295505 and parameters: {'n_estimators': 200, 'max_depth': 10, 'min_samples_split': 2, 'min_samples_leaf': 4, 'max_features': 'sqrt', 'bootstrap': True}. Best is trial 36 with value: 2948.4710558629245.\n",
      "[I 2023-06-09 14:11:51,096] Trial 41 finished with value: 2948.4710558629245 and parameters: {'n_estimators': 150, 'max_depth': 15, 'min_samples_split': 4, 'min_samples_leaf': 1, 'max_features': 'sqrt', 'bootstrap': True}. Best is trial 36 with value: 2948.4710558629245.\n",
      "[I 2023-06-09 14:11:52,273] Trial 42 finished with value: 2948.4710558629245 and parameters: {'n_estimators': 150, 'max_depth': 15, 'min_samples_split': 4, 'min_samples_leaf': 1, 'max_features': 'sqrt', 'bootstrap': True}. Best is trial 36 with value: 2948.4710558629245.\n",
      "[I 2023-06-09 14:11:53,554] Trial 43 finished with value: 2948.4710558629245 and parameters: {'n_estimators': 150, 'max_depth': 15, 'min_samples_split': 4, 'min_samples_leaf': 1, 'max_features': 'sqrt', 'bootstrap': True}. Best is trial 36 with value: 2948.4710558629245.\n",
      "[I 2023-06-09 14:11:54,748] Trial 44 finished with value: 2948.4710558629245 and parameters: {'n_estimators': 150, 'max_depth': 15, 'min_samples_split': 4, 'min_samples_leaf': 1, 'max_features': 'sqrt', 'bootstrap': True}. Best is trial 36 with value: 2948.4710558629245.\n",
      "[I 2023-06-09 14:11:55,960] Trial 45 finished with value: 2948.4710558629245 and parameters: {'n_estimators': 150, 'max_depth': 15, 'min_samples_split': 4, 'min_samples_leaf': 1, 'max_features': 'sqrt', 'bootstrap': True}. Best is trial 36 with value: 2948.4710558629245.\n",
      "[I 2023-06-09 14:11:57,068] Trial 46 finished with value: 3076.977535714662 and parameters: {'n_estimators': 150, 'max_depth': 15, 'min_samples_split': 2, 'min_samples_leaf': 3, 'max_features': 'sqrt', 'bootstrap': True}. Best is trial 36 with value: 2948.4710558629245.\n",
      "[I 2023-06-09 14:11:58,232] Trial 47 finished with value: 3023.4167346547997 and parameters: {'n_estimators': 150, 'max_depth': 15, 'min_samples_split': 4, 'min_samples_leaf': 1, 'max_features': 'log2', 'bootstrap': True}. Best is trial 36 with value: 2948.4710558629245.\n",
      "[I 2023-06-09 14:11:59,044] Trial 48 finished with value: 3508.355320040685 and parameters: {'n_estimators': 150, 'max_depth': 5, 'min_samples_split': 4, 'min_samples_leaf': 1, 'max_features': 'sqrt', 'bootstrap': False}. Best is trial 36 with value: 2948.4710558629245.\n",
      "[I 2023-06-09 14:12:00,315] Trial 49 finished with value: 3079.9720462033474 and parameters: {'n_estimators': 150, 'max_depth': 15, 'min_samples_split': 4, 'min_samples_leaf': 2, 'max_features': 'sqrt', 'bootstrap': True}. Best is trial 36 with value: 2948.4710558629245.\n"
     ]
    },
    {
     "name": "stdout",
     "output_type": "stream",
     "text": [
      "Root mean squared error = 114.13\n",
      "R-squared = -0.27\n"
     ]
    },
    {
     "name": "stderr",
     "output_type": "stream",
     "text": [
      "c:\\Python310\\lib\\site-packages\\sklearn\\base.py:443: UserWarning: X has feature names, but RandomForestRegressor was fitted without feature names\n",
      "  warnings.warn(\n"
     ]
    }
   ],
   "source": [
    "import pandas as pd \n",
    "import numpy as np \n",
    "import optuna \n",
    "from sklearn.model_selection import train_test_split, cross_val_score \n",
    "from sklearn.preprocessing import StandardScaler \n",
    "from sklearn.ensemble import RandomForestRegressor \n",
    "from sklearn.metrics import make_scorer, mean_squared_error, r2_score\n",
    "\n",
    "# load the dataset\n",
    "df = pd.read_csv(\"../datasets/merged/merged.csv\")\n",
    "df = df.drop(\"Unnamed: 0\", axis=1)\n",
    "\n",
    "# perform one-hot encoding for the \"Neighbourhood\" variable\n",
    "df = pd.get_dummies(df, columns=['Neighbourhood'])\n",
    "\n",
    "df_train = df[df[\"Year\"] < 2020]\n",
    "df_test = df[df[\"Year\"] >= 2020]\n",
    "X_train = df_train.drop(\"Total nuisances\", axis=1)\n",
    "X_test = df_test.drop(\"Total nuisances\", axis=1)\n",
    "y_train = df_train[\"Total nuisances\"]\n",
    "y_test = df_test[\"Total nuisances\"]\n",
    "\n",
    "\n",
    "\n",
    "\n",
    "# scale the features using StandardScaler\n",
    "scaler = StandardScaler() \n",
    "X_train_scaled = scaler.fit_transform(X_train) \n",
    "X_test_scaled = scaler.transform(X_test)\n",
    "\n",
    "# define the objective function for Optuna\n",
    "def objective(trial):\n",
    "    # define the hyperparameters to tune\n",
    "    params = {\n",
    "        'n_estimators': trial.suggest_int('n_estimators', 50, 200, step=50),\n",
    "        'max_depth': trial.suggest_int('max_depth', 5, 15, step=5),\n",
    "        'min_samples_split': trial.suggest_int('min_samples_split', 2, 10, step=2),\n",
    "        'min_samples_leaf': trial.suggest_int('min_samples_leaf', 1, 5),\n",
    "        'max_features': trial.suggest_categorical('max_features', ['sqrt', 'log2']),\n",
    "        'bootstrap': trial.suggest_categorical('bootstrap', [True, False]),\n",
    "    }\n",
    "    # create a random forest regressor\n",
    "    model = RandomForestRegressor(**params, random_state=42)\n",
    "    # evaluate the model using cross-validation\n",
    "    score = cross_val_score(model, X_train_scaled, y_train,\n",
    "                            scoring=make_scorer(mean_squared_error), cv=5)\n",
    "    return np.mean(score)\n",
    "\n",
    "# create an Optuna study object\n",
    "study = optuna.create_study(direction='minimize')\n",
    "\n",
    "# optimize the objective function using Optuna\n",
    "study.optimize(objective, n_trials=50)\n",
    "\n",
    "# get the best hyperparameters and model\n",
    "best_params = study.best_params \n",
    "best_model = RandomForestRegressor(**best_params, random_state=0)\n",
    "\n",
    "# fit the best model to the training data\n",
    "best_model.fit(X_train_scaled, y_train)\n",
    "\n",
    "# evaluate the model using cross-validation\n",
    "# cv_score = cross_val_score(best_model, X_train_scaled, y_train, scoring=make_scorer(mean_squared_error), cv=5) \n",
    "# rmse_cv = np.sqrt(np.mean(cv_score))\n",
    "\n",
    "# evaluate the model using the test set\n",
    "y_pred = best_model.predict(X_test)\n",
    "mse = mean_squared_error(y_test, y_pred) \n",
    "rmse = np.sqrt(mse)\n",
    "r2 = r2_score(y_test, y_pred)\n",
    "\n",
    "print(f\"Root mean squared error = {rmse:.2f}\")\n",
    "print(f\"R-squared = {r2:.2f}\")"
   ]
  },
  {
   "cell_type": "code",
   "execution_count": 2,
   "metadata": {},
   "outputs": [
    {
     "name": "stdout",
     "output_type": "stream",
     "text": [
      "Root mean squared error = 114.13\n",
      "R-squared = -0.27\n"
     ]
    }
   ],
   "source": [
    "print(f\"Root mean squared error = {rmse:.2f}\")\n",
    "print(f\"R-squared = {r2:.2f}\")"
   ]
  }
 ],
 "metadata": {
  "kernelspec": {
   "display_name": "Python 3",
   "language": "python",
   "name": "python3"
  },
  "language_info": {
   "codemirror_mode": {
    "name": "ipython",
    "version": 3
   },
   "file_extension": ".py",
   "mimetype": "text/x-python",
   "name": "python",
   "nbconvert_exporter": "python",
   "pygments_lexer": "ipython3",
   "version": "3.10.6"
  },
  "orig_nbformat": 4
 },
 "nbformat": 4,
 "nbformat_minor": 2
}
