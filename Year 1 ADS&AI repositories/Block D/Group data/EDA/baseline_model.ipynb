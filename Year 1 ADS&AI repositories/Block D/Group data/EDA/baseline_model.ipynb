{
 "cells": [
  {
   "cell_type": "code",
   "execution_count": 231,
   "metadata": {},
   "outputs": [],
   "source": [
    "import pandas as pd\n",
    "import numpy as np\n",
    "import matplotlib.pyplot as plt\n",
    "from sklearn.linear_model import LinearRegression\n",
    "from sklearn.metrics import mean_squared_error\n",
    "\n",
    "registered_nuisance = pd.read_csv(\"./datasets/registered_nuisance/geregistreerde_overlast_breda.csv\", sep=\";\")"
   ]
  },
  {
   "cell_type": "code",
   "execution_count": 232,
   "metadata": {},
   "outputs": [
    {
     "data": {
      "text/html": [
       "<div>\n",
       "<style scoped>\n",
       "    .dataframe tbody tr th:only-of-type {\n",
       "        vertical-align: middle;\n",
       "    }\n",
       "\n",
       "    .dataframe tbody tr th {\n",
       "        vertical-align: top;\n",
       "    }\n",
       "\n",
       "    .dataframe thead th {\n",
       "        text-align: right;\n",
       "    }\n",
       "</style>\n",
       "<table border=\"1\" class=\"dataframe\">\n",
       "  <thead>\n",
       "    <tr style=\"text-align: right;\">\n",
       "      <th></th>\n",
       "      <th>Overlast</th>\n",
       "      <th>Perioden</th>\n",
       "      <th>Regio's</th>\n",
       "      <th>Geregistreerde overlast (aantal)</th>\n",
       "    </tr>\n",
       "  </thead>\n",
       "  <tbody>\n",
       "    <tr>\n",
       "      <th>0</th>\n",
       "      <td>Totaal registraties overlast</td>\n",
       "      <td>2012 januari</td>\n",
       "      <td>Breda</td>\n",
       "      <td>276</td>\n",
       "    </tr>\n",
       "    <tr>\n",
       "      <th>1</th>\n",
       "      <td>Totaal registraties overlast</td>\n",
       "      <td>2012 februari</td>\n",
       "      <td>Breda</td>\n",
       "      <td>277</td>\n",
       "    </tr>\n",
       "    <tr>\n",
       "      <th>2</th>\n",
       "      <td>Totaal registraties overlast</td>\n",
       "      <td>2012 maart</td>\n",
       "      <td>Breda</td>\n",
       "      <td>313</td>\n",
       "    </tr>\n",
       "    <tr>\n",
       "      <th>3</th>\n",
       "      <td>Totaal registraties overlast</td>\n",
       "      <td>2012 april</td>\n",
       "      <td>Breda</td>\n",
       "      <td>242</td>\n",
       "    </tr>\n",
       "    <tr>\n",
       "      <th>4</th>\n",
       "      <td>Totaal registraties overlast</td>\n",
       "      <td>2012 mei</td>\n",
       "      <td>Breda</td>\n",
       "      <td>402</td>\n",
       "    </tr>\n",
       "    <tr>\n",
       "      <th>...</th>\n",
       "      <td>...</td>\n",
       "      <td>...</td>\n",
       "      <td>...</td>\n",
       "      <td>...</td>\n",
       "    </tr>\n",
       "    <tr>\n",
       "      <th>1318</th>\n",
       "      <td>Geluidshinder overig</td>\n",
       "      <td>2022</td>\n",
       "      <td>Breda</td>\n",
       "      <td>1719</td>\n",
       "    </tr>\n",
       "    <tr>\n",
       "      <th>1319</th>\n",
       "      <td>Geluidshinder overig</td>\n",
       "      <td>2023 januari</td>\n",
       "      <td>Breda</td>\n",
       "      <td>113</td>\n",
       "    </tr>\n",
       "    <tr>\n",
       "      <th>1320</th>\n",
       "      <td>Geluidshinder overig</td>\n",
       "      <td>2023 februari</td>\n",
       "      <td>Breda</td>\n",
       "      <td>88</td>\n",
       "    </tr>\n",
       "    <tr>\n",
       "      <th>1321</th>\n",
       "      <td>Geluidshinder overig</td>\n",
       "      <td>2023 maart</td>\n",
       "      <td>Breda</td>\n",
       "      <td>82</td>\n",
       "    </tr>\n",
       "    <tr>\n",
       "      <th>1322</th>\n",
       "      <td>Geluidshinder overig</td>\n",
       "      <td>2023 april</td>\n",
       "      <td>Breda</td>\n",
       "      <td>96</td>\n",
       "    </tr>\n",
       "  </tbody>\n",
       "</table>\n",
       "<p>1323 rows × 4 columns</p>\n",
       "</div>"
      ],
      "text/plain": [
       "                          Overlast       Perioden Regio's  \\\n",
       "0     Totaal registraties overlast   2012 januari   Breda   \n",
       "1     Totaal registraties overlast  2012 februari   Breda   \n",
       "2     Totaal registraties overlast     2012 maart   Breda   \n",
       "3     Totaal registraties overlast     2012 april   Breda   \n",
       "4     Totaal registraties overlast       2012 mei   Breda   \n",
       "...                            ...            ...     ...   \n",
       "1318          Geluidshinder overig           2022   Breda   \n",
       "1319          Geluidshinder overig   2023 januari   Breda   \n",
       "1320          Geluidshinder overig  2023 februari   Breda   \n",
       "1321          Geluidshinder overig     2023 maart   Breda   \n",
       "1322          Geluidshinder overig     2023 april   Breda   \n",
       "\n",
       "      Geregistreerde overlast (aantal)  \n",
       "0                                  276  \n",
       "1                                  277  \n",
       "2                                  313  \n",
       "3                                  242  \n",
       "4                                  402  \n",
       "...                                ...  \n",
       "1318                              1719  \n",
       "1319                               113  \n",
       "1320                                88  \n",
       "1321                                82  \n",
       "1322                                96  \n",
       "\n",
       "[1323 rows x 4 columns]"
      ]
     },
     "execution_count": 232,
     "metadata": {},
     "output_type": "execute_result"
    }
   ],
   "source": [
    "registered_nuisance"
   ]
  },
  {
   "cell_type": "code",
   "execution_count": 233,
   "metadata": {},
   "outputs": [
    {
     "data": {
      "text/html": [
       "<div>\n",
       "<style scoped>\n",
       "    .dataframe tbody tr th:only-of-type {\n",
       "        vertical-align: middle;\n",
       "    }\n",
       "\n",
       "    .dataframe tbody tr th {\n",
       "        vertical-align: top;\n",
       "    }\n",
       "\n",
       "    .dataframe thead th {\n",
       "        text-align: right;\n",
       "    }\n",
       "</style>\n",
       "<table border=\"1\" class=\"dataframe\">\n",
       "  <thead>\n",
       "    <tr style=\"text-align: right;\">\n",
       "      <th></th>\n",
       "      <th>Overlast</th>\n",
       "      <th>Perioden</th>\n",
       "      <th>Regio's</th>\n",
       "      <th>Geregistreerde overlast (aantal)</th>\n",
       "    </tr>\n",
       "  </thead>\n",
       "  <tbody>\n",
       "    <tr>\n",
       "      <th>0</th>\n",
       "      <td>Totaal registraties overlast</td>\n",
       "      <td>2012 januari</td>\n",
       "      <td>Breda</td>\n",
       "      <td>276</td>\n",
       "    </tr>\n",
       "    <tr>\n",
       "      <th>1</th>\n",
       "      <td>Totaal registraties overlast</td>\n",
       "      <td>2012 februari</td>\n",
       "      <td>Breda</td>\n",
       "      <td>277</td>\n",
       "    </tr>\n",
       "    <tr>\n",
       "      <th>2</th>\n",
       "      <td>Totaal registraties overlast</td>\n",
       "      <td>2012 maart</td>\n",
       "      <td>Breda</td>\n",
       "      <td>313</td>\n",
       "    </tr>\n",
       "    <tr>\n",
       "      <th>3</th>\n",
       "      <td>Totaal registraties overlast</td>\n",
       "      <td>2012 april</td>\n",
       "      <td>Breda</td>\n",
       "      <td>242</td>\n",
       "    </tr>\n",
       "    <tr>\n",
       "      <th>4</th>\n",
       "      <td>Totaal registraties overlast</td>\n",
       "      <td>2012 mei</td>\n",
       "      <td>Breda</td>\n",
       "      <td>402</td>\n",
       "    </tr>\n",
       "    <tr>\n",
       "      <th>...</th>\n",
       "      <td>...</td>\n",
       "      <td>...</td>\n",
       "      <td>...</td>\n",
       "      <td>...</td>\n",
       "    </tr>\n",
       "    <tr>\n",
       "      <th>1219</th>\n",
       "      <td>Geluidshinder overig</td>\n",
       "      <td>2022 december</td>\n",
       "      <td>Breda</td>\n",
       "      <td>92</td>\n",
       "    </tr>\n",
       "    <tr>\n",
       "      <th>1220</th>\n",
       "      <td>Geluidshinder overig</td>\n",
       "      <td>2023 januari</td>\n",
       "      <td>Breda</td>\n",
       "      <td>113</td>\n",
       "    </tr>\n",
       "    <tr>\n",
       "      <th>1221</th>\n",
       "      <td>Geluidshinder overig</td>\n",
       "      <td>2023 februari</td>\n",
       "      <td>Breda</td>\n",
       "      <td>88</td>\n",
       "    </tr>\n",
       "    <tr>\n",
       "      <th>1222</th>\n",
       "      <td>Geluidshinder overig</td>\n",
       "      <td>2023 maart</td>\n",
       "      <td>Breda</td>\n",
       "      <td>82</td>\n",
       "    </tr>\n",
       "    <tr>\n",
       "      <th>1223</th>\n",
       "      <td>Geluidshinder overig</td>\n",
       "      <td>2023 april</td>\n",
       "      <td>Breda</td>\n",
       "      <td>96</td>\n",
       "    </tr>\n",
       "  </tbody>\n",
       "</table>\n",
       "<p>1224 rows × 4 columns</p>\n",
       "</div>"
      ],
      "text/plain": [
       "                          Overlast       Perioden Regio's  \\\n",
       "0     Totaal registraties overlast   2012 januari   Breda   \n",
       "1     Totaal registraties overlast  2012 februari   Breda   \n",
       "2     Totaal registraties overlast     2012 maart   Breda   \n",
       "3     Totaal registraties overlast     2012 april   Breda   \n",
       "4     Totaal registraties overlast       2012 mei   Breda   \n",
       "...                            ...            ...     ...   \n",
       "1219          Geluidshinder overig  2022 december   Breda   \n",
       "1220          Geluidshinder overig   2023 januari   Breda   \n",
       "1221          Geluidshinder overig  2023 februari   Breda   \n",
       "1222          Geluidshinder overig     2023 maart   Breda   \n",
       "1223          Geluidshinder overig     2023 april   Breda   \n",
       "\n",
       "      Geregistreerde overlast (aantal)  \n",
       "0                                  276  \n",
       "1                                  277  \n",
       "2                                  313  \n",
       "3                                  242  \n",
       "4                                  402  \n",
       "...                                ...  \n",
       "1219                                92  \n",
       "1220                               113  \n",
       "1221                                88  \n",
       "1222                                82  \n",
       "1223                                96  \n",
       "\n",
       "[1224 rows x 4 columns]"
      ]
     },
     "execution_count": 233,
     "metadata": {},
     "output_type": "execute_result"
    }
   ],
   "source": [
    "# Delete the row(s) where 'Perioden' column is '2012, 2013, 2014, 2015, 2016, 2017, 2018, 2019, 2020, 2021, 2022'\n",
    "registered_nuisance = registered_nuisance[registered_nuisance['Perioden'] != '2012']\n",
    "registered_nuisance = registered_nuisance[registered_nuisance['Perioden'] != '2013']\n",
    "registered_nuisance = registered_nuisance[registered_nuisance['Perioden'] != '2014']\n",
    "registered_nuisance = registered_nuisance[registered_nuisance['Perioden'] != '2015']\n",
    "registered_nuisance = registered_nuisance[registered_nuisance['Perioden'] != '2016']\n",
    "registered_nuisance = registered_nuisance[registered_nuisance['Perioden'] != '2017']\n",
    "registered_nuisance = registered_nuisance[registered_nuisance['Perioden'] != '2018']\n",
    "registered_nuisance = registered_nuisance[registered_nuisance['Perioden'] != '2019']\n",
    "registered_nuisance = registered_nuisance[registered_nuisance['Perioden'] != '2020']\n",
    "registered_nuisance = registered_nuisance[registered_nuisance['Perioden'] != '2021']\n",
    "registered_nuisance = registered_nuisance[registered_nuisance['Perioden'] != '2022']\n",
    "\n",
    "# Reset the index\n",
    "registered_nuisance.reset_index(drop=True, inplace=True)\n",
    "\n",
    "# Print the updated dataset\n",
    "registered_nuisance"
   ]
  },
  {
   "cell_type": "code",
   "execution_count": 234,
   "metadata": {},
   "outputs": [
    {
     "name": "stderr",
     "output_type": "stream",
     "text": [
      "C:\\Users\\maxme\\AppData\\Local\\Temp\\ipykernel_24716\\3198245008.py:2: FutureWarning: In a future version of pandas all arguments of StringMethods.split except for the argument 'pat' will be keyword-only.\n",
      "  registered_nuisance[['Year', 'Month']] = registered_nuisance['Perioden'].str.split(' ', 1, expand=True)\n"
     ]
    }
   ],
   "source": [
    "# Split the \"Perioden\" column into 2 new columns named \"Year\" and \"Month\"\n",
    "registered_nuisance[['Year', 'Month']] = registered_nuisance['Perioden'].str.split(' ', 1, expand=True)\n",
    "\n",
    "# Delete the \"Perioden\" column\n",
    "registered_nuisance.drop('Perioden', axis=1, inplace=True)\n",
    "\n",
    "# Delete \"Regio's\" column\n",
    "registered_nuisance.drop(\"Regio's\", axis=1, inplace=True)\n",
    "\n",
    "# Delete the \"Month\" column\n",
    "registered_nuisance.drop('Month', axis=1, inplace=True)"
   ]
  },
  {
   "cell_type": "code",
   "execution_count": 235,
   "metadata": {},
   "outputs": [
    {
     "data": {
      "text/html": [
       "<div>\n",
       "<style scoped>\n",
       "    .dataframe tbody tr th:only-of-type {\n",
       "        vertical-align: middle;\n",
       "    }\n",
       "\n",
       "    .dataframe tbody tr th {\n",
       "        vertical-align: top;\n",
       "    }\n",
       "\n",
       "    .dataframe thead th {\n",
       "        text-align: right;\n",
       "    }\n",
       "</style>\n",
       "<table border=\"1\" class=\"dataframe\">\n",
       "  <thead>\n",
       "    <tr style=\"text-align: right;\">\n",
       "      <th></th>\n",
       "      <th>Overlast</th>\n",
       "      <th>Geregistreerde overlast (aantal)</th>\n",
       "      <th>Year</th>\n",
       "    </tr>\n",
       "  </thead>\n",
       "  <tbody>\n",
       "    <tr>\n",
       "      <th>0</th>\n",
       "      <td>Totaal registraties overlast</td>\n",
       "      <td>276</td>\n",
       "      <td>2012</td>\n",
       "    </tr>\n",
       "    <tr>\n",
       "      <th>1</th>\n",
       "      <td>Totaal registraties overlast</td>\n",
       "      <td>277</td>\n",
       "      <td>2012</td>\n",
       "    </tr>\n",
       "    <tr>\n",
       "      <th>2</th>\n",
       "      <td>Totaal registraties overlast</td>\n",
       "      <td>313</td>\n",
       "      <td>2012</td>\n",
       "    </tr>\n",
       "    <tr>\n",
       "      <th>3</th>\n",
       "      <td>Totaal registraties overlast</td>\n",
       "      <td>242</td>\n",
       "      <td>2012</td>\n",
       "    </tr>\n",
       "    <tr>\n",
       "      <th>4</th>\n",
       "      <td>Totaal registraties overlast</td>\n",
       "      <td>402</td>\n",
       "      <td>2012</td>\n",
       "    </tr>\n",
       "    <tr>\n",
       "      <th>...</th>\n",
       "      <td>...</td>\n",
       "      <td>...</td>\n",
       "      <td>...</td>\n",
       "    </tr>\n",
       "    <tr>\n",
       "      <th>1219</th>\n",
       "      <td>Geluidshinder overig</td>\n",
       "      <td>92</td>\n",
       "      <td>2022</td>\n",
       "    </tr>\n",
       "    <tr>\n",
       "      <th>1220</th>\n",
       "      <td>Geluidshinder overig</td>\n",
       "      <td>113</td>\n",
       "      <td>2023</td>\n",
       "    </tr>\n",
       "    <tr>\n",
       "      <th>1221</th>\n",
       "      <td>Geluidshinder overig</td>\n",
       "      <td>88</td>\n",
       "      <td>2023</td>\n",
       "    </tr>\n",
       "    <tr>\n",
       "      <th>1222</th>\n",
       "      <td>Geluidshinder overig</td>\n",
       "      <td>82</td>\n",
       "      <td>2023</td>\n",
       "    </tr>\n",
       "    <tr>\n",
       "      <th>1223</th>\n",
       "      <td>Geluidshinder overig</td>\n",
       "      <td>96</td>\n",
       "      <td>2023</td>\n",
       "    </tr>\n",
       "  </tbody>\n",
       "</table>\n",
       "<p>1224 rows × 3 columns</p>\n",
       "</div>"
      ],
      "text/plain": [
       "                          Overlast  Geregistreerde overlast (aantal)  Year\n",
       "0     Totaal registraties overlast                               276  2012\n",
       "1     Totaal registraties overlast                               277  2012\n",
       "2     Totaal registraties overlast                               313  2012\n",
       "3     Totaal registraties overlast                               242  2012\n",
       "4     Totaal registraties overlast                               402  2012\n",
       "...                            ...                               ...   ...\n",
       "1219          Geluidshinder overig                                92  2022\n",
       "1220          Geluidshinder overig                               113  2023\n",
       "1221          Geluidshinder overig                                88  2023\n",
       "1222          Geluidshinder overig                                82  2023\n",
       "1223          Geluidshinder overig                                96  2023\n",
       "\n",
       "[1224 rows x 3 columns]"
      ]
     },
     "execution_count": 235,
     "metadata": {},
     "output_type": "execute_result"
    }
   ],
   "source": [
    "registered_nuisance"
   ]
  },
  {
   "cell_type": "code",
   "execution_count": 236,
   "metadata": {},
   "outputs": [],
   "source": [
    "# Aggregate the data by year, but add the values of the \"Overlast\" column\n",
    "registered_nuisance = registered_nuisance.groupby(['Year', 'Overlast']).sum().reset_index()"
   ]
  },
  {
   "cell_type": "code",
   "execution_count": 237,
   "metadata": {},
   "outputs": [
    {
     "data": {
      "text/html": [
       "<div>\n",
       "<style scoped>\n",
       "    .dataframe tbody tr th:only-of-type {\n",
       "        vertical-align: middle;\n",
       "    }\n",
       "\n",
       "    .dataframe tbody tr th {\n",
       "        vertical-align: top;\n",
       "    }\n",
       "\n",
       "    .dataframe thead th {\n",
       "        text-align: right;\n",
       "    }\n",
       "</style>\n",
       "<table border=\"1\" class=\"dataframe\">\n",
       "  <thead>\n",
       "    <tr style=\"text-align: right;\">\n",
       "      <th></th>\n",
       "      <th>Year</th>\n",
       "      <th>Overlast</th>\n",
       "      <th>Geregistreerde overlast (aantal)</th>\n",
       "    </tr>\n",
       "  </thead>\n",
       "  <tbody>\n",
       "    <tr>\n",
       "      <th>0</th>\n",
       "      <td>2012</td>\n",
       "      <td>Geluidshinder evenement</td>\n",
       "      <td>11</td>\n",
       "    </tr>\n",
       "    <tr>\n",
       "      <th>1</th>\n",
       "      <td>2012</td>\n",
       "      <td>Geluidshinder horeca</td>\n",
       "      <td>58</td>\n",
       "    </tr>\n",
       "    <tr>\n",
       "      <th>2</th>\n",
       "      <td>2012</td>\n",
       "      <td>Geluidshinder overig</td>\n",
       "      <td>1099</td>\n",
       "    </tr>\n",
       "    <tr>\n",
       "      <th>3</th>\n",
       "      <td>2012</td>\n",
       "      <td>Melding overlast jeugd</td>\n",
       "      <td>1206</td>\n",
       "    </tr>\n",
       "    <tr>\n",
       "      <th>4</th>\n",
       "      <td>2012</td>\n",
       "      <td>Openbare dronkenschap</td>\n",
       "      <td>66</td>\n",
       "    </tr>\n",
       "    <tr>\n",
       "      <th>...</th>\n",
       "      <td>...</td>\n",
       "      <td>...</td>\n",
       "      <td>...</td>\n",
       "    </tr>\n",
       "    <tr>\n",
       "      <th>103</th>\n",
       "      <td>2023</td>\n",
       "      <td>Openbare dronkenschap</td>\n",
       "      <td>14</td>\n",
       "    </tr>\n",
       "    <tr>\n",
       "      <th>104</th>\n",
       "      <td>2023</td>\n",
       "      <td>Overlast door verward persoon</td>\n",
       "      <td>577</td>\n",
       "    </tr>\n",
       "    <tr>\n",
       "      <th>105</th>\n",
       "      <td>2023</td>\n",
       "      <td>Overlast ivm alcohol/ drugs</td>\n",
       "      <td>241</td>\n",
       "    </tr>\n",
       "    <tr>\n",
       "      <th>106</th>\n",
       "      <td>2023</td>\n",
       "      <td>Overlast zwervers</td>\n",
       "      <td>256</td>\n",
       "    </tr>\n",
       "    <tr>\n",
       "      <th>107</th>\n",
       "      <td>2023</td>\n",
       "      <td>Totaal registraties overlast</td>\n",
       "      <td>1725</td>\n",
       "    </tr>\n",
       "  </tbody>\n",
       "</table>\n",
       "<p>108 rows × 3 columns</p>\n",
       "</div>"
      ],
      "text/plain": [
       "     Year                       Overlast  Geregistreerde overlast (aantal)\n",
       "0    2012        Geluidshinder evenement                                11\n",
       "1    2012           Geluidshinder horeca                                58\n",
       "2    2012           Geluidshinder overig                              1099\n",
       "3    2012         Melding overlast jeugd                              1206\n",
       "4    2012          Openbare dronkenschap                                66\n",
       "..    ...                            ...                               ...\n",
       "103  2023          Openbare dronkenschap                                14\n",
       "104  2023  Overlast door verward persoon                               577\n",
       "105  2023    Overlast ivm alcohol/ drugs                               241\n",
       "106  2023              Overlast zwervers                               256\n",
       "107  2023   Totaal registraties overlast                              1725\n",
       "\n",
       "[108 rows x 3 columns]"
      ]
     },
     "execution_count": 237,
     "metadata": {},
     "output_type": "execute_result"
    }
   ],
   "source": [
    "registered_nuisance"
   ]
  },
  {
   "cell_type": "code",
   "execution_count": 172,
   "metadata": {},
   "outputs": [
    {
     "data": {
      "text/plain": [
       "array(['Geluidshinder evenement', 'Geluidshinder horeca',\n",
       "       'Geluidshinder overig', 'Melding overlast jeugd',\n",
       "       'Openbare dronkenschap', 'Overlast door verward persoon',\n",
       "       'Overlast ivm alcohol/ drugs', 'Overlast zwervers',\n",
       "       'Totaal registraties overlast'], dtype=object)"
      ]
     },
     "execution_count": 172,
     "metadata": {},
     "output_type": "execute_result"
    }
   ],
   "source": [
    "#unique values in \"Overlast\" column\n",
    "np.unique(registered_nuisance['Overlast'])"
   ]
  },
  {
   "cell_type": "code",
   "execution_count": 173,
   "metadata": {},
   "outputs": [],
   "source": [
    "totaal_overlast = registered_nuisance[registered_nuisance['Overlast']=='Totaal registraties overlast']\n",
    "geluidshinder_evenement = registered_nuisance[registered_nuisance['Overlast']=='Geluidshinder evenement']\n",
    "geluidshinder_horeca = registered_nuisance[registered_nuisance['Overlast']=='Geluidshinder horeca']\n",
    "geluidshinder_overig = registered_nuisance[registered_nuisance['Overlast']=='Geluidshinder overig']\n",
    "jeugd = registered_nuisance[registered_nuisance['Overlast']=='Melding overlast jeugd']\n",
    "openbare_dronkenschap = registered_nuisance[registered_nuisance['Overlast']=='Openbare dronkenschap']\n",
    "verward_persoon = registered_nuisance[registered_nuisance['Overlast']=='Overlast door verward persoon']\n",
    "alcohol_drugs = registered_nuisance[registered_nuisance['Overlast']=='Overlast ivm alcohol/ drugs']\n",
    "zwervers = registered_nuisance[registered_nuisance['Overlast']=='Overlast zwervers']"
   ]
  },
  {
   "cell_type": "code",
   "execution_count": 174,
   "metadata": {},
   "outputs": [
    {
     "data": {
      "text/html": [
       "<div>\n",
       "<style scoped>\n",
       "    .dataframe tbody tr th:only-of-type {\n",
       "        vertical-align: middle;\n",
       "    }\n",
       "\n",
       "    .dataframe tbody tr th {\n",
       "        vertical-align: top;\n",
       "    }\n",
       "\n",
       "    .dataframe thead th {\n",
       "        text-align: right;\n",
       "    }\n",
       "</style>\n",
       "<table border=\"1\" class=\"dataframe\">\n",
       "  <thead>\n",
       "    <tr style=\"text-align: right;\">\n",
       "      <th></th>\n",
       "      <th>Overlast</th>\n",
       "      <th>Perioden</th>\n",
       "      <th>Regio's</th>\n",
       "      <th>Geregistreerde overlast (aantal)</th>\n",
       "    </tr>\n",
       "  </thead>\n",
       "  <tbody>\n",
       "    <tr>\n",
       "      <th>0</th>\n",
       "      <td>Totaal registraties overlast</td>\n",
       "      <td>2012 januari</td>\n",
       "      <td>Breda</td>\n",
       "      <td>276</td>\n",
       "    </tr>\n",
       "    <tr>\n",
       "      <th>1</th>\n",
       "      <td>Totaal registraties overlast</td>\n",
       "      <td>2012 februari</td>\n",
       "      <td>Breda</td>\n",
       "      <td>277</td>\n",
       "    </tr>\n",
       "    <tr>\n",
       "      <th>2</th>\n",
       "      <td>Totaal registraties overlast</td>\n",
       "      <td>2012 maart</td>\n",
       "      <td>Breda</td>\n",
       "      <td>313</td>\n",
       "    </tr>\n",
       "    <tr>\n",
       "      <th>3</th>\n",
       "      <td>Totaal registraties overlast</td>\n",
       "      <td>2012 april</td>\n",
       "      <td>Breda</td>\n",
       "      <td>242</td>\n",
       "    </tr>\n",
       "    <tr>\n",
       "      <th>4</th>\n",
       "      <td>Totaal registraties overlast</td>\n",
       "      <td>2012 mei</td>\n",
       "      <td>Breda</td>\n",
       "      <td>402</td>\n",
       "    </tr>\n",
       "    <tr>\n",
       "      <th>...</th>\n",
       "      <td>...</td>\n",
       "      <td>...</td>\n",
       "      <td>...</td>\n",
       "      <td>...</td>\n",
       "    </tr>\n",
       "    <tr>\n",
       "      <th>131</th>\n",
       "      <td>Totaal registraties overlast</td>\n",
       "      <td>2022 december</td>\n",
       "      <td>Breda</td>\n",
       "      <td>359</td>\n",
       "    </tr>\n",
       "    <tr>\n",
       "      <th>132</th>\n",
       "      <td>Totaal registraties overlast</td>\n",
       "      <td>2023 januari</td>\n",
       "      <td>Breda</td>\n",
       "      <td>413</td>\n",
       "    </tr>\n",
       "    <tr>\n",
       "      <th>133</th>\n",
       "      <td>Totaal registraties overlast</td>\n",
       "      <td>2023 februari</td>\n",
       "      <td>Breda</td>\n",
       "      <td>361</td>\n",
       "    </tr>\n",
       "    <tr>\n",
       "      <th>134</th>\n",
       "      <td>Totaal registraties overlast</td>\n",
       "      <td>2023 maart</td>\n",
       "      <td>Breda</td>\n",
       "      <td>419</td>\n",
       "    </tr>\n",
       "    <tr>\n",
       "      <th>135</th>\n",
       "      <td>Totaal registraties overlast</td>\n",
       "      <td>2023 april</td>\n",
       "      <td>Breda</td>\n",
       "      <td>532</td>\n",
       "    </tr>\n",
       "  </tbody>\n",
       "</table>\n",
       "<p>136 rows × 4 columns</p>\n",
       "</div>"
      ],
      "text/plain": [
       "                         Overlast       Perioden Regio's  \\\n",
       "0    Totaal registraties overlast   2012 januari   Breda   \n",
       "1    Totaal registraties overlast  2012 februari   Breda   \n",
       "2    Totaal registraties overlast     2012 maart   Breda   \n",
       "3    Totaal registraties overlast     2012 april   Breda   \n",
       "4    Totaal registraties overlast       2012 mei   Breda   \n",
       "..                            ...            ...     ...   \n",
       "131  Totaal registraties overlast  2022 december   Breda   \n",
       "132  Totaal registraties overlast   2023 januari   Breda   \n",
       "133  Totaal registraties overlast  2023 februari   Breda   \n",
       "134  Totaal registraties overlast     2023 maart   Breda   \n",
       "135  Totaal registraties overlast     2023 april   Breda   \n",
       "\n",
       "     Geregistreerde overlast (aantal)  \n",
       "0                                 276  \n",
       "1                                 277  \n",
       "2                                 313  \n",
       "3                                 242  \n",
       "4                                 402  \n",
       "..                                ...  \n",
       "131                               359  \n",
       "132                               413  \n",
       "133                               361  \n",
       "134                               419  \n",
       "135                               532  \n",
       "\n",
       "[136 rows x 4 columns]"
      ]
     },
     "execution_count": 174,
     "metadata": {},
     "output_type": "execute_result"
    }
   ],
   "source": [
    "totaal_overlast"
   ]
  },
  {
   "cell_type": "code",
   "execution_count": 175,
   "metadata": {},
   "outputs": [],
   "source": [
    "n = np.array(totaal_overlast['Geregistreerde overlast (aantal)'])"
   ]
  },
  {
   "cell_type": "code",
   "execution_count": 176,
   "metadata": {},
   "outputs": [
    {
     "data": {
      "text/plain": [
       "array([276, 277, 313, 242, 402, 355, 358, 447, 371, 308, 267, 245, 359,\n",
       "       213, 248, 273, 337, 339, 331, 368, 298, 281, 256, 221, 236, 237,\n",
       "       275, 367, 349, 405, 414, 406, 393, 338, 317, 267, 234, 285, 251,\n",
       "       333, 374, 431, 496, 394, 302, 339, 353, 367, 309, 277, 353, 406,\n",
       "       436, 495, 569, 415, 443, 403, 303, 302, 327, 294, 301, 363, 388,\n",
       "       478, 489, 397, 330, 333, 274, 302, 281, 239, 298, 329, 342, 418,\n",
       "       346, 416, 315, 322, 264, 313, 266, 267, 282, 387, 343, 377, 392,\n",
       "       366, 323, 312, 272, 275, 316, 302, 369, 546, 665, 620, 613, 607,\n",
       "       474, 511, 485, 430, 547, 635, 582, 581, 603, 678, 733, 707, 629,\n",
       "       473, 502, 536, 528, 462, 421, 437, 511, 506, 615, 567, 423, 428,\n",
       "       415, 359, 413, 361, 419, 532], dtype=int64)"
      ]
     },
     "execution_count": 176,
     "metadata": {},
     "output_type": "execute_result"
    }
   ],
   "source": [
    "n"
   ]
  },
  {
   "cell_type": "code",
   "execution_count": 177,
   "metadata": {},
   "outputs": [],
   "source": [
    "x = n[0:10]\n",
    "y = n[10]"
   ]
  },
  {
   "cell_type": "code",
   "execution_count": 178,
   "metadata": {},
   "outputs": [
    {
     "data": {
      "text/plain": [
       "array([276, 277, 313, 242, 402, 355, 358, 447, 371, 308], dtype=int64)"
      ]
     },
     "execution_count": 178,
     "metadata": {},
     "output_type": "execute_result"
    }
   ],
   "source": [
    "x"
   ]
  },
  {
   "cell_type": "code",
   "execution_count": 179,
   "metadata": {},
   "outputs": [
    {
     "data": {
      "text/plain": [
       "267"
      ]
     },
     "execution_count": 179,
     "metadata": {},
     "output_type": "execute_result"
    }
   ],
   "source": [
    "y"
   ]
  },
  {
   "cell_type": "code",
   "execution_count": 180,
   "metadata": {},
   "outputs": [
    {
     "data": {
      "text/plain": [
       "array([276, 277, 313, 242, 402, 355, 358, 447, 371, 308, 267, 245, 359,\n",
       "       213, 248], dtype=int64)"
      ]
     },
     "execution_count": 180,
     "metadata": {},
     "output_type": "execute_result"
    }
   ],
   "source": [
    "n[0:15]"
   ]
  },
  {
   "cell_type": "code",
   "execution_count": 181,
   "metadata": {},
   "outputs": [],
   "source": [
    "x_len = 10\n",
    "X_train = []\n",
    "y_train = []\n",
    "for i in range(100):\n",
    "    X_train.append(n[i:i+x_len])\n",
    "    y_train.append(n[i+x_len])\n",
    "X_train = np.array(X_train)\n",
    "y_train = np.array(y_train)"
   ]
  },
  {
   "cell_type": "code",
   "execution_count": 182,
   "metadata": {},
   "outputs": [],
   "source": [
    "X_test = []\n",
    "y_test = []\n",
    "for i in range(110, len(n) - x_len):\n",
    "    X_test.append(n[i:i+x_len])\n",
    "    y_test.append(n[i+x_len])\n",
    "X_test = np.array(X_test)\n",
    "y_test = np.array(y_test)"
   ]
  },
  {
   "cell_type": "code",
   "execution_count": 183,
   "metadata": {},
   "outputs": [
    {
     "data": {
      "text/plain": [
       "(100, 10)"
      ]
     },
     "execution_count": 183,
     "metadata": {},
     "output_type": "execute_result"
    }
   ],
   "source": [
    "X_train.shape"
   ]
  },
  {
   "cell_type": "code",
   "execution_count": 184,
   "metadata": {},
   "outputs": [
    {
     "data": {
      "text/plain": [
       "array([[276, 277, 313, 242, 402, 355, 358, 447, 371, 308],\n",
       "       [277, 313, 242, 402, 355, 358, 447, 371, 308, 267],\n",
       "       [313, 242, 402, 355, 358, 447, 371, 308, 267, 245],\n",
       "       [242, 402, 355, 358, 447, 371, 308, 267, 245, 359],\n",
       "       [402, 355, 358, 447, 371, 308, 267, 245, 359, 213],\n",
       "       [355, 358, 447, 371, 308, 267, 245, 359, 213, 248],\n",
       "       [358, 447, 371, 308, 267, 245, 359, 213, 248, 273],\n",
       "       [447, 371, 308, 267, 245, 359, 213, 248, 273, 337],\n",
       "       [371, 308, 267, 245, 359, 213, 248, 273, 337, 339],\n",
       "       [308, 267, 245, 359, 213, 248, 273, 337, 339, 331],\n",
       "       [267, 245, 359, 213, 248, 273, 337, 339, 331, 368],\n",
       "       [245, 359, 213, 248, 273, 337, 339, 331, 368, 298],\n",
       "       [359, 213, 248, 273, 337, 339, 331, 368, 298, 281],\n",
       "       [213, 248, 273, 337, 339, 331, 368, 298, 281, 256],\n",
       "       [248, 273, 337, 339, 331, 368, 298, 281, 256, 221],\n",
       "       [273, 337, 339, 331, 368, 298, 281, 256, 221, 236],\n",
       "       [337, 339, 331, 368, 298, 281, 256, 221, 236, 237],\n",
       "       [339, 331, 368, 298, 281, 256, 221, 236, 237, 275],\n",
       "       [331, 368, 298, 281, 256, 221, 236, 237, 275, 367],\n",
       "       [368, 298, 281, 256, 221, 236, 237, 275, 367, 349],\n",
       "       [298, 281, 256, 221, 236, 237, 275, 367, 349, 405],\n",
       "       [281, 256, 221, 236, 237, 275, 367, 349, 405, 414],\n",
       "       [256, 221, 236, 237, 275, 367, 349, 405, 414, 406],\n",
       "       [221, 236, 237, 275, 367, 349, 405, 414, 406, 393],\n",
       "       [236, 237, 275, 367, 349, 405, 414, 406, 393, 338],\n",
       "       [237, 275, 367, 349, 405, 414, 406, 393, 338, 317],\n",
       "       [275, 367, 349, 405, 414, 406, 393, 338, 317, 267],\n",
       "       [367, 349, 405, 414, 406, 393, 338, 317, 267, 234],\n",
       "       [349, 405, 414, 406, 393, 338, 317, 267, 234, 285],\n",
       "       [405, 414, 406, 393, 338, 317, 267, 234, 285, 251],\n",
       "       [414, 406, 393, 338, 317, 267, 234, 285, 251, 333],\n",
       "       [406, 393, 338, 317, 267, 234, 285, 251, 333, 374],\n",
       "       [393, 338, 317, 267, 234, 285, 251, 333, 374, 431],\n",
       "       [338, 317, 267, 234, 285, 251, 333, 374, 431, 496],\n",
       "       [317, 267, 234, 285, 251, 333, 374, 431, 496, 394],\n",
       "       [267, 234, 285, 251, 333, 374, 431, 496, 394, 302],\n",
       "       [234, 285, 251, 333, 374, 431, 496, 394, 302, 339],\n",
       "       [285, 251, 333, 374, 431, 496, 394, 302, 339, 353],\n",
       "       [251, 333, 374, 431, 496, 394, 302, 339, 353, 367],\n",
       "       [333, 374, 431, 496, 394, 302, 339, 353, 367, 309],\n",
       "       [374, 431, 496, 394, 302, 339, 353, 367, 309, 277],\n",
       "       [431, 496, 394, 302, 339, 353, 367, 309, 277, 353],\n",
       "       [496, 394, 302, 339, 353, 367, 309, 277, 353, 406],\n",
       "       [394, 302, 339, 353, 367, 309, 277, 353, 406, 436],\n",
       "       [302, 339, 353, 367, 309, 277, 353, 406, 436, 495],\n",
       "       [339, 353, 367, 309, 277, 353, 406, 436, 495, 569],\n",
       "       [353, 367, 309, 277, 353, 406, 436, 495, 569, 415],\n",
       "       [367, 309, 277, 353, 406, 436, 495, 569, 415, 443],\n",
       "       [309, 277, 353, 406, 436, 495, 569, 415, 443, 403],\n",
       "       [277, 353, 406, 436, 495, 569, 415, 443, 403, 303],\n",
       "       [353, 406, 436, 495, 569, 415, 443, 403, 303, 302],\n",
       "       [406, 436, 495, 569, 415, 443, 403, 303, 302, 327],\n",
       "       [436, 495, 569, 415, 443, 403, 303, 302, 327, 294],\n",
       "       [495, 569, 415, 443, 403, 303, 302, 327, 294, 301],\n",
       "       [569, 415, 443, 403, 303, 302, 327, 294, 301, 363],\n",
       "       [415, 443, 403, 303, 302, 327, 294, 301, 363, 388],\n",
       "       [443, 403, 303, 302, 327, 294, 301, 363, 388, 478],\n",
       "       [403, 303, 302, 327, 294, 301, 363, 388, 478, 489],\n",
       "       [303, 302, 327, 294, 301, 363, 388, 478, 489, 397],\n",
       "       [302, 327, 294, 301, 363, 388, 478, 489, 397, 330],\n",
       "       [327, 294, 301, 363, 388, 478, 489, 397, 330, 333],\n",
       "       [294, 301, 363, 388, 478, 489, 397, 330, 333, 274],\n",
       "       [301, 363, 388, 478, 489, 397, 330, 333, 274, 302],\n",
       "       [363, 388, 478, 489, 397, 330, 333, 274, 302, 281],\n",
       "       [388, 478, 489, 397, 330, 333, 274, 302, 281, 239],\n",
       "       [478, 489, 397, 330, 333, 274, 302, 281, 239, 298],\n",
       "       [489, 397, 330, 333, 274, 302, 281, 239, 298, 329],\n",
       "       [397, 330, 333, 274, 302, 281, 239, 298, 329, 342],\n",
       "       [330, 333, 274, 302, 281, 239, 298, 329, 342, 418],\n",
       "       [333, 274, 302, 281, 239, 298, 329, 342, 418, 346],\n",
       "       [274, 302, 281, 239, 298, 329, 342, 418, 346, 416],\n",
       "       [302, 281, 239, 298, 329, 342, 418, 346, 416, 315],\n",
       "       [281, 239, 298, 329, 342, 418, 346, 416, 315, 322],\n",
       "       [239, 298, 329, 342, 418, 346, 416, 315, 322, 264],\n",
       "       [298, 329, 342, 418, 346, 416, 315, 322, 264, 313],\n",
       "       [329, 342, 418, 346, 416, 315, 322, 264, 313, 266],\n",
       "       [342, 418, 346, 416, 315, 322, 264, 313, 266, 267],\n",
       "       [418, 346, 416, 315, 322, 264, 313, 266, 267, 282],\n",
       "       [346, 416, 315, 322, 264, 313, 266, 267, 282, 387],\n",
       "       [416, 315, 322, 264, 313, 266, 267, 282, 387, 343],\n",
       "       [315, 322, 264, 313, 266, 267, 282, 387, 343, 377],\n",
       "       [322, 264, 313, 266, 267, 282, 387, 343, 377, 392],\n",
       "       [264, 313, 266, 267, 282, 387, 343, 377, 392, 366],\n",
       "       [313, 266, 267, 282, 387, 343, 377, 392, 366, 323],\n",
       "       [266, 267, 282, 387, 343, 377, 392, 366, 323, 312],\n",
       "       [267, 282, 387, 343, 377, 392, 366, 323, 312, 272],\n",
       "       [282, 387, 343, 377, 392, 366, 323, 312, 272, 275],\n",
       "       [387, 343, 377, 392, 366, 323, 312, 272, 275, 316],\n",
       "       [343, 377, 392, 366, 323, 312, 272, 275, 316, 302],\n",
       "       [377, 392, 366, 323, 312, 272, 275, 316, 302, 369],\n",
       "       [392, 366, 323, 312, 272, 275, 316, 302, 369, 546],\n",
       "       [366, 323, 312, 272, 275, 316, 302, 369, 546, 665],\n",
       "       [323, 312, 272, 275, 316, 302, 369, 546, 665, 620],\n",
       "       [312, 272, 275, 316, 302, 369, 546, 665, 620, 613],\n",
       "       [272, 275, 316, 302, 369, 546, 665, 620, 613, 607],\n",
       "       [275, 316, 302, 369, 546, 665, 620, 613, 607, 474],\n",
       "       [316, 302, 369, 546, 665, 620, 613, 607, 474, 511],\n",
       "       [302, 369, 546, 665, 620, 613, 607, 474, 511, 485],\n",
       "       [369, 546, 665, 620, 613, 607, 474, 511, 485, 430],\n",
       "       [546, 665, 620, 613, 607, 474, 511, 485, 430, 547]], dtype=int64)"
      ]
     },
     "execution_count": 184,
     "metadata": {},
     "output_type": "execute_result"
    }
   ],
   "source": [
    "X_train"
   ]
  },
  {
   "cell_type": "code",
   "execution_count": 185,
   "metadata": {},
   "outputs": [
    {
     "data": {
      "text/plain": [
       "(100,)"
      ]
     },
     "execution_count": 185,
     "metadata": {},
     "output_type": "execute_result"
    }
   ],
   "source": [
    "y_train.shape"
   ]
  },
  {
   "cell_type": "code",
   "execution_count": 203,
   "metadata": {},
   "outputs": [
    {
     "data": {
      "text/plain": [
       "array([[582, 581, 603, 678, 733, 707, 629, 473, 502, 536],\n",
       "       [581, 603, 678, 733, 707, 629, 473, 502, 536, 528],\n",
       "       [603, 678, 733, 707, 629, 473, 502, 536, 528, 462],\n",
       "       [678, 733, 707, 629, 473, 502, 536, 528, 462, 421],\n",
       "       [733, 707, 629, 473, 502, 536, 528, 462, 421, 437],\n",
       "       [707, 629, 473, 502, 536, 528, 462, 421, 437, 511],\n",
       "       [629, 473, 502, 536, 528, 462, 421, 437, 511, 506],\n",
       "       [473, 502, 536, 528, 462, 421, 437, 511, 506, 615],\n",
       "       [502, 536, 528, 462, 421, 437, 511, 506, 615, 567],\n",
       "       [536, 528, 462, 421, 437, 511, 506, 615, 567, 423],\n",
       "       [528, 462, 421, 437, 511, 506, 615, 567, 423, 428],\n",
       "       [462, 421, 437, 511, 506, 615, 567, 423, 428, 415],\n",
       "       [421, 437, 511, 506, 615, 567, 423, 428, 415, 359],\n",
       "       [437, 511, 506, 615, 567, 423, 428, 415, 359, 413],\n",
       "       [511, 506, 615, 567, 423, 428, 415, 359, 413, 361],\n",
       "       [506, 615, 567, 423, 428, 415, 359, 413, 361, 419]], dtype=int64)"
      ]
     },
     "execution_count": 203,
     "metadata": {},
     "output_type": "execute_result"
    }
   ],
   "source": [
    "X_test"
   ]
  },
  {
   "cell_type": "code",
   "execution_count": 204,
   "metadata": {},
   "outputs": [
    {
     "data": {
      "text/plain": [
       "array([528, 462, 421, 437, 511, 506, 615, 567, 423, 428, 415, 359, 413,\n",
       "       361, 419, 532], dtype=int64)"
      ]
     },
     "execution_count": 204,
     "metadata": {},
     "output_type": "execute_result"
    }
   ],
   "source": [
    "y_test"
   ]
  },
  {
   "cell_type": "code",
   "execution_count": 188,
   "metadata": {},
   "outputs": [
    {
     "name": "stdout",
     "output_type": "stream",
     "text": [
      "<class 'numpy.ndarray'>\n"
     ]
    }
   ],
   "source": [
    "print(type(X_train))"
   ]
  },
  {
   "cell_type": "code",
   "execution_count": 189,
   "metadata": {},
   "outputs": [
    {
     "name": "stdout",
     "output_type": "stream",
     "text": [
      "<class 'numpy.ndarray'>\n"
     ]
    }
   ],
   "source": [
    "print(type(X_train))"
   ]
  },
  {
   "attachments": {},
   "cell_type": "markdown",
   "metadata": {},
   "source": [
    "---"
   ]
  },
  {
   "attachments": {},
   "cell_type": "markdown",
   "metadata": {},
   "source": [
    "# Linear Regression model"
   ]
  },
  {
   "cell_type": "code",
   "execution_count": 205,
   "metadata": {},
   "outputs": [
    {
     "name": "stdout",
     "output_type": "stream",
     "text": [
      "Coefficients: \n",
      " [ 0.27027221  0.069857    0.15029848 -0.09000236  0.00385117 -0.01594216\n",
      " -0.1127789   0.06971895  0.12423545  0.73792964]\n",
      "Mean squared error: 8562.52\n"
     ]
    },
    {
     "data": {
      "image/png": "[encoded data removed]",
      "text/plain": [
       "<Figure size 640x480 with 2 Axes>"
      ]
     },
     "metadata": {},
     "output_type": "display_data"
    }
   ],
   "source": [
    "# Create linear regression object\n",
    "lr = LinearRegression()\n",
    "\n",
    "# Train the model using the training sets\n",
    "lr.fit(X_train, y_train)\n",
    "\n",
    "# Make predictions using the testing set\n",
    "y_pred = lr.predict(X_test)\n",
    "\n",
    "# The coefficients\n",
    "print('Coefficients: \\n', lr.coef_)\n",
    "# The mean squared error\n",
    "print('Mean squared error: %.2f'\n",
    "        % mean_squared_error(y_test, y_pred))\n",
    "\n",
    "# Plot outputs\n",
    "colors = y_pred\n",
    "\n",
    "plt.scatter(y_test, y_pred, c=colors, alpha=0.8, cmap='viridis') # plot the test values against the predicted values\n",
    "plt.colorbar(); # show color scale\n",
    "plt.title('Linear Regression model for total registered nuisance') #Add a title to the graph\n",
    "plt.xlabel('Actual values') #Add a label to the x-axis\n",
    "plt.ylabel('Predicted values') #Add a label to the y-axis\n",
    "plt.grid() #Add grid lines to make the graph easier to read\n",
    "\n",
    "#Putting a line in the regression plot\n",
    "m, b = np.polyfit(y_test, y_pred, 1)\n",
    "plt.plot(y_test, m*y_test + b, color='red')\n",
    "plt.plot([350, 600], [350, 600], color='black', linewidth=2)\n",
    "\n",
    "plt.show()"
   ]
  },
  {
   "cell_type": "code",
   "execution_count": 202,
   "metadata": {},
   "outputs": [
    {
     "name": "stdout",
     "output_type": "stream",
     "text": [
      "The R2 score is:  -0.7065849588336297\n"
     ]
    }
   ],
   "source": [
    "print('The R2 score is: ', lr.score(X_test, y_test))"
   ]
  },
  {
   "attachments": {},
   "cell_type": "markdown",
   "metadata": {},
   "source": [
    "---"
   ]
  },
  {
   "attachments": {},
   "cell_type": "markdown",
   "metadata": {},
   "source": [
    "# Random Forest Regression model"
   ]
  },
  {
   "cell_type": "code",
   "execution_count": 198,
   "metadata": {},
   "outputs": [
    {
     "name": "stdout",
     "output_type": "stream",
     "text": [
      "Feature Importances: \n",
      " [0.06214734 0.02508036 0.03043705 0.02886498 0.05257869 0.03122014\n",
      " 0.01620247 0.02624035 0.03289178 0.69433685]\n",
      "Mean squared error: 4858.06\n"
     ]
    },
    {
     "data": {
      "image/png": "[encoded data removed]",
      "text/plain": [
       "<Figure size 640x480 with 2 Axes>"
      ]
     },
     "metadata": {},
     "output_type": "display_data"
    }
   ],
   "source": [
    "from sklearn.ensemble import RandomForestRegressor\n",
    "\n",
    "rf = RandomForestRegressor()\n",
    "\n",
    "rf.fit(X_train, y_train)\n",
    "\n",
    "y_pred_rf = rf.predict(X_test)\n",
    "\n",
    "print('Feature Importances: \\n', rf.feature_importances_)\n",
    "\n",
    "mse = mean_squared_error(y_test, y_pred_rf)\n",
    "print('Mean squared error: %.2f' % mse)\n",
    "\n",
    "# Plot outputs\n",
    "colors = y_pred_rf\n",
    "\n",
    "plt.scatter(y_test, y_pred_rf, c=colors, alpha=0.8, cmap='viridis')\n",
    "plt.colorbar()\n",
    "plt.title('Random Forest Regression model for total registered nuisance')\n",
    "plt.xlabel('Actual values')\n",
    "plt.ylabel('Predicted values')\n",
    "plt.grid()\n",
    "\n",
    "m, b = np.polyfit(y_test, y_pred_rf, 1)\n",
    "plt.plot(y_test, m*y_test + b, color='red')\n",
    "\n",
    "plt.show()"
   ]
  },
  {
   "cell_type": "code",
   "execution_count": 206,
   "metadata": {},
   "outputs": [
    {
     "name": "stdout",
     "output_type": "stream",
     "text": [
      "The R2 score is:  0.03174611546363815\n"
     ]
    }
   ],
   "source": [
    "r2_score_rf = rf.score(X_test, y_test)\n",
    "print('The R2 score is: ', r2_score_rf)"
   ]
  },
  {
   "attachments": {},
   "cell_type": "markdown",
   "metadata": {},
   "source": [
    "---"
   ]
  },
  {
   "attachments": {},
   "cell_type": "markdown",
   "metadata": {},
   "source": [
    "# Desicion Tree Regression model"
   ]
  },
  {
   "cell_type": "code",
   "execution_count": 196,
   "metadata": {},
   "outputs": [
    {
     "data": {
      "text/html": [
       "<style>#sk-container-id-2 {color: black;background-color: white;}#sk-container-id-2 pre{padding: 0;}#sk-container-id-2 div.sk-toggleable {background-color: white;}#sk-container-id-2 label.sk-toggleable__label {cursor: pointer;display: block;width: 100%;margin-bottom: 0;padding: 0.3em;box-sizing: border-box;text-align: center;}#sk-container-id-2 label.sk-toggleable__label-arrow:before {content: \"▸\";float: left;margin-right: 0.25em;color: #696969;}#sk-container-id-2 label.sk-toggleable__label-arrow:hover:before {color: black;}#sk-container-id-2 div.sk-estimator:hover label.sk-toggleable__label-arrow:before {color: black;}#sk-container-id-2 div.sk-toggleable__content {max-height: 0;max-width: 0;overflow: hidden;text-align: left;background-color: #f0f8ff;}#sk-container-id-2 div.sk-toggleable__content pre {margin: 0.2em;color: black;border-radius: 0.25em;background-color: #f0f8ff;}#sk-container-id-2 input.sk-toggleable__control:checked~div.sk-toggleable__content {max-height: 200px;max-width: 100%;overflow: auto;}#sk-container-id-2 input.sk-toggleable__control:checked~label.sk-toggleable__label-arrow:before {content: \"▾\";}#sk-container-id-2 div.sk-estimator input.sk-toggleable__control:checked~label.sk-toggleable__label {background-color: #d4ebff;}#sk-container-id-2 div.sk-label input.sk-toggleable__control:checked~label.sk-toggleable__label {background-color: #d4ebff;}#sk-container-id-2 input.sk-hidden--visually {border: 0;clip: rect(1px 1px 1px 1px);clip: rect(1px, 1px, 1px, 1px);height: 1px;margin: -1px;overflow: hidden;padding: 0;position: absolute;width: 1px;}#sk-container-id-2 div.sk-estimator {font-family: monospace;background-color: #f0f8ff;border: 1px dotted black;border-radius: 0.25em;box-sizing: border-box;margin-bottom: 0.5em;}#sk-container-id-2 div.sk-estimator:hover {background-color: #d4ebff;}#sk-container-id-2 div.sk-parallel-item::after {content: \"\";width: 100%;border-bottom: 1px solid gray;flex-grow: 1;}#sk-container-id-2 div.sk-label:hover label.sk-toggleable__label {background-color: #d4ebff;}#sk-container-id-2 div.sk-serial::before {content: \"\";position: absolute;border-left: 1px solid gray;box-sizing: border-box;top: 0;bottom: 0;left: 50%;z-index: 0;}#sk-container-id-2 div.sk-serial {display: flex;flex-direction: column;align-items: center;background-color: white;padding-right: 0.2em;padding-left: 0.2em;position: relative;}#sk-container-id-2 div.sk-item {position: relative;z-index: 1;}#sk-container-id-2 div.sk-parallel {display: flex;align-items: stretch;justify-content: center;background-color: white;position: relative;}#sk-container-id-2 div.sk-item::before, #sk-container-id-2 div.sk-parallel-item::before {content: \"\";position: absolute;border-left: 1px solid gray;box-sizing: border-box;top: 0;bottom: 0;left: 50%;z-index: -1;}#sk-container-id-2 div.sk-parallel-item {display: flex;flex-direction: column;z-index: 1;position: relative;background-color: white;}#sk-container-id-2 div.sk-parallel-item:first-child::after {align-self: flex-end;width: 50%;}#sk-container-id-2 div.sk-parallel-item:last-child::after {align-self: flex-start;width: 50%;}#sk-container-id-2 div.sk-parallel-item:only-child::after {width: 0;}#sk-container-id-2 div.sk-dashed-wrapped {border: 1px dashed gray;margin: 0 0.4em 0.5em 0.4em;box-sizing: border-box;padding-bottom: 0.4em;background-color: white;}#sk-container-id-2 div.sk-label label {font-family: monospace;font-weight: bold;display: inline-block;line-height: 1.2em;}#sk-container-id-2 div.sk-label-container {text-align: center;}#sk-container-id-2 div.sk-container {/* jupyter's `normalize.less` sets `[hidden] { display: none; }` but bootstrap.min.css set `[hidden] { display: none !important; }` so we also need the `!important` here to be able to override the default hidden behavior on the sphinx rendered scikit-learn.org. See: https://github.com/scikit-learn/scikit-learn/issues/21755 */display: inline-block !important;position: relative;}#sk-container-id-2 div.sk-text-repr-fallback {display: none;}</style><div id=\"sk-container-id-2\" class=\"sk-top-container\"><div class=\"sk-text-repr-fallback\"><pre>DecisionTreeRegressor(max_depth=4, random_state=0)</pre><b>In a Jupyter environment, please rerun this cell to show the HTML representation or trust the notebook. <br />On GitHub, the HTML representation is unable to render, please try loading this page with nbviewer.org.</b></div><div class=\"sk-container\" hidden><div class=\"sk-item\"><div class=\"sk-estimator sk-toggleable\"><input class=\"sk-toggleable__control sk-hidden--visually\" id=\"sk-estimator-id-2\" type=\"checkbox\" checked><label for=\"sk-estimator-id-2\" class=\"sk-toggleable__label sk-toggleable__label-arrow\">DecisionTreeRegressor</label><div class=\"sk-toggleable__content\"><pre>DecisionTreeRegressor(max_depth=4, random_state=0)</pre></div></div></div></div></div>"
      ],
      "text/plain": [
       "DecisionTreeRegressor(max_depth=4, random_state=0)"
      ]
     },
     "execution_count": 196,
     "metadata": {},
     "output_type": "execute_result"
    }
   ],
   "source": [
    "from sklearn.tree import DecisionTreeRegressor\n",
    "dt = DecisionTreeRegressor(max_depth=4, random_state=0) #Creating a decision tree regressor object\n",
    "dt.fit(X_train, y_train) #Fitting the model to the training data"
   ]
  },
  {
   "cell_type": "code",
   "execution_count": 197,
   "metadata": {},
   "outputs": [],
   "source": [
    "y_pred_dt = dt.predict(X_test) #Predicting the test set results"
   ]
  },
  {
   "cell_type": "code",
   "execution_count": 199,
   "metadata": {},
   "outputs": [
    {
     "name": "stdout",
     "output_type": "stream",
     "text": [
      "Mean squared error: 8483.24\n"
     ]
    },
    {
     "data": {
      "image/png": "[encoded data removed]",
      "text/plain": [
       "<Figure size 640x480 with 2 Axes>"
      ]
     },
     "metadata": {},
     "output_type": "display_data"
    }
   ],
   "source": [
    "mse = mean_squared_error(y_test, y_pred_dt)\n",
    "print('Mean squared error: %.2f' % mse)\n",
    "\n",
    "# Plot outputs\n",
    "colors = y_pred_dt\n",
    "\n",
    "plt.scatter(y_test, y_pred_dt, c=colors, alpha=0.8, cmap='viridis')\n",
    "plt.colorbar()\n",
    "plt.title('Random Forest Regression model for total registered nuisance')\n",
    "plt.xlabel('Actual values')\n",
    "plt.ylabel('Predicted values')\n",
    "plt.grid()\n",
    "\n",
    "m, b = np.polyfit(y_test, y_pred_dt, 1)\n",
    "plt.plot(y_test, m*y_test + b, color='red')\n",
    "\n",
    "plt.show()"
   ]
  },
  {
   "attachments": {},
   "cell_type": "markdown",
   "metadata": {},
   "source": [
    "---"
   ]
  },
  {
   "cell_type": "code",
   "execution_count": 144,
   "metadata": {},
   "outputs": [
    {
     "data": {
      "text/html": [
       "<div>\n",
       "<style scoped>\n",
       "    .dataframe tbody tr th:only-of-type {\n",
       "        vertical-align: middle;\n",
       "    }\n",
       "\n",
       "    .dataframe tbody tr th {\n",
       "        vertical-align: top;\n",
       "    }\n",
       "\n",
       "    .dataframe thead th {\n",
       "        text-align: right;\n",
       "    }\n",
       "</style>\n",
       "<table border=\"1\" class=\"dataframe\">\n",
       "  <thead>\n",
       "    <tr style=\"text-align: right;\">\n",
       "      <th></th>\n",
       "      <th>Overlast</th>\n",
       "      <th>Perioden</th>\n",
       "      <th>Regio's</th>\n",
       "      <th>Geregistreerde overlast (aantal)</th>\n",
       "    </tr>\n",
       "  </thead>\n",
       "  <tbody>\n",
       "    <tr>\n",
       "      <th>0</th>\n",
       "      <td>Totaal registraties overlast</td>\n",
       "      <td>2012 januari</td>\n",
       "      <td>Breda</td>\n",
       "      <td>276</td>\n",
       "    </tr>\n",
       "    <tr>\n",
       "      <th>1</th>\n",
       "      <td>Totaal registraties overlast</td>\n",
       "      <td>2012 februari</td>\n",
       "      <td>Breda</td>\n",
       "      <td>277</td>\n",
       "    </tr>\n",
       "    <tr>\n",
       "      <th>2</th>\n",
       "      <td>Totaal registraties overlast</td>\n",
       "      <td>2012 maart</td>\n",
       "      <td>Breda</td>\n",
       "      <td>313</td>\n",
       "    </tr>\n",
       "    <tr>\n",
       "      <th>3</th>\n",
       "      <td>Totaal registraties overlast</td>\n",
       "      <td>2012 april</td>\n",
       "      <td>Breda</td>\n",
       "      <td>242</td>\n",
       "    </tr>\n",
       "    <tr>\n",
       "      <th>4</th>\n",
       "      <td>Totaal registraties overlast</td>\n",
       "      <td>2012 mei</td>\n",
       "      <td>Breda</td>\n",
       "      <td>402</td>\n",
       "    </tr>\n",
       "    <tr>\n",
       "      <th>...</th>\n",
       "      <td>...</td>\n",
       "      <td>...</td>\n",
       "      <td>...</td>\n",
       "      <td>...</td>\n",
       "    </tr>\n",
       "    <tr>\n",
       "      <th>1219</th>\n",
       "      <td>Geluidshinder overig</td>\n",
       "      <td>2022 december</td>\n",
       "      <td>Breda</td>\n",
       "      <td>92</td>\n",
       "    </tr>\n",
       "    <tr>\n",
       "      <th>1220</th>\n",
       "      <td>Geluidshinder overig</td>\n",
       "      <td>2023 januari</td>\n",
       "      <td>Breda</td>\n",
       "      <td>113</td>\n",
       "    </tr>\n",
       "    <tr>\n",
       "      <th>1221</th>\n",
       "      <td>Geluidshinder overig</td>\n",
       "      <td>2023 februari</td>\n",
       "      <td>Breda</td>\n",
       "      <td>88</td>\n",
       "    </tr>\n",
       "    <tr>\n",
       "      <th>1222</th>\n",
       "      <td>Geluidshinder overig</td>\n",
       "      <td>2023 maart</td>\n",
       "      <td>Breda</td>\n",
       "      <td>82</td>\n",
       "    </tr>\n",
       "    <tr>\n",
       "      <th>1223</th>\n",
       "      <td>Geluidshinder overig</td>\n",
       "      <td>2023 april</td>\n",
       "      <td>Breda</td>\n",
       "      <td>96</td>\n",
       "    </tr>\n",
       "  </tbody>\n",
       "</table>\n",
       "<p>1224 rows × 4 columns</p>\n",
       "</div>"
      ],
      "text/plain": [
       "                          Overlast       Perioden Regio's  \\\n",
       "0     Totaal registraties overlast   2012 januari   Breda   \n",
       "1     Totaal registraties overlast  2012 februari   Breda   \n",
       "2     Totaal registraties overlast     2012 maart   Breda   \n",
       "3     Totaal registraties overlast     2012 april   Breda   \n",
       "4     Totaal registraties overlast       2012 mei   Breda   \n",
       "...                            ...            ...     ...   \n",
       "1219          Geluidshinder overig  2022 december   Breda   \n",
       "1220          Geluidshinder overig   2023 januari   Breda   \n",
       "1221          Geluidshinder overig  2023 februari   Breda   \n",
       "1222          Geluidshinder overig     2023 maart   Breda   \n",
       "1223          Geluidshinder overig     2023 april   Breda   \n",
       "\n",
       "      Geregistreerde overlast (aantal)  \n",
       "0                                  276  \n",
       "1                                  277  \n",
       "2                                  313  \n",
       "3                                  242  \n",
       "4                                  402  \n",
       "...                                ...  \n",
       "1219                                92  \n",
       "1220                               113  \n",
       "1221                                88  \n",
       "1222                                82  \n",
       "1223                                96  \n",
       "\n",
       "[1224 rows x 4 columns]"
      ]
     },
     "execution_count": 144,
     "metadata": {},
     "output_type": "execute_result"
    }
   ],
   "source": [
    "registered_nuisance"
   ]
  },
  {
   "cell_type": "code",
   "execution_count": 145,
   "metadata": {},
   "outputs": [
    {
     "data": {
      "text/plain": [
       "array(['Geluidshinder evenement', 'Geluidshinder horeca',\n",
       "       'Geluidshinder overig', 'Melding overlast jeugd',\n",
       "       'Openbare dronkenschap', 'Overlast door verward persoon',\n",
       "       'Overlast ivm alcohol/ drugs', 'Overlast zwervers',\n",
       "       'Totaal registraties overlast'], dtype=object)"
      ]
     },
     "execution_count": 145,
     "metadata": {},
     "output_type": "execute_result"
    }
   ],
   "source": [
    "#unique values in \"Overlast\" column\n",
    "np.unique(registered_nuisance['Overlast'])"
   ]
  },
  {
   "cell_type": "code",
   "execution_count": 157,
   "metadata": {},
   "outputs": [],
   "source": [
    "n_ge = np.array(geluidshinder_overig['Geregistreerde overlast (aantal)'])"
   ]
  },
  {
   "cell_type": "code",
   "execution_count": 158,
   "metadata": {},
   "outputs": [
    {
     "data": {
      "text/plain": [
       "array([ 73,  57,  76,  71, 121, 116,  94, 128, 123,  75,  76,  89,  72,\n",
       "        49,  71, 101,  91, 144, 121, 164, 120,  98,  74,  93,  76,  77,\n",
       "        70,  91, 130, 178, 142, 133, 160, 118, 115,  66,  93,  94,  83,\n",
       "       103, 141, 153, 197, 149,  99,  99, 105, 129, 124,  82, 106, 124,\n",
       "       151, 184, 194, 145, 143, 114, 101,  98,  77,  80,  60,  96, 118,\n",
       "       176, 133, 109,  80,  97,  85,  85,  90,  90,  93, 102, 109, 110,\n",
       "       119, 132,  91,  90,  57,  73,  70,  78,  60, 105,  92, 115, 113,\n",
       "        87,  71,  68,  53,  68,  81,  89,  80, 156, 195, 161, 186, 197,\n",
       "       147, 118, 134, 162, 224, 256, 187, 238, 248, 336, 323, 335, 284,\n",
       "       225, 212, 234, 232, 179, 117,  94, 140, 156, 202, 188, 129,  99,\n",
       "        91,  92, 113,  88,  82,  96], dtype=int64)"
      ]
     },
     "execution_count": 158,
     "metadata": {},
     "output_type": "execute_result"
    }
   ],
   "source": [
    "n_ge"
   ]
  },
  {
   "cell_type": "code",
   "execution_count": 159,
   "metadata": {},
   "outputs": [],
   "source": [
    "x = n_ge[0:10]\n",
    "y = n_ge[10]"
   ]
  },
  {
   "cell_type": "code",
   "execution_count": 160,
   "metadata": {},
   "outputs": [
    {
     "data": {
      "text/plain": [
       "array([ 73,  57,  76,  71, 121, 116,  94, 128, 123,  75,  76,  89,  72,\n",
       "        49,  71], dtype=int64)"
      ]
     },
     "execution_count": 160,
     "metadata": {},
     "output_type": "execute_result"
    }
   ],
   "source": [
    "n_ge[0:15]"
   ]
  },
  {
   "cell_type": "code",
   "execution_count": 161,
   "metadata": {},
   "outputs": [],
   "source": [
    "X_train = []\n",
    "y_train = []\n",
    "for i in range(100):\n",
    "    X_train.append(n_ge[i:i+x_len])\n",
    "    y_train.append(n_ge[i+x_len])\n",
    "X_train = np.array(X_train)\n",
    "y_train = np.array(y_train)"
   ]
  },
  {
   "cell_type": "code",
   "execution_count": 162,
   "metadata": {},
   "outputs": [],
   "source": [
    "X_test = []\n",
    "y_test = []\n",
    "for i in range(110, len(n) - x_len):\n",
    "    X_test.append(n_ge[i:i+x_len])\n",
    "    y_test.append(n_ge[i+x_len])\n",
    "X_test = np.array(X_test)\n",
    "y_test = np.array(y_test)"
   ]
  },
  {
   "cell_type": "code",
   "execution_count": 163,
   "metadata": {},
   "outputs": [
    {
     "name": "stdout",
     "output_type": "stream",
     "text": [
      "Coefficients: \n",
      " [ 0.15936838  0.09054403  0.07987865 -0.148366    0.14540139 -0.11350737\n",
      "  0.08296817 -0.11208818 -0.00891389  0.84576581]\n",
      "Mean squared error: 1984.96\n"
     ]
    },
    {
     "data": {
      "image/png": "[encoded data removed]",
      "text/plain": [
       "<Figure size 640x480 with 2 Axes>"
      ]
     },
     "metadata": {},
     "output_type": "display_data"
    }
   ],
   "source": [
    "# Create linear regression object\n",
    "lr = LinearRegression()\n",
    "\n",
    "# Train the model using the training sets\n",
    "lr.fit(X_train, y_train)\n",
    "\n",
    "# Make predictions using the testing set\n",
    "y_pred = lr.predict(X_test)\n",
    "\n",
    "# The coefficients\n",
    "print('Coefficients: \\n', lr.coef_)\n",
    "# The mean squared error\n",
    "print('Mean squared error: %.2f'\n",
    "        % mean_squared_error(y_test, y_pred))\n",
    "\n",
    "# Plot outputs\n",
    "colors = y_pred\n",
    "\n",
    "plt.scatter(y_test, y_pred, c=colors, alpha=0.9, cmap='viridis')\n",
    "plt.colorbar();  # show color scale\n",
    "plt.title('Linear Regression Model')\n",
    "plt.xlabel('Actual values')\n",
    "plt.ylabel('Predicted values')\n",
    "plt.grid()\n",
    "#Putting a line in the regression plot\n",
    "m, b = np.polyfit(y_test, y_pred, 1)\n",
    "plt.plot(y_test, m*y_test + b, color='red')\n",
    "\n",
    "plt.show()"
   ]
  }
 ],
 "metadata": {
  "kernelspec": {
   "display_name": "tf_gpu",
   "language": "python",
   "name": "python3"
  },
  "language_info": {
   "codemirror_mode": {
    "name": "ipython",
    "version": 3
   },
   "file_extension": ".py",
   "mimetype": "text/x-python",
   "name": "python",
   "nbconvert_exporter": "python",
   "pygments_lexer": "ipython3",
   "version": "3.9.16"
  },
  "orig_nbformat": 4
 },
 "nbformat": 4,
 "nbformat_minor": 2
}
