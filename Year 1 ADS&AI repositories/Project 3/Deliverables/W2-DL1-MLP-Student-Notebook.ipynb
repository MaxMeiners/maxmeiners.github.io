{
 "cells": [
  {
   "cell_type": "code",
   "execution_count": 1,
   "metadata": {},
   "outputs": [],
   "source": [
    "import pandas as pd\n",
    "import numpy as np\n",
    "import matplotlib.pyplot as plt\n",
    "from tensorflow import keras\n",
    "import tensorflow as tf"
   ]
  },
  {
   "cell_type": "code",
   "execution_count": 2,
   "metadata": {},
   "outputs": [
    {
     "name": "stdout",
     "output_type": "stream",
     "text": [
      "Num GPUs Available:  1\n"
     ]
    }
   ],
   "source": [
    "print(\"Num GPUs Available: \", len(tf.config.list_physical_devices('GPU')))"
   ]
  },
  {
   "cell_type": "code",
   "execution_count": 3,
   "metadata": {},
   "outputs": [],
   "source": [
    "# Enable memory growth for the GPU\n",
    "physical_devices = tf.config.list_physical_devices('GPU')\n",
    "tf.config.experimental.set_memory_growth(physical_devices[-1], enable=True)"
   ]
  },
  {
   "cell_type": "markdown",
   "metadata": {},
   "source": [
    "Multilayer perceptron (MLP) is a fully connected, feedforward neural network architecture. It consists of one input layer, one or more hidden layers, and one output layer. Each layer consists of units (also called neurons, or nodes).\n",
    "\n",
    "Each unit is connected to every unit in a neighboring layer, hence fully connected. This is why in Keras these layers are called `Dense`. Information flows from left to right, hence feedforward.\n",
    "\n",
    "<img src=https://i.imgur.com/BMcpMsH.png width=\"800\">"
   ]
  },
  {
   "cell_type": "markdown",
   "metadata": {},
   "source": [
    "**Learning objectives**\n",
    "\n",
    "At the end of this DataLab, you will be able to build MLPs using Keras for the following problem types:\n",
    "\n",
    " - Regression\n",
    " - Binary classification\n",
    " - Multi-class classification\n",
    " - Multi-label classification\n",
    " \n",
    "For each type, you will be given a suitable dataset. Then you will:\n",
    "\n",
    " - Pre-process the data if needed\n",
    " - Create a `Sequential()` model.\n",
    " - Compile the model by defining a loss function, an optimizer and the metrics to be calculated.\n",
    " - Train the model using the `fit()` method.\n",
    " - Test the model using the `predict()` and `evaluate()` methods.\n",
    " \n",
    " \n",
    " **Notebook contents**\n",
    " \n",
    " 1. Regression\n",
    " 2. Binary classification\n",
    " 3. Multi-class classification\n",
    " 4. Multi-label classification\n",
    " 5. Creative brief"
   ]
  },
  {
   "cell_type": "markdown",
   "metadata": {},
   "source": [
    "## 1. Regression"
   ]
  },
  {
   "cell_type": "markdown",
   "metadata": {},
   "source": [
    "**The dataset**\n",
    "\n",
    "In this task, you will use the diabetes dataset provided by `scikit-learn`.\n",
    "\n",
    "Please read the dataset documentation before you start:\n",
    "\n",
    "https://scikit-learn.org/stable/datasets/toy_dataset.html#diabetes-dataset"
   ]
  },
  {
   "cell_type": "code",
   "execution_count": 4,
   "metadata": {},
   "outputs": [
    {
     "data": {
      "text/html": [
       "<div>\n",
       "<style scoped>\n",
       "    .dataframe tbody tr th:only-of-type {\n",
       "        vertical-align: middle;\n",
       "    }\n",
       "\n",
       "    .dataframe tbody tr th {\n",
       "        vertical-align: top;\n",
       "    }\n",
       "\n",
       "    .dataframe thead th {\n",
       "        text-align: right;\n",
       "    }\n",
       "</style>\n",
       "<table border=\"1\" class=\"dataframe\">\n",
       "  <thead>\n",
       "    <tr style=\"text-align: right;\">\n",
       "      <th></th>\n",
       "      <th>age</th>\n",
       "      <th>sex</th>\n",
       "      <th>bmi</th>\n",
       "      <th>bp</th>\n",
       "      <th>s1</th>\n",
       "      <th>s2</th>\n",
       "      <th>s3</th>\n",
       "      <th>s4</th>\n",
       "      <th>s5</th>\n",
       "      <th>s6</th>\n",
       "      <th>disease progression</th>\n",
       "    </tr>\n",
       "  </thead>\n",
       "  <tbody>\n",
       "    <tr>\n",
       "      <th>0</th>\n",
       "      <td>0.038076</td>\n",
       "      <td>0.050680</td>\n",
       "      <td>0.061696</td>\n",
       "      <td>0.021872</td>\n",
       "      <td>-0.044223</td>\n",
       "      <td>-0.034821</td>\n",
       "      <td>-0.043401</td>\n",
       "      <td>-0.002592</td>\n",
       "      <td>0.019907</td>\n",
       "      <td>-0.017646</td>\n",
       "      <td>151.0</td>\n",
       "    </tr>\n",
       "    <tr>\n",
       "      <th>1</th>\n",
       "      <td>-0.001882</td>\n",
       "      <td>-0.044642</td>\n",
       "      <td>-0.051474</td>\n",
       "      <td>-0.026328</td>\n",
       "      <td>-0.008449</td>\n",
       "      <td>-0.019163</td>\n",
       "      <td>0.074412</td>\n",
       "      <td>-0.039493</td>\n",
       "      <td>-0.068332</td>\n",
       "      <td>-0.092204</td>\n",
       "      <td>75.0</td>\n",
       "    </tr>\n",
       "    <tr>\n",
       "      <th>2</th>\n",
       "      <td>0.085299</td>\n",
       "      <td>0.050680</td>\n",
       "      <td>0.044451</td>\n",
       "      <td>-0.005670</td>\n",
       "      <td>-0.045599</td>\n",
       "      <td>-0.034194</td>\n",
       "      <td>-0.032356</td>\n",
       "      <td>-0.002592</td>\n",
       "      <td>0.002861</td>\n",
       "      <td>-0.025930</td>\n",
       "      <td>141.0</td>\n",
       "    </tr>\n",
       "    <tr>\n",
       "      <th>3</th>\n",
       "      <td>-0.089063</td>\n",
       "      <td>-0.044642</td>\n",
       "      <td>-0.011595</td>\n",
       "      <td>-0.036656</td>\n",
       "      <td>0.012191</td>\n",
       "      <td>0.024991</td>\n",
       "      <td>-0.036038</td>\n",
       "      <td>0.034309</td>\n",
       "      <td>0.022688</td>\n",
       "      <td>-0.009362</td>\n",
       "      <td>206.0</td>\n",
       "    </tr>\n",
       "    <tr>\n",
       "      <th>4</th>\n",
       "      <td>0.005383</td>\n",
       "      <td>-0.044642</td>\n",
       "      <td>-0.036385</td>\n",
       "      <td>0.021872</td>\n",
       "      <td>0.003935</td>\n",
       "      <td>0.015596</td>\n",
       "      <td>0.008142</td>\n",
       "      <td>-0.002592</td>\n",
       "      <td>-0.031988</td>\n",
       "      <td>-0.046641</td>\n",
       "      <td>135.0</td>\n",
       "    </tr>\n",
       "  </tbody>\n",
       "</table>\n",
       "</div>"
      ],
      "text/plain": [
       "        age       sex       bmi        bp        s1        s2        s3  \\\n",
       "0  0.038076  0.050680  0.061696  0.021872 -0.044223 -0.034821 -0.043401   \n",
       "1 -0.001882 -0.044642 -0.051474 -0.026328 -0.008449 -0.019163  0.074412   \n",
       "2  0.085299  0.050680  0.044451 -0.005670 -0.045599 -0.034194 -0.032356   \n",
       "3 -0.089063 -0.044642 -0.011595 -0.036656  0.012191  0.024991 -0.036038   \n",
       "4  0.005383 -0.044642 -0.036385  0.021872  0.003935  0.015596  0.008142   \n",
       "\n",
       "         s4        s5        s6  disease progression  \n",
       "0 -0.002592  0.019907 -0.017646                151.0  \n",
       "1 -0.039493 -0.068332 -0.092204                 75.0  \n",
       "2 -0.002592  0.002861 -0.025930                141.0  \n",
       "3  0.034309  0.022688 -0.009362                206.0  \n",
       "4 -0.002592 -0.031988 -0.046641                135.0  "
      ]
     },
     "execution_count": 4,
     "metadata": {},
     "output_type": "execute_result"
    }
   ],
   "source": [
    "from sklearn import datasets\n",
    "diabetes = datasets.load_diabetes()\n",
    "X = diabetes.data\n",
    "y = diabetes.target\n",
    "names = diabetes.feature_names\n",
    "Xy_combined = np.concatenate((X, y[:, np.newaxis]), axis=1)\n",
    "df = pd.DataFrame(Xy_combined,\n",
    "                  columns=names + ['disease progression'])\n",
    "df.head()"
   ]
  },
  {
   "cell_type": "code",
   "execution_count": 5,
   "metadata": {},
   "outputs": [],
   "source": [
    "from sklearn.model_selection import train_test_split\n",
    "X_train, X_test, y_train, y_test = train_test_split(X,\n",
    "                                                    y,\n",
    "                                                    test_size=0.33,\n",
    "                                                    random_state=0)"
   ]
  },
  {
   "cell_type": "code",
   "execution_count": 6,
   "metadata": {},
   "outputs": [
    {
     "data": {
      "text/plain": [
       "((296, 10), (146, 10), (296,), (146,))"
      ]
     },
     "execution_count": 6,
     "metadata": {},
     "output_type": "execute_result"
    }
   ],
   "source": [
    "X_train.shape, X_test.shape, y_train.shape, y_test.shape"
   ]
  },
  {
   "cell_type": "markdown",
   "metadata": {},
   "source": [
    "**Task 1.1**\n",
    "\n",
    "Build an MLP suitable for the diabetes dataset. Use a `Sequential()` model and `Dense` layers from Keras. You are free to pick any number of hidden layers and any number of units per layer as long as it works.  Use suitable activation functions."
   ]
  },
  {
   "cell_type": "code",
   "execution_count": 7,
   "metadata": {},
   "outputs": [],
   "source": [
    "from tensorflow.keras.models import Sequential\n",
    "from tensorflow.keras.layers import Dense\n",
    "\n",
    "model = Sequential()\n",
    "model.add(Dense(128, input_shape=(10,), activation='relu'))\n",
    "model.add(Dense(64, activation='relu'))\n",
    "model.add(Dense(32, activation='relu'))\n",
    "model.add(Dense(1, activation='linear'))"
   ]
  },
  {
   "cell_type": "markdown",
   "metadata": {},
   "source": [
    "**Task 1.2**\n",
    "Using `model.compile()`, compile the model. Select a suitable optimizer and a suitable loss function. Also include a metric or metrics."
   ]
  },
  {
   "cell_type": "code",
   "execution_count": 8,
   "metadata": {},
   "outputs": [],
   "source": [
    "model.compile(loss='mean_squared_error',\n",
    "              optimizer='adam',\n",
    "              metrics=['mse'])"
   ]
  },
  {
   "cell_type": "markdown",
   "metadata": {},
   "source": [
    "**Task 1.3** Using `model.fit()` Train the model on X_train, y_train and use X_test, y_test as validation data. Pick a suitable number of epochs and batch size."
   ]
  },
  {
   "cell_type": "code",
   "execution_count": 9,
   "metadata": {},
   "outputs": [
    {
     "name": "stdout",
     "output_type": "stream",
     "text": [
      "Epoch 1/20\n",
      "10/10 [==============================] - 1s 14ms/step - loss: 29127.9023 - mse: 29127.9023 - val_loss: 28931.4512 - val_mse: 28931.4512\n",
      "Epoch 2/20\n",
      "10/10 [==============================] - 0s 3ms/step - loss: 29099.1152 - mse: 29099.1152 - val_loss: 28891.2012 - val_mse: 28891.2012\n",
      "Epoch 3/20\n",
      "10/10 [==============================] - 0s 3ms/step - loss: 29045.8418 - mse: 29045.8418 - val_loss: 28808.2266 - val_mse: 28808.2266\n",
      "Epoch 4/20\n",
      "10/10 [==============================] - 0s 3ms/step - loss: 28931.7500 - mse: 28931.7500 - val_loss: 28632.1855 - val_mse: 28632.1855\n",
      "Epoch 5/20\n",
      "10/10 [==============================] - 0s 3ms/step - loss: 28691.4805 - mse: 28691.4805 - val_loss: 28279.7988 - val_mse: 28279.7988\n",
      "Epoch 6/20\n",
      "10/10 [==============================] - 0s 3ms/step - loss: 28229.3184 - mse: 28229.3184 - val_loss: 27621.8652 - val_mse: 27621.8652\n",
      "Epoch 7/20\n",
      "10/10 [==============================] - 0s 3ms/step - loss: 27398.8184 - mse: 27398.8184 - val_loss: 26484.6035 - val_mse: 26484.6035\n",
      "Epoch 8/20\n",
      "10/10 [==============================] - 0s 3ms/step - loss: 26026.1699 - mse: 26026.1699 - val_loss: 24666.6738 - val_mse: 24666.6738\n",
      "Epoch 9/20\n",
      "10/10 [==============================] - 0s 3ms/step - loss: 23833.0938 - mse: 23833.0938 - val_loss: 21978.2852 - val_mse: 21978.2852\n",
      "Epoch 10/20\n",
      "10/10 [==============================] - 0s 3ms/step - loss: 20769.7754 - mse: 20769.7754 - val_loss: 18331.0762 - val_mse: 18331.0762\n",
      "Epoch 11/20\n",
      "10/10 [==============================] - 0s 3ms/step - loss: 16836.0117 - mse: 16836.0117 - val_loss: 13938.4160 - val_mse: 13938.4160\n",
      "Epoch 12/20\n",
      "10/10 [==============================] - 0s 3ms/step - loss: 12338.6523 - mse: 12338.6523 - val_loss: 9399.0205 - val_mse: 9399.0205\n",
      "Epoch 13/20\n",
      "10/10 [==============================] - 0s 3ms/step - loss: 8245.4229 - mse: 8245.4229 - val_loss: 5774.9902 - val_mse: 5774.9902\n",
      "Epoch 14/20\n",
      "10/10 [==============================] - 0s 3ms/step - loss: 5270.0483 - mse: 5270.0483 - val_loss: 4087.3416 - val_mse: 4087.3416\n",
      "Epoch 15/20\n",
      "10/10 [==============================] - 0s 3ms/step - loss: 4278.9766 - mse: 4278.9766 - val_loss: 3783.9602 - val_mse: 3783.9602\n",
      "Epoch 16/20\n",
      "10/10 [==============================] - 0s 3ms/step - loss: 4272.9912 - mse: 4272.9912 - val_loss: 3814.4421 - val_mse: 3814.4421\n",
      "Epoch 17/20\n",
      "10/10 [==============================] - 0s 3ms/step - loss: 4137.4683 - mse: 4137.4683 - val_loss: 3666.6416 - val_mse: 3666.6416\n",
      "Epoch 18/20\n",
      "10/10 [==============================] - 0s 3ms/step - loss: 3952.4851 - mse: 3952.4851 - val_loss: 3552.1785 - val_mse: 3552.1785\n",
      "Epoch 19/20\n",
      "10/10 [==============================] - 0s 3ms/step - loss: 3852.9114 - mse: 3852.9114 - val_loss: 3511.9211 - val_mse: 3511.9211\n",
      "Epoch 20/20\n",
      "10/10 [==============================] - 0s 3ms/step - loss: 3773.6001 - mse: 3773.6001 - val_loss: 3457.2402 - val_mse: 3457.2402\n"
     ]
    },
    {
     "data": {
      "text/plain": [
       "<keras.callbacks.History at 0x2249bc57460>"
      ]
     },
     "execution_count": 9,
     "metadata": {},
     "output_type": "execute_result"
    }
   ],
   "source": [
    "model.fit(X_train, y_train, epochs=20, batch_size=32,\n",
    "          validation_data=(X_test, y_test))"
   ]
  },
  {
   "cell_type": "markdown",
   "metadata": {},
   "source": [
    "**Task 1.4** Evaluate the model using `model.evaluate()`."
   ]
  },
  {
   "cell_type": "code",
   "execution_count": 10,
   "metadata": {},
   "outputs": [
    {
     "name": "stdout",
     "output_type": "stream",
     "text": [
      "5/5 [==============================] - 0s 1000us/step - loss: 3457.2402 - mse: 3457.2402\n"
     ]
    },
    {
     "data": {
      "text/plain": [
       "[3457.240234375, 3457.240234375]"
      ]
     },
     "execution_count": 10,
     "metadata": {},
     "output_type": "execute_result"
    }
   ],
   "source": [
    "model.evaluate(X_test, y_test)"
   ]
  },
  {
   "cell_type": "code",
   "execution_count": 11,
   "metadata": {},
   "outputs": [
    {
     "data": {
      "text/plain": [
       "((296, 10), (146, 10), (296,), (146,))"
      ]
     },
     "execution_count": 11,
     "metadata": {},
     "output_type": "execute_result"
    }
   ],
   "source": [
    "X_train.shape, X_test.shape, y_train.shape, y_test.shape"
   ]
  },
  {
   "cell_type": "markdown",
   "metadata": {},
   "source": [
    "**Task 1.5** Get predictions on `X_test`. Plot `y_test` vs. predictions. On the same plot, plot a $x = y$ line. Think about what this line represents."
   ]
  },
  {
   "cell_type": "code",
   "execution_count": 12,
   "metadata": {},
   "outputs": [
    {
     "data": {
      "image/png": "[encoded data removed]",
      "text/plain": [
       "<Figure size 640x480 with 2 Axes>"
      ]
     },
     "metadata": {},
     "output_type": "display_data"
    }
   ],
   "source": [
    "preds = model.predict(X_test)\n",
    "\n",
    "colors = preds # color by predicted value\n",
    "plt.scatter(y_test, preds, c=colors, cmap='viridis', vmin=0, vmax=350)\n",
    "plt.colorbar()  # show color scale\n",
    "plt.plot([0, 350], [0, 350], '--', color='red') # perfect prediction line\n",
    "plt.xlabel('True Values') # x-axis label\n",
    "plt.ylabel('Predictions') # y-axis label\n",
    "plt.grid() # show grid"
   ]
  },
  {
   "cell_type": "markdown",
   "metadata": {},
   "source": [
    "## 2. Binary classification"
   ]
  },
  {
   "cell_type": "markdown",
   "metadata": {},
   "source": [
    "**The dataset**\n",
    "\n",
    "In this task, you will use the breast cancer dataset provided by `scikit-learn`.\n",
    "\n",
    "Please read the dataset documentation before you start:\n",
    "\n",
    "https://scikit-learn.org/stable/datasets/toy_dataset.html#breast-cancer-dataset"
   ]
  },
  {
   "cell_type": "code",
   "execution_count": 13,
   "metadata": {},
   "outputs": [
    {
     "data": {
      "text/html": [
       "<div>\n",
       "<style scoped>\n",
       "    .dataframe tbody tr th:only-of-type {\n",
       "        vertical-align: middle;\n",
       "    }\n",
       "\n",
       "    .dataframe tbody tr th {\n",
       "        vertical-align: top;\n",
       "    }\n",
       "\n",
       "    .dataframe thead th {\n",
       "        text-align: right;\n",
       "    }\n",
       "</style>\n",
       "<table border=\"1\" class=\"dataframe\">\n",
       "  <thead>\n",
       "    <tr style=\"text-align: right;\">\n",
       "      <th></th>\n",
       "      <th>mean radius</th>\n",
       "      <th>mean texture</th>\n",
       "      <th>mean perimeter</th>\n",
       "      <th>mean area</th>\n",
       "      <th>mean smoothness</th>\n",
       "      <th>mean compactness</th>\n",
       "      <th>mean concavity</th>\n",
       "      <th>mean concave points</th>\n",
       "      <th>mean symmetry</th>\n",
       "      <th>mean fractal dimension</th>\n",
       "      <th>...</th>\n",
       "      <th>worst texture</th>\n",
       "      <th>worst perimeter</th>\n",
       "      <th>worst area</th>\n",
       "      <th>worst smoothness</th>\n",
       "      <th>worst compactness</th>\n",
       "      <th>worst concavity</th>\n",
       "      <th>worst concave points</th>\n",
       "      <th>worst symmetry</th>\n",
       "      <th>worst fractal dimension</th>\n",
       "      <th>Benign</th>\n",
       "    </tr>\n",
       "  </thead>\n",
       "  <tbody>\n",
       "    <tr>\n",
       "      <th>0</th>\n",
       "      <td>17.99</td>\n",
       "      <td>10.38</td>\n",
       "      <td>122.80</td>\n",
       "      <td>1001.0</td>\n",
       "      <td>0.11840</td>\n",
       "      <td>0.27760</td>\n",
       "      <td>0.3001</td>\n",
       "      <td>0.14710</td>\n",
       "      <td>0.2419</td>\n",
       "      <td>0.07871</td>\n",
       "      <td>...</td>\n",
       "      <td>17.33</td>\n",
       "      <td>184.60</td>\n",
       "      <td>2019.0</td>\n",
       "      <td>0.1622</td>\n",
       "      <td>0.6656</td>\n",
       "      <td>0.7119</td>\n",
       "      <td>0.2654</td>\n",
       "      <td>0.4601</td>\n",
       "      <td>0.11890</td>\n",
       "      <td>0.0</td>\n",
       "    </tr>\n",
       "    <tr>\n",
       "      <th>1</th>\n",
       "      <td>20.57</td>\n",
       "      <td>17.77</td>\n",
       "      <td>132.90</td>\n",
       "      <td>1326.0</td>\n",
       "      <td>0.08474</td>\n",
       "      <td>0.07864</td>\n",
       "      <td>0.0869</td>\n",
       "      <td>0.07017</td>\n",
       "      <td>0.1812</td>\n",
       "      <td>0.05667</td>\n",
       "      <td>...</td>\n",
       "      <td>23.41</td>\n",
       "      <td>158.80</td>\n",
       "      <td>1956.0</td>\n",
       "      <td>0.1238</td>\n",
       "      <td>0.1866</td>\n",
       "      <td>0.2416</td>\n",
       "      <td>0.1860</td>\n",
       "      <td>0.2750</td>\n",
       "      <td>0.08902</td>\n",
       "      <td>0.0</td>\n",
       "    </tr>\n",
       "    <tr>\n",
       "      <th>2</th>\n",
       "      <td>19.69</td>\n",
       "      <td>21.25</td>\n",
       "      <td>130.00</td>\n",
       "      <td>1203.0</td>\n",
       "      <td>0.10960</td>\n",
       "      <td>0.15990</td>\n",
       "      <td>0.1974</td>\n",
       "      <td>0.12790</td>\n",
       "      <td>0.2069</td>\n",
       "      <td>0.05999</td>\n",
       "      <td>...</td>\n",
       "      <td>25.53</td>\n",
       "      <td>152.50</td>\n",
       "      <td>1709.0</td>\n",
       "      <td>0.1444</td>\n",
       "      <td>0.4245</td>\n",
       "      <td>0.4504</td>\n",
       "      <td>0.2430</td>\n",
       "      <td>0.3613</td>\n",
       "      <td>0.08758</td>\n",
       "      <td>0.0</td>\n",
       "    </tr>\n",
       "    <tr>\n",
       "      <th>3</th>\n",
       "      <td>11.42</td>\n",
       "      <td>20.38</td>\n",
       "      <td>77.58</td>\n",
       "      <td>386.1</td>\n",
       "      <td>0.14250</td>\n",
       "      <td>0.28390</td>\n",
       "      <td>0.2414</td>\n",
       "      <td>0.10520</td>\n",
       "      <td>0.2597</td>\n",
       "      <td>0.09744</td>\n",
       "      <td>...</td>\n",
       "      <td>26.50</td>\n",
       "      <td>98.87</td>\n",
       "      <td>567.7</td>\n",
       "      <td>0.2098</td>\n",
       "      <td>0.8663</td>\n",
       "      <td>0.6869</td>\n",
       "      <td>0.2575</td>\n",
       "      <td>0.6638</td>\n",
       "      <td>0.17300</td>\n",
       "      <td>0.0</td>\n",
       "    </tr>\n",
       "    <tr>\n",
       "      <th>4</th>\n",
       "      <td>20.29</td>\n",
       "      <td>14.34</td>\n",
       "      <td>135.10</td>\n",
       "      <td>1297.0</td>\n",
       "      <td>0.10030</td>\n",
       "      <td>0.13280</td>\n",
       "      <td>0.1980</td>\n",
       "      <td>0.10430</td>\n",
       "      <td>0.1809</td>\n",
       "      <td>0.05883</td>\n",
       "      <td>...</td>\n",
       "      <td>16.67</td>\n",
       "      <td>152.20</td>\n",
       "      <td>1575.0</td>\n",
       "      <td>0.1374</td>\n",
       "      <td>0.2050</td>\n",
       "      <td>0.4000</td>\n",
       "      <td>0.1625</td>\n",
       "      <td>0.2364</td>\n",
       "      <td>0.07678</td>\n",
       "      <td>0.0</td>\n",
       "    </tr>\n",
       "  </tbody>\n",
       "</table>\n",
       "<p>5 rows × 31 columns</p>\n",
       "</div>"
      ],
      "text/plain": [
       "   mean radius  mean texture  mean perimeter  mean area  mean smoothness  \\\n",
       "0        17.99         10.38          122.80     1001.0          0.11840   \n",
       "1        20.57         17.77          132.90     1326.0          0.08474   \n",
       "2        19.69         21.25          130.00     1203.0          0.10960   \n",
       "3        11.42         20.38           77.58      386.1          0.14250   \n",
       "4        20.29         14.34          135.10     1297.0          0.10030   \n",
       "\n",
       "   mean compactness  mean concavity  mean concave points  mean symmetry  \\\n",
       "0           0.27760          0.3001              0.14710         0.2419   \n",
       "1           0.07864          0.0869              0.07017         0.1812   \n",
       "2           0.15990          0.1974              0.12790         0.2069   \n",
       "3           0.28390          0.2414              0.10520         0.2597   \n",
       "4           0.13280          0.1980              0.10430         0.1809   \n",
       "\n",
       "   mean fractal dimension  ...  worst texture  worst perimeter  worst area  \\\n",
       "0                 0.07871  ...          17.33           184.60      2019.0   \n",
       "1                 0.05667  ...          23.41           158.80      1956.0   \n",
       "2                 0.05999  ...          25.53           152.50      1709.0   \n",
       "3                 0.09744  ...          26.50            98.87       567.7   \n",
       "4                 0.05883  ...          16.67           152.20      1575.0   \n",
       "\n",
       "   worst smoothness  worst compactness  worst concavity  worst concave points  \\\n",
       "0            0.1622             0.6656           0.7119                0.2654   \n",
       "1            0.1238             0.1866           0.2416                0.1860   \n",
       "2            0.1444             0.4245           0.4504                0.2430   \n",
       "3            0.2098             0.8663           0.6869                0.2575   \n",
       "4            0.1374             0.2050           0.4000                0.1625   \n",
       "\n",
       "   worst symmetry  worst fractal dimension  Benign  \n",
       "0          0.4601                  0.11890     0.0  \n",
       "1          0.2750                  0.08902     0.0  \n",
       "2          0.3613                  0.08758     0.0  \n",
       "3          0.6638                  0.17300     0.0  \n",
       "4          0.2364                  0.07678     0.0  \n",
       "\n",
       "[5 rows x 31 columns]"
      ]
     },
     "execution_count": 13,
     "metadata": {},
     "output_type": "execute_result"
    }
   ],
   "source": [
    "from sklearn.datasets import load_breast_cancer\n",
    "cancer = load_breast_cancer()\n",
    "X = cancer.data\n",
    "y = cancer.target\n",
    "names = list(cancer.feature_names)\n",
    "Xy_combined = np.concatenate((X, y[:, np.newaxis]), axis=1)\n",
    "df = pd.DataFrame(Xy_combined,\n",
    "                  columns=names + ['Benign'])\n",
    "df.head()"
   ]
  },
  {
   "cell_type": "code",
   "execution_count": 14,
   "metadata": {},
   "outputs": [],
   "source": [
    "from sklearn.model_selection import train_test_split\n",
    "X_train, X_test, y_train, y_test = train_test_split(X,\n",
    "                                                    y,\n",
    "                                                    test_size=0.33,\n",
    "                                                    random_state=0)"
   ]
  },
  {
   "cell_type": "code",
   "execution_count": 15,
   "metadata": {},
   "outputs": [
    {
     "data": {
      "text/plain": [
       "((381, 30), (188, 30), (381,), (188,))"
      ]
     },
     "execution_count": 15,
     "metadata": {},
     "output_type": "execute_result"
    }
   ],
   "source": [
    "X_train.shape, X_test.shape, y_train.shape, y_test.shape"
   ]
  },
  {
   "cell_type": "markdown",
   "metadata": {},
   "source": [
    "**Task 2.1**\n",
    "\n",
    "Build an MLP suitable for the breast cancer dataset. Use a `Sequential()` model and `Dense` layers from Keras. You are free to pick any number of hidden layers and any number of units per layer as long as it works. Use suitable activation functions."
   ]
  },
  {
   "cell_type": "code",
   "execution_count": 16,
   "metadata": {},
   "outputs": [],
   "source": [
    "model = Sequential()\n",
    "\n",
    "model.add(Dense(128, input_shape=(30,), activation='relu'))\n",
    "model.add(Dense(64, activation='relu'))\n",
    "model.add(Dense(32, activation='relu'))\n",
    "model.add(Dense(1, activation='sigmoid'))"
   ]
  },
  {
   "cell_type": "markdown",
   "metadata": {},
   "source": [
    "**Task 2.2**\n",
    "\n",
    "Compile the model by selecting a suitable optimizer and a suitable loss function. Also include a metric or metrics."
   ]
  },
  {
   "cell_type": "code",
   "execution_count": 17,
   "metadata": {},
   "outputs": [],
   "source": [
    "model.compile(loss='binary_crossentropy',\n",
    "              optimizer='adam',\n",
    "              metrics=['accuracy'])"
   ]
  },
  {
   "cell_type": "markdown",
   "metadata": {},
   "source": [
    "**Task 2.3**\n",
    "\n",
    "Train the model on X_train, y_train and use X_test, y_test as validation data. Pick a suitable number of epochs and batch size."
   ]
  },
  {
   "cell_type": "code",
   "execution_count": 18,
   "metadata": {},
   "outputs": [
    {
     "name": "stdout",
     "output_type": "stream",
     "text": [
      "Epoch 1/20\n",
      "12/12 [==============================] - 0s 12ms/step - loss: 6.6455 - accuracy: 0.4619 - val_loss: 2.8703 - val_accuracy: 0.7128\n",
      "Epoch 2/20\n",
      "12/12 [==============================] - 0s 3ms/step - loss: 0.8537 - accuracy: 0.7717 - val_loss: 0.7495 - val_accuracy: 0.8883\n",
      "Epoch 3/20\n",
      "12/12 [==============================] - 0s 4ms/step - loss: 0.3642 - accuracy: 0.8950 - val_loss: 0.4565 - val_accuracy: 0.9043\n",
      "Epoch 4/20\n",
      "12/12 [==============================] - 0s 4ms/step - loss: 0.3517 - accuracy: 0.8871 - val_loss: 0.3740 - val_accuracy: 0.9149\n",
      "Epoch 5/20\n",
      "12/12 [==============================] - 0s 3ms/step - loss: 0.3227 - accuracy: 0.9055 - val_loss: 0.2228 - val_accuracy: 0.9362\n",
      "Epoch 6/20\n",
      "12/12 [==============================] - 0s 3ms/step - loss: 0.3006 - accuracy: 0.9108 - val_loss: 0.2715 - val_accuracy: 0.8830\n",
      "Epoch 7/20\n",
      "12/12 [==============================] - 0s 4ms/step - loss: 0.2311 - accuracy: 0.9081 - val_loss: 0.2780 - val_accuracy: 0.8883\n",
      "Epoch 8/20\n",
      "12/12 [==============================] - 0s 4ms/step - loss: 0.2644 - accuracy: 0.9081 - val_loss: 0.3076 - val_accuracy: 0.8777\n",
      "Epoch 9/20\n",
      "12/12 [==============================] - 0s 4ms/step - loss: 0.2414 - accuracy: 0.9081 - val_loss: 0.1990 - val_accuracy: 0.9309\n",
      "Epoch 10/20\n",
      "12/12 [==============================] - 0s 3ms/step - loss: 0.2612 - accuracy: 0.8950 - val_loss: 0.1759 - val_accuracy: 0.9468\n",
      "Epoch 11/20\n",
      "12/12 [==============================] - 0s 3ms/step - loss: 0.2577 - accuracy: 0.8950 - val_loss: 0.2439 - val_accuracy: 0.9309\n",
      "Epoch 12/20\n",
      "12/12 [==============================] - 0s 3ms/step - loss: 0.2845 - accuracy: 0.8976 - val_loss: 0.1768 - val_accuracy: 0.9468\n",
      "Epoch 13/20\n",
      "12/12 [==============================] - 0s 3ms/step - loss: 0.3974 - accuracy: 0.8766 - val_loss: 0.2684 - val_accuracy: 0.8883\n",
      "Epoch 14/20\n",
      "12/12 [==============================] - 0s 3ms/step - loss: 0.2825 - accuracy: 0.9029 - val_loss: 0.1976 - val_accuracy: 0.9255\n",
      "Epoch 15/20\n",
      "12/12 [==============================] - 0s 3ms/step - loss: 0.2712 - accuracy: 0.8950 - val_loss: 0.2413 - val_accuracy: 0.9096\n",
      "Epoch 16/20\n",
      "12/12 [==============================] - 0s 3ms/step - loss: 0.2291 - accuracy: 0.9055 - val_loss: 0.6449 - val_accuracy: 0.8564\n",
      "Epoch 17/20\n",
      "12/12 [==============================] - 0s 3ms/step - loss: 0.3437 - accuracy: 0.8871 - val_loss: 0.4958 - val_accuracy: 0.8298\n",
      "Epoch 18/20\n",
      "12/12 [==============================] - 0s 4ms/step - loss: 0.3960 - accuracy: 0.8766 - val_loss: 0.2150 - val_accuracy: 0.9415\n",
      "Epoch 19/20\n",
      "12/12 [==============================] - 0s 3ms/step - loss: 0.4187 - accuracy: 0.8819 - val_loss: 0.2365 - val_accuracy: 0.9415\n",
      "Epoch 20/20\n",
      "12/12 [==============================] - 0s 3ms/step - loss: 0.2750 - accuracy: 0.9081 - val_loss: 0.1821 - val_accuracy: 0.9521\n"
     ]
    },
    {
     "data": {
      "text/plain": [
       "<keras.callbacks.History at 0x224c8010130>"
      ]
     },
     "execution_count": 18,
     "metadata": {},
     "output_type": "execute_result"
    }
   ],
   "source": [
    "model.fit(X_train, y_train, epochs=20, batch_size=32,\n",
    "          validation_data=(X_test, y_test))"
   ]
  },
  {
   "cell_type": "markdown",
   "metadata": {},
   "source": [
    "**Task 2.4**\n",
    "\n",
    "Evaluate the model using `model.evaluate()`."
   ]
  },
  {
   "cell_type": "code",
   "execution_count": 19,
   "metadata": {},
   "outputs": [
    {
     "name": "stdout",
     "output_type": "stream",
     "text": [
      "6/6 [==============================] - 0s 1ms/step - loss: 0.1821 - accuracy: 0.9521\n"
     ]
    },
    {
     "data": {
      "text/plain": [
       "[0.1821489781141281, 0.9521276354789734]"
      ]
     },
     "execution_count": 19,
     "metadata": {},
     "output_type": "execute_result"
    }
   ],
   "source": [
    "model.evaluate(X_test, y_test)"
   ]
  },
  {
   "cell_type": "markdown",
   "metadata": {},
   "source": [
    "**Task 2.5**\n",
    "\n",
    "Plot the confusion matrix for your trained model on the test set."
   ]
  },
  {
   "cell_type": "code",
   "execution_count": 20,
   "metadata": {},
   "outputs": [
    {
     "data": {
      "image/png": "[encoded data removed]",
      "text/plain": [
       "<Figure size 640x480 with 2 Axes>"
      ]
     },
     "metadata": {},
     "output_type": "display_data"
    }
   ],
   "source": [
    "from sklearn.metrics import ConfusionMatrixDisplay\n",
    "from sklearn.metrics import confusion_matrix\n",
    "import matplotlib.pyplot as plt\n",
    "\n",
    "y_pred = model.predict(X_test)\n",
    "y_pred = np.round(y_pred)\n",
    "\n",
    "cm = confusion_matrix(y_test, y_pred)\n",
    "disp = ConfusionMatrixDisplay(confusion_matrix=cm,\n",
    "                                display_labels=['Malignant', 'Benign'])\n",
    "disp.plot()\n",
    "plt.show()"
   ]
  },
  {
   "cell_type": "code",
   "execution_count": 21,
   "metadata": {},
   "outputs": [
    {
     "name": "stdout",
     "output_type": "stream",
     "text": [
      "[[0.]\n",
      " [1.]\n",
      " [1.]\n",
      " [1.]\n",
      " [1.]\n",
      " [1.]\n",
      " [1.]\n",
      " [1.]\n",
      " [1.]\n",
      " [1.]\n",
      " [1.]\n",
      " [1.]\n",
      " [1.]\n",
      " [0.]\n",
      " [1.]\n",
      " [0.]\n",
      " [1.]\n",
      " [0.]\n",
      " [0.]\n",
      " [0.]\n",
      " [0.]\n",
      " [0.]\n",
      " [1.]\n",
      " [1.]\n",
      " [0.]\n",
      " [1.]\n",
      " [1.]\n",
      " [1.]\n",
      " [1.]\n",
      " [0.]\n",
      " [1.]\n",
      " [0.]\n",
      " [1.]\n",
      " [0.]\n",
      " [1.]\n",
      " [0.]\n",
      " [1.]\n",
      " [0.]\n",
      " [1.]\n",
      " [0.]\n",
      " [0.]\n",
      " [1.]\n",
      " [0.]\n",
      " [1.]\n",
      " [1.]\n",
      " [0.]\n",
      " [1.]\n",
      " [1.]\n",
      " [1.]\n",
      " [0.]\n",
      " [0.]\n",
      " [1.]\n",
      " [0.]\n",
      " [1.]\n",
      " [1.]\n",
      " [1.]\n",
      " [1.]\n",
      " [1.]\n",
      " [1.]\n",
      " [0.]\n",
      " [0.]\n",
      " [0.]\n",
      " [1.]\n",
      " [1.]\n",
      " [0.]\n",
      " [1.]\n",
      " [0.]\n",
      " [0.]\n",
      " [0.]\n",
      " [1.]\n",
      " [0.]\n",
      " [0.]\n",
      " [1.]\n",
      " [1.]\n",
      " [0.]\n",
      " [1.]\n",
      " [1.]\n",
      " [1.]\n",
      " [1.]\n",
      " [1.]\n",
      " [0.]\n",
      " [0.]\n",
      " [0.]\n",
      " [1.]\n",
      " [0.]\n",
      " [1.]\n",
      " [1.]\n",
      " [1.]\n",
      " [0.]\n",
      " [0.]\n",
      " [1.]\n",
      " [0.]\n",
      " [1.]\n",
      " [1.]\n",
      " [1.]\n",
      " [1.]\n",
      " [0.]\n",
      " [1.]\n",
      " [1.]\n",
      " [1.]\n",
      " [1.]\n",
      " [1.]\n",
      " [1.]\n",
      " [1.]\n",
      " [0.]\n",
      " [1.]\n",
      " [0.]\n",
      " [1.]\n",
      " [0.]\n",
      " [0.]\n",
      " [1.]\n",
      " [0.]\n",
      " [0.]\n",
      " [1.]\n",
      " [1.]\n",
      " [1.]\n",
      " [1.]\n",
      " [1.]\n",
      " [1.]\n",
      " [1.]\n",
      " [1.]\n",
      " [1.]\n",
      " [1.]\n",
      " [1.]\n",
      " [0.]\n",
      " [1.]\n",
      " [0.]\n",
      " [1.]\n",
      " [1.]\n",
      " [1.]\n",
      " [0.]\n",
      " [1.]\n",
      " [1.]\n",
      " [1.]\n",
      " [1.]\n",
      " [1.]\n",
      " [1.]\n",
      " [0.]\n",
      " [0.]\n",
      " [1.]\n",
      " [1.]\n",
      " [1.]\n",
      " [0.]\n",
      " [1.]\n",
      " [1.]\n",
      " [0.]\n",
      " [1.]\n",
      " [0.]\n",
      " [1.]\n",
      " [1.]\n",
      " [1.]\n",
      " [1.]\n",
      " [1.]\n",
      " [1.]\n",
      " [1.]\n",
      " [0.]\n",
      " [1.]\n",
      " [0.]\n",
      " [1.]\n",
      " [0.]\n",
      " [0.]\n",
      " [1.]\n",
      " [1.]\n",
      " [0.]\n",
      " [1.]\n",
      " [0.]\n",
      " [0.]\n",
      " [0.]\n",
      " [1.]\n",
      " [1.]\n",
      " [1.]\n",
      " [1.]\n",
      " [1.]\n",
      " [1.]\n",
      " [0.]\n",
      " [1.]\n",
      " [1.]\n",
      " [1.]\n",
      " [1.]\n",
      " [0.]\n",
      " [0.]\n",
      " [1.]\n",
      " [1.]\n",
      " [0.]\n",
      " [1.]\n",
      " [1.]\n",
      " [0.]\n",
      " [1.]]\n"
     ]
    }
   ],
   "source": [
    "# from sklearn.metrics import confusion_matrix\n",
    "\n",
    "preds = model.predict(X_test)\n",
    "preds = np.round(preds)\n",
    "\n",
    "confusion_matrix(y_test, preds)\n",
    "print(preds)"
   ]
  },
  {
   "cell_type": "code",
   "execution_count": 22,
   "metadata": {},
   "outputs": [],
   "source": [
    "# import seaborn as sns\n",
    "\n",
    "# cm = confusion_matrix(y_test, preds)\n",
    "# sns.heatmap(cm, annot=True, fmt='d')"
   ]
  },
  {
   "cell_type": "markdown",
   "metadata": {},
   "source": [
    "## 3. Multi-class classification"
   ]
  },
  {
   "cell_type": "markdown",
   "metadata": {},
   "source": [
    "**The dataset**\n",
    "\n",
    "In this task, you will use the MNIST dataset provided by `keras`.\n",
    "\n",
    "Please read the dataset documentation before you start:\n",
    "\n",
    "https://keras.io/api/datasets/mnist/"
   ]
  },
  {
   "cell_type": "code",
   "execution_count": 23,
   "metadata": {},
   "outputs": [],
   "source": [
    "from keras.datasets import mnist\n",
    "(X_train, y_train), (X_test, y_test) = mnist.load_data()"
   ]
  },
  {
   "cell_type": "code",
   "execution_count": 24,
   "metadata": {},
   "outputs": [
    {
     "name": "stdout",
     "output_type": "stream",
     "text": [
      "Label: 0\n"
     ]
    },
    {
     "data": {
      "image/png": "[encoded data removed]",
      "text/plain": [
       "<Figure size 640x480 with 1 Axes>"
      ]
     },
     "metadata": {},
     "output_type": "display_data"
    }
   ],
   "source": [
    "# View random digit\n",
    "index = np.random.randint(0, 60000)\n",
    "plt.imshow(X_train[index])\n",
    "print('Label:', y_train[index])"
   ]
  },
  {
   "cell_type": "code",
   "execution_count": 25,
   "metadata": {},
   "outputs": [
    {
     "data": {
      "text/plain": [
       "((60000, 28, 28), (10000, 28, 28), (60000,), (10000,))"
      ]
     },
     "execution_count": 25,
     "metadata": {},
     "output_type": "execute_result"
    }
   ],
   "source": [
    "X_train.shape, X_test.shape, y_train.shape, y_test.shape"
   ]
  },
  {
   "cell_type": "markdown",
   "metadata": {},
   "source": [
    "**Task 3.1**\n",
    "\n",
    "The MLP architecture you will build is given below. 784 input units, two hidden layers with 30 units each, one output layer with 10 units. Notice that X_train shape and input layer shape are not compatible. Similary, y_train and the output layer shape, are not compatible. Preprocess the data to make them compatible. Same is true for the test data.\n",
    "\n",
    "<img src=https://i.imgur.com/OFNAslJ.png width=\"500\">\n",
    "\n"
   ]
  },
  {
   "cell_type": "code",
   "execution_count": 26,
   "metadata": {},
   "outputs": [],
   "source": [
    "y_train = pd.get_dummies(y_train)\n",
    "y_test = pd.get_dummies(y_test)"
   ]
  },
  {
   "cell_type": "code",
   "execution_count": 27,
   "metadata": {},
   "outputs": [],
   "source": [
    "X_train = X_train.reshape((60000, 784)) / 255\n",
    "#y_train = y_train.reshape(60000, 10)\n",
    "X_test = X_test.reshape((10000, 784)) / 255\n",
    "#y_test = y_test.reshape(10000, 10)"
   ]
  },
  {
   "cell_type": "markdown",
   "metadata": {},
   "source": [
    "**Task 3.2**\n",
    "\n",
    "Build an MLP suitable for the MNIST dataset. Use a `Sequential()` model and `Dense` layers from Keras. Build the architecture shown in Task 3.1 Use suitable activation functions."
   ]
  },
  {
   "cell_type": "code",
   "execution_count": 28,
   "metadata": {},
   "outputs": [],
   "source": [
    "model = Sequential()\n",
    "\n",
    "model.add(Dense(30, input_shape=(784,), activation='relu'))\n",
    "model.add(Dense(30, activation='relu'))\n",
    "model.add(Dense(10, activation='softmax'))"
   ]
  },
  {
   "cell_type": "markdown",
   "metadata": {},
   "source": [
    "**Task 3.3**\n",
    "\n",
    "Compile the model by selecting a suitable optimizer and a suitable loss function. Also include a metric or metrics."
   ]
  },
  {
   "cell_type": "code",
   "execution_count": 29,
   "metadata": {},
   "outputs": [],
   "source": [
    "model.compile(loss='categorical_crossentropy',\n",
    "              optimizer='rmsprop',\n",
    "              metrics=['accuracy'])"
   ]
  },
  {
   "cell_type": "markdown",
   "metadata": {},
   "source": [
    "**Task 3.4**\n",
    "\n",
    "Train the model on X_train, y_train and use X_test, y_test as validation data. Pick a suitable number of epochs and batch size."
   ]
  },
  {
   "cell_type": "code",
   "execution_count": 30,
   "metadata": {},
   "outputs": [
    {
     "name": "stdout",
     "output_type": "stream",
     "text": [
      "Epoch 1/50\n",
      "1875/1875 [==============================] - 4s 2ms/step - loss: 0.3514 - accuracy: 0.8994 - val_loss: 0.2032 - val_accuracy: 0.9414\n",
      "Epoch 2/50\n",
      "1875/1875 [==============================] - 3s 2ms/step - loss: 0.1856 - accuracy: 0.9464 - val_loss: 0.1682 - val_accuracy: 0.9523\n",
      "Epoch 3/50\n",
      "1875/1875 [==============================] - 3s 2ms/step - loss: 0.1531 - accuracy: 0.9561 - val_loss: 0.1476 - val_accuracy: 0.9577\n",
      "Epoch 4/50\n",
      "1875/1875 [==============================] - 3s 2ms/step - loss: 0.1343 - accuracy: 0.9619 - val_loss: 0.1397 - val_accuracy: 0.9609\n",
      "Epoch 5/50\n",
      "1875/1875 [==============================] - 3s 2ms/step - loss: 0.1222 - accuracy: 0.9652 - val_loss: 0.1496 - val_accuracy: 0.9586\n",
      "Epoch 6/50\n",
      "1875/1875 [==============================] - 3s 2ms/step - loss: 0.1136 - accuracy: 0.9680 - val_loss: 0.1271 - val_accuracy: 0.9665\n",
      "Epoch 7/50\n",
      "1875/1875 [==============================] - 3s 2ms/step - loss: 0.1072 - accuracy: 0.9701 - val_loss: 0.1437 - val_accuracy: 0.9604\n",
      "Epoch 8/50\n",
      "1875/1875 [==============================] - 3s 2ms/step - loss: 0.1019 - accuracy: 0.9724 - val_loss: 0.1305 - val_accuracy: 0.9660\n",
      "Epoch 9/50\n",
      "1875/1875 [==============================] - 3s 2ms/step - loss: 0.0955 - accuracy: 0.9739 - val_loss: 0.1365 - val_accuracy: 0.9648\n",
      "Epoch 10/50\n",
      "1875/1875 [==============================] - 3s 2ms/step - loss: 0.0916 - accuracy: 0.9750 - val_loss: 0.1340 - val_accuracy: 0.9669\n",
      "Epoch 11/50\n",
      "1875/1875 [==============================] - 3s 2ms/step - loss: 0.0884 - accuracy: 0.9759 - val_loss: 0.1507 - val_accuracy: 0.9620\n",
      "Epoch 12/50\n",
      "1875/1875 [==============================] - 3s 2ms/step - loss: 0.0836 - accuracy: 0.9775 - val_loss: 0.1508 - val_accuracy: 0.9637\n",
      "Epoch 13/50\n",
      "1875/1875 [==============================] - 3s 2ms/step - loss: 0.0818 - accuracy: 0.9779 - val_loss: 0.1508 - val_accuracy: 0.9665\n",
      "Epoch 14/50\n",
      "1875/1875 [==============================] - 3s 2ms/step - loss: 0.0795 - accuracy: 0.9790 - val_loss: 0.1480 - val_accuracy: 0.9652\n",
      "Epoch 15/50\n",
      "1875/1875 [==============================] - 3s 2ms/step - loss: 0.0770 - accuracy: 0.9790 - val_loss: 0.1472 - val_accuracy: 0.9662\n",
      "Epoch 16/50\n",
      "1875/1875 [==============================] - 3s 2ms/step - loss: 0.0750 - accuracy: 0.9794 - val_loss: 0.1582 - val_accuracy: 0.9651\n",
      "Epoch 17/50\n",
      "1875/1875 [==============================] - 3s 2ms/step - loss: 0.0735 - accuracy: 0.9807 - val_loss: 0.1578 - val_accuracy: 0.9649\n",
      "Epoch 18/50\n",
      "1875/1875 [==============================] - 3s 2ms/step - loss: 0.0703 - accuracy: 0.9810 - val_loss: 0.1597 - val_accuracy: 0.9633\n",
      "Epoch 19/50\n",
      "1875/1875 [==============================] - 3s 2ms/step - loss: 0.0682 - accuracy: 0.9812 - val_loss: 0.1690 - val_accuracy: 0.9634\n",
      "Epoch 20/50\n",
      "1875/1875 [==============================] - 3s 2ms/step - loss: 0.0677 - accuracy: 0.9815 - val_loss: 0.1922 - val_accuracy: 0.9600\n",
      "Epoch 21/50\n",
      "1875/1875 [==============================] - 3s 2ms/step - loss: 0.0662 - accuracy: 0.9822 - val_loss: 0.1702 - val_accuracy: 0.9652\n",
      "Epoch 22/50\n",
      "1875/1875 [==============================] - 3s 2ms/step - loss: 0.0623 - accuracy: 0.9829 - val_loss: 0.1700 - val_accuracy: 0.9640\n",
      "Epoch 23/50\n",
      "1875/1875 [==============================] - 3s 2ms/step - loss: 0.0620 - accuracy: 0.9832 - val_loss: 0.1949 - val_accuracy: 0.9628\n",
      "Epoch 24/50\n",
      "1875/1875 [==============================] - 3s 2ms/step - loss: 0.0612 - accuracy: 0.9834 - val_loss: 0.1958 - val_accuracy: 0.9608\n",
      "Epoch 25/50\n",
      "1875/1875 [==============================] - 3s 2ms/step - loss: 0.0584 - accuracy: 0.9845 - val_loss: 0.1780 - val_accuracy: 0.9656\n",
      "Epoch 26/50\n",
      "1875/1875 [==============================] - 3s 2ms/step - loss: 0.0587 - accuracy: 0.9843 - val_loss: 0.1873 - val_accuracy: 0.9650\n",
      "Epoch 27/50\n",
      "1875/1875 [==============================] - 3s 2ms/step - loss: 0.0571 - accuracy: 0.9849 - val_loss: 0.1939 - val_accuracy: 0.9632\n",
      "Epoch 28/50\n",
      "1875/1875 [==============================] - 3s 2ms/step - loss: 0.0550 - accuracy: 0.9856 - val_loss: 0.1876 - val_accuracy: 0.9636\n",
      "Epoch 29/50\n",
      "1875/1875 [==============================] - 3s 2ms/step - loss: 0.0562 - accuracy: 0.9851 - val_loss: 0.1909 - val_accuracy: 0.9647\n",
      "Epoch 30/50\n",
      "1875/1875 [==============================] - 3s 2ms/step - loss: 0.0547 - accuracy: 0.9858 - val_loss: 0.2006 - val_accuracy: 0.9643\n",
      "Epoch 31/50\n",
      "1875/1875 [==============================] - 3s 2ms/step - loss: 0.0525 - accuracy: 0.9861 - val_loss: 0.2257 - val_accuracy: 0.9622\n",
      "Epoch 32/50\n",
      "1875/1875 [==============================] - 3s 2ms/step - loss: 0.0541 - accuracy: 0.9859 - val_loss: 0.2251 - val_accuracy: 0.9630\n",
      "Epoch 33/50\n",
      "1875/1875 [==============================] - 3s 2ms/step - loss: 0.0503 - accuracy: 0.9866 - val_loss: 0.2174 - val_accuracy: 0.9631\n",
      "Epoch 34/50\n",
      "1875/1875 [==============================] - 3s 2ms/step - loss: 0.0513 - accuracy: 0.9870 - val_loss: 0.2386 - val_accuracy: 0.9593\n",
      "Epoch 35/50\n",
      "1875/1875 [==============================] - 3s 2ms/step - loss: 0.0515 - accuracy: 0.9872 - val_loss: 0.2223 - val_accuracy: 0.9648\n",
      "Epoch 36/50\n",
      "1875/1875 [==============================] - 3s 2ms/step - loss: 0.0495 - accuracy: 0.9869 - val_loss: 0.2319 - val_accuracy: 0.9641\n",
      "Epoch 37/50\n",
      "1875/1875 [==============================] - 3s 2ms/step - loss: 0.0497 - accuracy: 0.9876 - val_loss: 0.2325 - val_accuracy: 0.9633\n",
      "Epoch 38/50\n",
      "1875/1875 [==============================] - 3s 2ms/step - loss: 0.0482 - accuracy: 0.9872 - val_loss: 0.2489 - val_accuracy: 0.9643\n",
      "Epoch 39/50\n",
      "1875/1875 [==============================] - 3s 2ms/step - loss: 0.0453 - accuracy: 0.9887 - val_loss: 0.2581 - val_accuracy: 0.9597\n",
      "Epoch 40/50\n",
      "1875/1875 [==============================] - 3s 2ms/step - loss: 0.0452 - accuracy: 0.9887 - val_loss: 0.2501 - val_accuracy: 0.9645\n",
      "Epoch 41/50\n",
      "1875/1875 [==============================] - 3s 2ms/step - loss: 0.0466 - accuracy: 0.9883 - val_loss: 0.2562 - val_accuracy: 0.9627\n",
      "Epoch 42/50\n",
      "1875/1875 [==============================] - 3s 2ms/step - loss: 0.0460 - accuracy: 0.9881 - val_loss: 0.2565 - val_accuracy: 0.9604\n",
      "Epoch 43/50\n",
      "1875/1875 [==============================] - 3s 2ms/step - loss: 0.0441 - accuracy: 0.9885 - val_loss: 0.2619 - val_accuracy: 0.9626\n",
      "Epoch 44/50\n",
      "1875/1875 [==============================] - 3s 2ms/step - loss: 0.0425 - accuracy: 0.9889 - val_loss: 0.2622 - val_accuracy: 0.9608\n",
      "Epoch 45/50\n",
      "1875/1875 [==============================] - 3s 2ms/step - loss: 0.0420 - accuracy: 0.9893 - val_loss: 0.2647 - val_accuracy: 0.9637\n",
      "Epoch 46/50\n",
      "1875/1875 [==============================] - 3s 2ms/step - loss: 0.0421 - accuracy: 0.9895 - val_loss: 0.2748 - val_accuracy: 0.9622\n",
      "Epoch 47/50\n",
      "1875/1875 [==============================] - 3s 2ms/step - loss: 0.0423 - accuracy: 0.9890 - val_loss: 0.2705 - val_accuracy: 0.9588\n",
      "Epoch 48/50\n",
      "1875/1875 [==============================] - 3s 2ms/step - loss: 0.0416 - accuracy: 0.9898 - val_loss: 0.2719 - val_accuracy: 0.9588\n",
      "Epoch 49/50\n",
      "1875/1875 [==============================] - 3s 2ms/step - loss: 0.0400 - accuracy: 0.9893 - val_loss: 0.2719 - val_accuracy: 0.9621\n",
      "Epoch 50/50\n",
      "1875/1875 [==============================] - 3s 2ms/step - loss: 0.0395 - accuracy: 0.9901 - val_loss: 0.2998 - val_accuracy: 0.9600\n"
     ]
    },
    {
     "data": {
      "text/plain": [
       "<keras.callbacks.History at 0x224d77a01f0>"
      ]
     },
     "execution_count": 30,
     "metadata": {},
     "output_type": "execute_result"
    }
   ],
   "source": [
    "model.fit(X_train, y_train, epochs=50, batch_size=32,\n",
    "          validation_data=(X_test, y_test))"
   ]
  },
  {
   "cell_type": "markdown",
   "metadata": {},
   "source": [
    "**Task 3.5**\n",
    "\n",
    "Evaluate the model using `model.evaluate()`."
   ]
  },
  {
   "cell_type": "code",
   "execution_count": 31,
   "metadata": {},
   "outputs": [
    {
     "name": "stdout",
     "output_type": "stream",
     "text": [
      "313/313 [==============================] - 0s 1ms/step - loss: 0.2998 - accuracy: 0.9600\n"
     ]
    },
    {
     "data": {
      "text/plain": [
       "[0.29980021715164185, 0.9599999785423279]"
      ]
     },
     "execution_count": 31,
     "metadata": {},
     "output_type": "execute_result"
    }
   ],
   "source": [
    "model.evaluate(X_test, y_test)"
   ]
  },
  {
   "cell_type": "markdown",
   "metadata": {},
   "source": [
    "**Bonus: Task 3.6**\n",
    "\n",
    "Find the worst prediction. If you struggle with this task, try it later."
   ]
  },
  {
   "cell_type": "markdown",
   "metadata": {},
   "source": [
    "## 4. Multi-label classification"
   ]
  },
  {
   "cell_type": "markdown",
   "metadata": {},
   "source": [
    "**The dataset**\n",
    "\n",
    "In this task you will use a simulated dataset.\n",
    "\n",
    "You are given 4 random integers ($x_1, x_2, x_3, x_4$) between -5 and 5 ($x_i \\in [-5, 5]$). Your task is to develop an MLP that predicts parity and sign of the product of these four numbers ($x_1 \\times x_2 \\times x_3 \\times x_4$).\n",
    "\n",
    "**Definitions**\n",
    "\n",
    "In mathematics, parity is the property of an integer of whether it is even or odd.\n",
    "\n",
    "In mathematics, the sign of a real number is its property of being either positive, negative, or zero.\n",
    "\n",
    "**Example**\n",
    "\n",
    "$x_1=-1, x_2=1, x_3=-3, x_4=-5$\n",
    "\n",
    "$ product = x_1 \\times x_2 \\times x_3 \\times x_4 = -15$\n",
    "\n",
    "parity of -15 is `odd` and sign of -15 is `negative`.\n",
    "\n",
    "**Columns**\n",
    "\n",
    "$x_i$: Integers between -5 (inclusive) and 5 (inclusive).\n",
    "\n",
    "Parity column: $x_1 \\times x_2 \\times x_3 \\times x_4$ is even (0) or odd (1).\n",
    "\n",
    "Sign column: $x_1 \\times x_2 \\times x_3 \\times x_4$ is negative (-1), or zero (0) or positive (1).\n",
    "\n",
    "|$x_1$|$x_2$|$x_3$|$x_4$|$Parity$|$Sign$|\n",
    "|:--|:--|:--|:--|:--|:--|\n",
    "|-2|-4|-1|1|0|-1|\n",
    "|-3|5|-3|3|1|1|\n",
    "|-4|-2|5|3|0|1|\n",
    "|-4|0|-5|0|0|0|\n",
    "|1|1|2|-4|0|-1|\n",
    "|-1|1|-3|-5|1|-1|\n"
   ]
  },
  {
   "cell_type": "code",
   "execution_count": 32,
   "metadata": {
    "code_folding": []
   },
   "outputs": [],
   "source": [
    "def simulator(n):\n",
    "    \n",
    "    # x_i numbers with shape (n, 4)\n",
    "    X = np.random.randint(-5, 6, size=(n, 4))\n",
    "\n",
    "    # product of 4 numbers for each row\n",
    "    # this will be used to calculate labels\n",
    "    # but this won't be part of the dataset\n",
    "    product = np.prod(X, axis=1)\n",
    "\n",
    "    # label 1\n",
    "    parity_col = product % 2\n",
    "    parity_col = parity_col.reshape(-1, 1)\n",
    "\n",
    "    # label 2\n",
    "    pos = (product > 0)*1\n",
    "    neg = (product < 0)*-1\n",
    "    zero = (product == 0)*0\n",
    "    sign_col = pos + neg + zero\n",
    "    sign_col = sign_col.reshape(-1, 1)\n",
    "\n",
    "    # concatenate columns to create the dataset\n",
    "    dataset = np.concatenate((X, parity_col, sign_col), axis=1)\n",
    "    \n",
    "    return dataset"
   ]
  },
  {
   "cell_type": "code",
   "execution_count": 33,
   "metadata": {},
   "outputs": [],
   "source": [
    "dataset = simulator(n=10000)"
   ]
  },
  {
   "cell_type": "code",
   "execution_count": 34,
   "metadata": {},
   "outputs": [
    {
     "data": {
      "text/html": [
       "<div>\n",
       "<style scoped>\n",
       "    .dataframe tbody tr th:only-of-type {\n",
       "        vertical-align: middle;\n",
       "    }\n",
       "\n",
       "    .dataframe tbody tr th {\n",
       "        vertical-align: top;\n",
       "    }\n",
       "\n",
       "    .dataframe thead th {\n",
       "        text-align: right;\n",
       "    }\n",
       "</style>\n",
       "<table border=\"1\" class=\"dataframe\">\n",
       "  <thead>\n",
       "    <tr style=\"text-align: right;\">\n",
       "      <th></th>\n",
       "      <th>x_1</th>\n",
       "      <th>x_2</th>\n",
       "      <th>x_3</th>\n",
       "      <th>x_4</th>\n",
       "      <th>Parity</th>\n",
       "      <th>Sign</th>\n",
       "    </tr>\n",
       "  </thead>\n",
       "  <tbody>\n",
       "    <tr>\n",
       "      <th>0</th>\n",
       "      <td>2</td>\n",
       "      <td>1</td>\n",
       "      <td>-1</td>\n",
       "      <td>0</td>\n",
       "      <td>0</td>\n",
       "      <td>0</td>\n",
       "    </tr>\n",
       "    <tr>\n",
       "      <th>1</th>\n",
       "      <td>-4</td>\n",
       "      <td>2</td>\n",
       "      <td>3</td>\n",
       "      <td>5</td>\n",
       "      <td>0</td>\n",
       "      <td>-1</td>\n",
       "    </tr>\n",
       "    <tr>\n",
       "      <th>2</th>\n",
       "      <td>4</td>\n",
       "      <td>-4</td>\n",
       "      <td>-4</td>\n",
       "      <td>5</td>\n",
       "      <td>0</td>\n",
       "      <td>1</td>\n",
       "    </tr>\n",
       "    <tr>\n",
       "      <th>3</th>\n",
       "      <td>0</td>\n",
       "      <td>-3</td>\n",
       "      <td>5</td>\n",
       "      <td>-5</td>\n",
       "      <td>0</td>\n",
       "      <td>0</td>\n",
       "    </tr>\n",
       "    <tr>\n",
       "      <th>4</th>\n",
       "      <td>-3</td>\n",
       "      <td>-5</td>\n",
       "      <td>-1</td>\n",
       "      <td>1</td>\n",
       "      <td>1</td>\n",
       "      <td>-1</td>\n",
       "    </tr>\n",
       "    <tr>\n",
       "      <th>5</th>\n",
       "      <td>-5</td>\n",
       "      <td>5</td>\n",
       "      <td>-5</td>\n",
       "      <td>0</td>\n",
       "      <td>0</td>\n",
       "      <td>0</td>\n",
       "    </tr>\n",
       "    <tr>\n",
       "      <th>6</th>\n",
       "      <td>5</td>\n",
       "      <td>-5</td>\n",
       "      <td>-2</td>\n",
       "      <td>1</td>\n",
       "      <td>0</td>\n",
       "      <td>1</td>\n",
       "    </tr>\n",
       "    <tr>\n",
       "      <th>7</th>\n",
       "      <td>-4</td>\n",
       "      <td>3</td>\n",
       "      <td>3</td>\n",
       "      <td>2</td>\n",
       "      <td>0</td>\n",
       "      <td>-1</td>\n",
       "    </tr>\n",
       "    <tr>\n",
       "      <th>8</th>\n",
       "      <td>-3</td>\n",
       "      <td>-5</td>\n",
       "      <td>1</td>\n",
       "      <td>-4</td>\n",
       "      <td>0</td>\n",
       "      <td>-1</td>\n",
       "    </tr>\n",
       "    <tr>\n",
       "      <th>9</th>\n",
       "      <td>3</td>\n",
       "      <td>-5</td>\n",
       "      <td>-4</td>\n",
       "      <td>5</td>\n",
       "      <td>0</td>\n",
       "      <td>1</td>\n",
       "    </tr>\n",
       "  </tbody>\n",
       "</table>\n",
       "</div>"
      ],
      "text/plain": [
       "   x_1  x_2  x_3  x_4  Parity  Sign\n",
       "0    2    1   -1    0       0     0\n",
       "1   -4    2    3    5       0    -1\n",
       "2    4   -4   -4    5       0     1\n",
       "3    0   -3    5   -5       0     0\n",
       "4   -3   -5   -1    1       1    -1\n",
       "5   -5    5   -5    0       0     0\n",
       "6    5   -5   -2    1       0     1\n",
       "7   -4    3    3    2       0    -1\n",
       "8   -3   -5    1   -4       0    -1\n",
       "9    3   -5   -4    5       0     1"
      ]
     },
     "execution_count": 34,
     "metadata": {},
     "output_type": "execute_result"
    }
   ],
   "source": [
    "df = pd.DataFrame(dataset, columns=['x_1', 'x_2', 'x_3', 'x_4', 'Parity', 'Sign'])\n",
    "df.head(10)"
   ]
  },
  {
   "cell_type": "markdown",
   "metadata": {},
   "source": [
    "**Task 4.1**\n",
    "\n",
    "Use the numpy array `dataset` to create `X` and `y`. Preprocess the data if needed."
   ]
  },
  {
   "cell_type": "code",
   "execution_count": 35,
   "metadata": {},
   "outputs": [],
   "source": [
    "# Split sign column into two columns. One with positive and one with negative\n",
    "\n",
    "# df['Positive'] = (df['Sign'] > 0)*1\n",
    "# df['Negative'] = (df['Sign'] < 0)*1\n",
    "# df.head()"
   ]
  },
  {
   "cell_type": "code",
   "execution_count": 36,
   "metadata": {},
   "outputs": [],
   "source": [
    "from tensorflow.keras.utils import to_categorical\n",
    "X = dataset[:, :4]\n",
    "y = dataset[:, 4:]\n",
    "y = to_categorical(y, num_classes=5)\n",
    "y = y[:, 1, :]"
   ]
  },
  {
   "cell_type": "code",
   "execution_count": 37,
   "metadata": {},
   "outputs": [],
   "source": [
    "from sklearn.model_selection import train_test_split\n",
    "X_train, X_test, y_train, y_test = train_test_split(X,\n",
    "                                                    y,\n",
    "                                                    test_size=0.33,\n",
    "                                                    random_state=0)"
   ]
  },
  {
   "cell_type": "code",
   "execution_count": 38,
   "metadata": {},
   "outputs": [
    {
     "data": {
      "text/plain": [
       "((6700, 4), (6700, 5), (3300, 4), (3300, 5))"
      ]
     },
     "execution_count": 38,
     "metadata": {},
     "output_type": "execute_result"
    }
   ],
   "source": [
    "X_train.shape, y_train.shape, X_test.shape, y_test.shape"
   ]
  },
  {
   "cell_type": "markdown",
   "metadata": {},
   "source": [
    "**Task 4.2**\n",
    "\n",
    "Build a MLP suitable for this simulated dataset. Use a `Sequential()` model and `Dense` layers from Keras. Use suitable activation functions."
   ]
  },
  {
   "cell_type": "code",
   "execution_count": 39,
   "metadata": {},
   "outputs": [],
   "source": [
    "model = Sequential()\n",
    "\n",
    "model.add(Dense(128, input_shape=(4,), activation='relu'))\n",
    "model.add(Dense(64, activation='relu'))\n",
    "model.add(Dense(32, activation='relu'))\n",
    "model.add(Dense(5, activation='softmax'))"
   ]
  },
  {
   "cell_type": "markdown",
   "metadata": {},
   "source": [
    "**Task 4.3**\n",
    "\n",
    "Compile the model by selecting a suitable optimizer and a suitable loss function. Also include a metric or metrics."
   ]
  },
  {
   "cell_type": "code",
   "execution_count": 40,
   "metadata": {},
   "outputs": [],
   "source": [
    "model.compile(loss='binary_crossentropy',\n",
    "              optimizer='adam',\n",
    "              metrics=['accuracy'])"
   ]
  },
  {
   "cell_type": "markdown",
   "metadata": {},
   "source": [
    "**Task 4.4**\n",
    "\n",
    "Train the model on X_train, y_train and use X_test, y_test as validation data. Pick a suitable number of epochs and batch size."
   ]
  },
  {
   "cell_type": "code",
   "execution_count": 41,
   "metadata": {},
   "outputs": [
    {
     "name": "stdout",
     "output_type": "stream",
     "text": [
      "Epoch 1/10\n",
      "210/210 [==============================] - 1s 3ms/step - loss: 0.3696 - accuracy: 0.5351 - val_loss: 0.2754 - val_accuracy: 0.7033\n",
      "Epoch 2/10\n",
      "210/210 [==============================] - 1s 3ms/step - loss: 0.2241 - accuracy: 0.8104 - val_loss: 0.1825 - val_accuracy: 0.8527\n",
      "Epoch 3/10\n",
      "210/210 [==============================] - 1s 3ms/step - loss: 0.1651 - accuracy: 0.9090 - val_loss: 0.1439 - val_accuracy: 0.9309\n",
      "Epoch 4/10\n",
      "210/210 [==============================] - 1s 3ms/step - loss: 0.1316 - accuracy: 0.9419 - val_loss: 0.1167 - val_accuracy: 0.9436\n",
      "Epoch 5/10\n",
      "210/210 [==============================] - 1s 2ms/step - loss: 0.1063 - accuracy: 0.9513 - val_loss: 0.0909 - val_accuracy: 0.9612\n",
      "Epoch 6/10\n",
      "210/210 [==============================] - 1s 3ms/step - loss: 0.0824 - accuracy: 0.9640 - val_loss: 0.0773 - val_accuracy: 0.9658\n",
      "Epoch 7/10\n",
      "210/210 [==============================] - 1s 3ms/step - loss: 0.0632 - accuracy: 0.9742 - val_loss: 0.0585 - val_accuracy: 0.9667\n",
      "Epoch 8/10\n",
      "210/210 [==============================] - 0s 2ms/step - loss: 0.0522 - accuracy: 0.9749 - val_loss: 0.0503 - val_accuracy: 0.9739\n",
      "Epoch 9/10\n",
      "210/210 [==============================] - 0s 2ms/step - loss: 0.0407 - accuracy: 0.9803 - val_loss: 0.0521 - val_accuracy: 0.9676\n",
      "Epoch 10/10\n",
      "210/210 [==============================] - 0s 2ms/step - loss: 0.0339 - accuracy: 0.9822 - val_loss: 0.0413 - val_accuracy: 0.9742\n"
     ]
    },
    {
     "data": {
      "text/plain": [
       "<keras.callbacks.History at 0x224f10209d0>"
      ]
     },
     "execution_count": 41,
     "metadata": {},
     "output_type": "execute_result"
    }
   ],
   "source": [
    "model.fit(X_train, y_train, epochs=10, batch_size=32,\n",
    "          validation_data=(X_test, y_test))"
   ]
  },
  {
   "cell_type": "markdown",
   "metadata": {},
   "source": [
    "## 5. Creative Brief\n",
    "\n",
    "Now it is time to apply what you learned to your creative brief. Build, train and test an MLP model with Keras on your creative brief dataset."
   ]
  },
  {
   "cell_type": "code",
   "execution_count": 42,
   "metadata": {},
   "outputs": [
    {
     "name": "stdout",
     "output_type": "stream",
     "text": [
      "Found 1700 images belonging to 6 classes.\n"
     ]
    }
   ],
   "source": [
    "from keras.preprocessing.image import ImageDataGenerator\n",
    "\n",
    "train_data_dir = r'C:\\Users\\maxme\\OneDrive\\Bureaublad\\wild_life_seperate_folders'\n",
    "\n",
    "# Data generator for training set\n",
    "train_datagen = ImageDataGenerator(rescale=1./255)\n",
    "\n",
    "train_generator = train_datagen.flow_from_directory(\n",
    "        train_data_dir,\n",
    "        target_size=(224, 224),\n",
    "        batch_size=32,\n",
    "        class_mode='categorical',\n",
    "        color_mode='rgb') # Set the color_mode parameter to 'rgb'"
   ]
  },
  {
   "cell_type": "code",
   "execution_count": 43,
   "metadata": {},
   "outputs": [],
   "source": [
    "from keras.models import Sequential\n",
    "from keras.layers import Dense, Flatten\n",
    "\n",
    "# Define the model\n",
    "model = Sequential()\n",
    "model.add(Flatten(input_shape=(224, 224, 3))) # Flatten the input to a 1D vector\n",
    "model.add(Dense(128, activation='relu')) # Add a fully connected layer with 128 neurons and ReLU activation\n",
    "model.add(Dense(6, activation='softmax')) # Add an output layer with 6 neurons for multiclass classification and softmax activation\n",
    "\n",
    "# Compile the model\n",
    "model.compile(optimizer='adam', loss='categorical_crossentropy', metrics=['accuracy'])"
   ]
  },
  {
   "cell_type": "code",
   "execution_count": 44,
   "metadata": {},
   "outputs": [
    {
     "name": "stdout",
     "output_type": "stream",
     "text": [
      "Epoch 1/10\n",
      "54/54 [==============================] - 8s 134ms/step - loss: 28.6940 - accuracy: 0.2053\n",
      "Epoch 2/10\n",
      "54/54 [==============================] - 4s 81ms/step - loss: 6.5191 - accuracy: 0.2541\n",
      "Epoch 3/10\n",
      "54/54 [==============================] - 4s 78ms/step - loss: 6.7564 - accuracy: 0.2829\n",
      "Epoch 4/10\n",
      "54/54 [==============================] - 4s 78ms/step - loss: 5.7510 - accuracy: 0.3188\n",
      "Epoch 5/10\n",
      "54/54 [==============================] - 4s 79ms/step - loss: 4.3112 - accuracy: 0.3671\n",
      "Epoch 6/10\n",
      "54/54 [==============================] - 4s 78ms/step - loss: 4.3135 - accuracy: 0.3682\n",
      "Epoch 7/10\n",
      "54/54 [==============================] - 4s 77ms/step - loss: 4.5776 - accuracy: 0.3724\n",
      "Epoch 8/10\n",
      "54/54 [==============================] - 4s 77ms/step - loss: 2.9000 - accuracy: 0.4459\n",
      "Epoch 9/10\n",
      "54/54 [==============================] - 4s 79ms/step - loss: 3.4183 - accuracy: 0.4535\n",
      "Epoch 10/10\n",
      "54/54 [==============================] - 4s 77ms/step - loss: 2.0393 - accuracy: 0.4971\n"
     ]
    },
    {
     "data": {
      "text/plain": [
       "<keras.callbacks.History at 0x2250d10afa0>"
      ]
     },
     "execution_count": 44,
     "metadata": {},
     "output_type": "execute_result"
    }
   ],
   "source": [
    "model.fit(train_generator, epochs=10, steps_per_epoch=len(train_generator))"
   ]
  },
  {
   "cell_type": "code",
   "execution_count": 45,
   "metadata": {},
   "outputs": [
    {
     "name": "stdout",
     "output_type": "stream",
     "text": [
      "54/54 [==============================] - 4s 80ms/step - loss: 3.5287 - accuracy: 0.4294\n",
      "Train Loss: 3.5287039279937744, Train Accuracy: 0.42941176891326904\n"
     ]
    }
   ],
   "source": [
    "# Evaluate the model\n",
    "loss, accuracy = model.evaluate(train_generator, batch_size=32)\n",
    "print(f\"Train Loss: {loss}, Train Accuracy: {accuracy}\")"
   ]
  }
 ],
 "metadata": {
  "kernelspec": {
   "display_name": "keras",
   "language": "python",
   "name": "python3"
  },
  "language_info": {
   "codemirror_mode": {
    "name": "ipython",
    "version": 3
   },
   "file_extension": ".py",
   "mimetype": "text/x-python",
   "name": "python",
   "nbconvert_exporter": "python",
   "pygments_lexer": "ipython3",
   "version": "3.9.16"
  },
  "vscode": {
   "interpreter": {
    "hash": "2b31fbb87327cf78949dae84e27a86c2a563aa0d8a051a71a49e90e7aaac447d"
   }
  }
 },
 "nbformat": 4,
 "nbformat_minor": 2
}
