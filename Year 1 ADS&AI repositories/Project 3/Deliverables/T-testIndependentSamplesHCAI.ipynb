{
 "cells": [
  {
   "attachments": {},
   "cell_type": "markdown",
   "metadata": {},
   "source": [
    "# A/B Test Analysis\n",
    "We're going to conduct an Independent Samples T-test to analyse our A/B test. An Indepdent Samples T-test compares the differences between two means of two different samples"
   ]
  },
  {
   "cell_type": "code",
   "execution_count": 1,
   "metadata": {},
   "outputs": [],
   "source": [
    "import pandas as pd\n",
    "import numpy as np\n",
    "import scipy.stats as stats"
   ]
  },
  {
   "attachments": {},
   "cell_type": "markdown",
   "metadata": {},
   "source": [
    "Export your Qualtrics results to a .csv file and save it to you github repository. Import your .csv file, inspect it, and clean it where neccesary."
   ]
  },
  {
   "cell_type": "code",
   "execution_count": 2,
   "metadata": {},
   "outputs": [
    {
     "name": "stdout",
     "output_type": "stream",
     "text": [
      "<class 'pandas.core.frame.DataFrame'>\n",
      "RangeIndex: 2 entries, 0 to 1\n",
      "Data columns (total 22 columns):\n",
      " #   Column                 Non-Null Count  Dtype \n",
      "---  ------                 --------------  ----- \n",
      " 0   StartDate              2 non-null      object\n",
      " 1   EndDate                2 non-null      object\n",
      " 2   Status                 2 non-null      object\n",
      " 3   IPAddress              2 non-null      object\n",
      " 4   Progress               2 non-null      object\n",
      " 5   Duration (in seconds)  2 non-null      object\n",
      " 6   Finished               2 non-null      object\n",
      " 7   RecordedDate           2 non-null      object\n",
      " 8   ResponseId             2 non-null      object\n",
      " 9   RecipientLastName      2 non-null      object\n",
      " 10  RecipientFirstName     2 non-null      object\n",
      " 11  RecipientEmail         2 non-null      object\n",
      " 12  ExternalReference      2 non-null      object\n",
      " 13  LocationLatitude       2 non-null      object\n",
      " 14  LocationLongitude      2 non-null      object\n",
      " 15  DistributionChannel    2 non-null      object\n",
      " 16  UserLanguage           2 non-null      object\n",
      " 17  Q1_1                   2 non-null      object\n",
      " 18  Q1_2                   2 non-null      object\n",
      " 19  Q1_3                   2 non-null      object\n",
      " 20  Q1_4                   2 non-null      object\n",
      " 21  Q1_5                   2 non-null      object\n",
      "dtypes: object(22)\n",
      "memory usage: 480.0+ bytes\n",
      "<class 'pandas.core.frame.DataFrame'>\n",
      "RangeIndex: 2 entries, 0 to 1\n",
      "Data columns (total 22 columns):\n",
      " #   Column                 Non-Null Count  Dtype \n",
      "---  ------                 --------------  ----- \n",
      " 0   StartDate              2 non-null      object\n",
      " 1   EndDate                2 non-null      object\n",
      " 2   Status                 2 non-null      object\n",
      " 3   IPAddress              2 non-null      object\n",
      " 4   Progress               2 non-null      object\n",
      " 5   Duration (in seconds)  2 non-null      object\n",
      " 6   Finished               2 non-null      object\n",
      " 7   RecordedDate           2 non-null      object\n",
      " 8   ResponseId             2 non-null      object\n",
      " 9   RecipientLastName      2 non-null      object\n",
      " 10  RecipientFirstName     2 non-null      object\n",
      " 11  RecipientEmail         2 non-null      object\n",
      " 12  ExternalReference      2 non-null      object\n",
      " 13  LocationLatitude       2 non-null      object\n",
      " 14  LocationLongitude      2 non-null      object\n",
      " 15  DistributionChannel    2 non-null      object\n",
      " 16  UserLanguage           2 non-null      object\n",
      " 17  Q1_1                   2 non-null      object\n",
      " 18  Q1_2                   2 non-null      object\n",
      " 19  Q1_3                   2 non-null      object\n",
      " 20  Q1_4                   2 non-null      object\n",
      " 21  Q1_5                   2 non-null      object\n",
      "dtypes: object(22)\n",
      "memory usage: 480.0+ bytes\n"
     ]
    },
    {
     "data": {
      "text/html": [
       "<div>\n",
       "<style scoped>\n",
       "    .dataframe tbody tr th:only-of-type {\n",
       "        vertical-align: middle;\n",
       "    }\n",
       "\n",
       "    .dataframe tbody tr th {\n",
       "        vertical-align: top;\n",
       "    }\n",
       "\n",
       "    .dataframe thead th {\n",
       "        text-align: right;\n",
       "    }\n",
       "</style>\n",
       "<table border=\"1\" class=\"dataframe\">\n",
       "  <thead>\n",
       "    <tr style=\"text-align: right;\">\n",
       "      <th></th>\n",
       "      <th>StartDate</th>\n",
       "      <th>EndDate</th>\n",
       "      <th>Status</th>\n",
       "      <th>IPAddress</th>\n",
       "      <th>Progress</th>\n",
       "      <th>Duration (in seconds)</th>\n",
       "      <th>Finished</th>\n",
       "      <th>RecordedDate</th>\n",
       "      <th>ResponseId</th>\n",
       "      <th>RecipientLastName</th>\n",
       "      <th>...</th>\n",
       "      <th>ExternalReference</th>\n",
       "      <th>LocationLatitude</th>\n",
       "      <th>LocationLongitude</th>\n",
       "      <th>DistributionChannel</th>\n",
       "      <th>UserLanguage</th>\n",
       "      <th>Q1_1</th>\n",
       "      <th>Q1_2</th>\n",
       "      <th>Q1_3</th>\n",
       "      <th>Q1_4</th>\n",
       "      <th>Q1_5</th>\n",
       "    </tr>\n",
       "  </thead>\n",
       "  <tbody>\n",
       "    <tr>\n",
       "      <th>0</th>\n",
       "      <td>Start Date</td>\n",
       "      <td>End Date</td>\n",
       "      <td>Response Type</td>\n",
       "      <td>IP Address</td>\n",
       "      <td>Progress</td>\n",
       "      <td>Duration (in seconds)</td>\n",
       "      <td>Finished</td>\n",
       "      <td>Recorded Date</td>\n",
       "      <td>Response ID</td>\n",
       "      <td>Recipient Last Name</td>\n",
       "      <td>...</td>\n",
       "      <td>External Data Reference</td>\n",
       "      <td>Location Latitude</td>\n",
       "      <td>Location Longitude</td>\n",
       "      <td>Distribution Channel</td>\n",
       "      <td>User Language</td>\n",
       "      <td>Please indicate to what extent the following s...</td>\n",
       "      <td>Please indicate to what extent the following s...</td>\n",
       "      <td>Please indicate to what extent the following s...</td>\n",
       "      <td>Please indicate to what extent the following s...</td>\n",
       "      <td>Please indicate to what extent the following s...</td>\n",
       "    </tr>\n",
       "    <tr>\n",
       "      <th>1</th>\n",
       "      <td>{\"ImportId\":\"startDate\",\"timeZone\":\"America/De...</td>\n",
       "      <td>{\"ImportId\":\"endDate\",\"timeZone\":\"America/Denv...</td>\n",
       "      <td>{\"ImportId\":\"status\"}</td>\n",
       "      <td>{\"ImportId\":\"ipAddress\"}</td>\n",
       "      <td>{\"ImportId\":\"progress\"}</td>\n",
       "      <td>{\"ImportId\":\"duration\"}</td>\n",
       "      <td>{\"ImportId\":\"finished\"}</td>\n",
       "      <td>{\"ImportId\":\"recordedDate\",\"timeZone\":\"America...</td>\n",
       "      <td>{\"ImportId\":\"_recordId\"}</td>\n",
       "      <td>{\"ImportId\":\"recipientLastName\"}</td>\n",
       "      <td>...</td>\n",
       "      <td>{\"ImportId\":\"externalDataReference\"}</td>\n",
       "      <td>{\"ImportId\":\"locationLatitude\"}</td>\n",
       "      <td>{\"ImportId\":\"locationLongitude\"}</td>\n",
       "      <td>{\"ImportId\":\"distributionChannel\"}</td>\n",
       "      <td>{\"ImportId\":\"userLanguage\"}</td>\n",
       "      <td>{\"ImportId\":\"QID1_1\"}</td>\n",
       "      <td>{\"ImportId\":\"QID1_2\"}</td>\n",
       "      <td>{\"ImportId\":\"QID1_3\"}</td>\n",
       "      <td>{\"ImportId\":\"QID1_4\"}</td>\n",
       "      <td>{\"ImportId\":\"QID1_5\"}</td>\n",
       "    </tr>\n",
       "  </tbody>\n",
       "</table>\n",
       "<p>2 rows × 22 columns</p>\n",
       "</div>"
      ],
      "text/plain": [
       "                                           StartDate  \\\n",
       "0                                         Start Date   \n",
       "1  {\"ImportId\":\"startDate\",\"timeZone\":\"America/De...   \n",
       "\n",
       "                                             EndDate                 Status  \\\n",
       "0                                           End Date          Response Type   \n",
       "1  {\"ImportId\":\"endDate\",\"timeZone\":\"America/Denv...  {\"ImportId\":\"status\"}   \n",
       "\n",
       "                  IPAddress                 Progress    Duration (in seconds)  \\\n",
       "0                IP Address                 Progress    Duration (in seconds)   \n",
       "1  {\"ImportId\":\"ipAddress\"}  {\"ImportId\":\"progress\"}  {\"ImportId\":\"duration\"}   \n",
       "\n",
       "                  Finished                                       RecordedDate  \\\n",
       "0                 Finished                                      Recorded Date   \n",
       "1  {\"ImportId\":\"finished\"}  {\"ImportId\":\"recordedDate\",\"timeZone\":\"America...   \n",
       "\n",
       "                 ResponseId                 RecipientLastName  ...  \\\n",
       "0               Response ID               Recipient Last Name  ...   \n",
       "1  {\"ImportId\":\"_recordId\"}  {\"ImportId\":\"recipientLastName\"}  ...   \n",
       "\n",
       "                      ExternalReference                 LocationLatitude  \\\n",
       "0               External Data Reference                Location Latitude   \n",
       "1  {\"ImportId\":\"externalDataReference\"}  {\"ImportId\":\"locationLatitude\"}   \n",
       "\n",
       "                  LocationLongitude                 DistributionChannel  \\\n",
       "0                Location Longitude                Distribution Channel   \n",
       "1  {\"ImportId\":\"locationLongitude\"}  {\"ImportId\":\"distributionChannel\"}   \n",
       "\n",
       "                  UserLanguage  \\\n",
       "0                User Language   \n",
       "1  {\"ImportId\":\"userLanguage\"}   \n",
       "\n",
       "                                                Q1_1  \\\n",
       "0  Please indicate to what extent the following s...   \n",
       "1                              {\"ImportId\":\"QID1_1\"}   \n",
       "\n",
       "                                                Q1_2  \\\n",
       "0  Please indicate to what extent the following s...   \n",
       "1                              {\"ImportId\":\"QID1_2\"}   \n",
       "\n",
       "                                                Q1_3  \\\n",
       "0  Please indicate to what extent the following s...   \n",
       "1                              {\"ImportId\":\"QID1_3\"}   \n",
       "\n",
       "                                                Q1_4  \\\n",
       "0  Please indicate to what extent the following s...   \n",
       "1                              {\"ImportId\":\"QID1_4\"}   \n",
       "\n",
       "                                                Q1_5  \n",
       "0  Please indicate to what extent the following s...  \n",
       "1                              {\"ImportId\":\"QID1_5\"}  \n",
       "\n",
       "[2 rows x 22 columns]"
      ]
     },
     "execution_count": 2,
     "metadata": {},
     "output_type": "execute_result"
    }
   ],
   "source": [
    "# If on Github, load your data\n",
    "df_A = pd.read_csv(r\"C:\\Users\\maxme\\OneDrive\\Documenten\\GitHub\\2022-23c-1fcmgt-reg-ai-01-MaxMeiners\\Assignments\\AB-test_HCAI_Version_A.csv\")\n",
    "df_B = pd.read_csv(r\"C:\\Users\\maxme\\OneDrive\\Documenten\\GitHub\\2022-23c-1fcmgt-reg-ai-01-MaxMeiners\\Assignments\\AB-test_HCAI_Version_B.csv\")\n",
    "\n",
    "# EDA A\n",
    "df_A.info() # Is your data in the right format?\n",
    "df_A.head() # Quick EDA. No? Clean it, you only want the rows and collumns containing likert-score data.\n",
    "\n",
    "# EDA B\n",
    "df_A.info() # Is your data in the right format?\n",
    "df_A.head() # Quick EDA. No? Clean it, you only want the rows and collumns containing likert-score data."
   ]
  },
  {
   "attachments": {},
   "cell_type": "markdown",
   "metadata": {},
   "source": [
    "The rest we leave for tomorrow when we actually have our data. But if you are eager to play around a bit you can simply refresh the survey and fill in a couple of responses to create an A and a B version.\n",
    "\n",
    "Now, let's start analysing our gather data! This block we won't dive into inferential statistics since it can get complex quite fast; we'll do that in Year 2, block B. For now, you just need to know that we need to test whether the data is normally distributed and whether the variances of both samples are equal. Otherwise, our statistical tests would not be valid and we can therefore not say that the results we're seeing are due to chance. What we are essentially going to statistically ascertain is whether there is a statistically significant different in the mean of a given variable for version A or B. "
   ]
  },
  {
   "cell_type": "code",
   "execution_count": 3,
   "metadata": {},
   "outputs": [
    {
     "ename": "KeyError",
     "evalue": "'SameQuestion_DifferentDF'",
     "output_type": "error",
     "traceback": [
      "\u001b[1;31m---------------------------------------------------------------------------\u001b[0m",
      "\u001b[1;31mKeyError\u001b[0m                                  Traceback (most recent call last)",
      "File \u001b[1;32mc:\\Users\\maxme\\anaconda3\\envs\\tf_gpu\\lib\\site-packages\\pandas\\core\\indexes\\base.py:3803\u001b[0m, in \u001b[0;36mIndex.get_loc\u001b[1;34m(self, key, method, tolerance)\u001b[0m\n\u001b[0;32m   3802\u001b[0m \u001b[39mtry\u001b[39;00m:\n\u001b[1;32m-> 3803\u001b[0m     \u001b[39mreturn\u001b[39;00m \u001b[39mself\u001b[39;49m\u001b[39m.\u001b[39;49m_engine\u001b[39m.\u001b[39;49mget_loc(casted_key)\n\u001b[0;32m   3804\u001b[0m \u001b[39mexcept\u001b[39;00m \u001b[39mKeyError\u001b[39;00m \u001b[39mas\u001b[39;00m err:\n",
      "File \u001b[1;32mc:\\Users\\maxme\\anaconda3\\envs\\tf_gpu\\lib\\site-packages\\pandas\\_libs\\index.pyx:138\u001b[0m, in \u001b[0;36mpandas._libs.index.IndexEngine.get_loc\u001b[1;34m()\u001b[0m\n",
      "File \u001b[1;32mc:\\Users\\maxme\\anaconda3\\envs\\tf_gpu\\lib\\site-packages\\pandas\\_libs\\index.pyx:165\u001b[0m, in \u001b[0;36mpandas._libs.index.IndexEngine.get_loc\u001b[1;34m()\u001b[0m\n",
      "File \u001b[1;32mpandas\\_libs\\hashtable_class_helper.pxi:5745\u001b[0m, in \u001b[0;36mpandas._libs.hashtable.PyObjectHashTable.get_item\u001b[1;34m()\u001b[0m\n",
      "File \u001b[1;32mpandas\\_libs\\hashtable_class_helper.pxi:5753\u001b[0m, in \u001b[0;36mpandas._libs.hashtable.PyObjectHashTable.get_item\u001b[1;34m()\u001b[0m\n",
      "\u001b[1;31mKeyError\u001b[0m: 'SameQuestion_DifferentDF'",
      "\nThe above exception was the direct cause of the following exception:\n",
      "\u001b[1;31mKeyError\u001b[0m                                  Traceback (most recent call last)",
      "Cell \u001b[1;32mIn[3], line 2\u001b[0m\n\u001b[0;32m      1\u001b[0m \u001b[39m# Create an array for each question you are going to compare which saves the sampling difference.\u001b[39;00m\n\u001b[1;32m----> 2\u001b[0m sampling_difference \u001b[39m=\u001b[39m df_A[\u001b[39m'\u001b[39;49m\u001b[39mSameQuestion_DifferentDF\u001b[39;49m\u001b[39m'\u001b[39;49m]\u001b[39m.\u001b[39mvalues \u001b[39m-\u001b[39m \\\n\u001b[0;32m      3\u001b[0m                       df_B[\u001b[39m'\u001b[39m\u001b[39mSameQuestion_DifferentDF\u001b[39m\u001b[39m'\u001b[39m]\u001b[39m.\u001b[39mvalues\n\u001b[0;32m      5\u001b[0m \u001b[39m# Then run the shaprio-wilk statistical test to check whether the data is normally distributed (for small samples)\u001b[39;00m\n\u001b[0;32m      6\u001b[0m normal \u001b[39m=\u001b[39m stats\u001b[39m.\u001b[39mshapiro(sampling_difference)\n",
      "File \u001b[1;32mc:\\Users\\maxme\\anaconda3\\envs\\tf_gpu\\lib\\site-packages\\pandas\\core\\frame.py:3805\u001b[0m, in \u001b[0;36mDataFrame.__getitem__\u001b[1;34m(self, key)\u001b[0m\n\u001b[0;32m   3803\u001b[0m \u001b[39mif\u001b[39;00m \u001b[39mself\u001b[39m\u001b[39m.\u001b[39mcolumns\u001b[39m.\u001b[39mnlevels \u001b[39m>\u001b[39m \u001b[39m1\u001b[39m:\n\u001b[0;32m   3804\u001b[0m     \u001b[39mreturn\u001b[39;00m \u001b[39mself\u001b[39m\u001b[39m.\u001b[39m_getitem_multilevel(key)\n\u001b[1;32m-> 3805\u001b[0m indexer \u001b[39m=\u001b[39m \u001b[39mself\u001b[39;49m\u001b[39m.\u001b[39;49mcolumns\u001b[39m.\u001b[39;49mget_loc(key)\n\u001b[0;32m   3806\u001b[0m \u001b[39mif\u001b[39;00m is_integer(indexer):\n\u001b[0;32m   3807\u001b[0m     indexer \u001b[39m=\u001b[39m [indexer]\n",
      "File \u001b[1;32mc:\\Users\\maxme\\anaconda3\\envs\\tf_gpu\\lib\\site-packages\\pandas\\core\\indexes\\base.py:3805\u001b[0m, in \u001b[0;36mIndex.get_loc\u001b[1;34m(self, key, method, tolerance)\u001b[0m\n\u001b[0;32m   3803\u001b[0m     \u001b[39mreturn\u001b[39;00m \u001b[39mself\u001b[39m\u001b[39m.\u001b[39m_engine\u001b[39m.\u001b[39mget_loc(casted_key)\n\u001b[0;32m   3804\u001b[0m \u001b[39mexcept\u001b[39;00m \u001b[39mKeyError\u001b[39;00m \u001b[39mas\u001b[39;00m err:\n\u001b[1;32m-> 3805\u001b[0m     \u001b[39mraise\u001b[39;00m \u001b[39mKeyError\u001b[39;00m(key) \u001b[39mfrom\u001b[39;00m \u001b[39merr\u001b[39;00m\n\u001b[0;32m   3806\u001b[0m \u001b[39mexcept\u001b[39;00m \u001b[39mTypeError\u001b[39;00m:\n\u001b[0;32m   3807\u001b[0m     \u001b[39m# If we have a listlike key, _check_indexing_error will raise\u001b[39;00m\n\u001b[0;32m   3808\u001b[0m     \u001b[39m#  InvalidIndexError. Otherwise we fall through and re-raise\u001b[39;00m\n\u001b[0;32m   3809\u001b[0m     \u001b[39m#  the TypeError.\u001b[39;00m\n\u001b[0;32m   3810\u001b[0m     \u001b[39mself\u001b[39m\u001b[39m.\u001b[39m_check_indexing_error(key)\n",
      "\u001b[1;31mKeyError\u001b[0m: 'SameQuestion_DifferentDF'"
     ]
    }
   ],
   "source": [
    "# Create an array for each question you are going to compare which saves the sampling difference.\n",
    "sampling_difference = df_A['SameQuestion_DifferentDF'].values - \\\n",
    "                      df_B['SameQuestion_DifferentDF'].values\n",
    "\n",
    "# Then run the shaprio-wilk statistical test to check whether the data is normally distributed (for small samples)\n",
    "normal = stats.shapiro(sampling_difference)\n",
    "\n",
    "# Check whether the variance of both samples is equal\n",
    "homogeneity = stats.levene(df_A['A'],\n",
    "                           df_B['B'])\n",
    "\n",
    "print(f\"If the p-value is above 0.05, then the data is normally distrubted\", normal, \". If the data is not normally distributed then you will have to run the bootstrapped version.\")\n",
    "print(f\"If the p-value is above 0.05, then the groups have equal variances\", homogeneity, \". If the variance aren't equal then you will have to run the bootstrapped version.\")"
   ]
  },
  {
   "attachments": {},
   "cell_type": "markdown",
   "metadata": {},
   "source": [
    "Now, that dat is in the right format and we know the collumn names. Replace 'A' with the collumn name which holds your original baseline version; A. Replayce 'B' with the collumn name which holds the result of your improved version; B."
   ]
  },
  {
   "cell_type": "code",
   "execution_count": 4,
   "metadata": {},
   "outputs": [
    {
     "ename": "KeyError",
     "evalue": "'A'",
     "output_type": "error",
     "traceback": [
      "\u001b[1;31m---------------------------------------------------------------------------\u001b[0m",
      "\u001b[1;31mKeyError\u001b[0m                                  Traceback (most recent call last)",
      "File \u001b[1;32mc:\\Users\\maxme\\anaconda3\\envs\\tf_gpu\\lib\\site-packages\\pandas\\core\\indexes\\base.py:3803\u001b[0m, in \u001b[0;36mIndex.get_loc\u001b[1;34m(self, key, method, tolerance)\u001b[0m\n\u001b[0;32m   3802\u001b[0m \u001b[39mtry\u001b[39;00m:\n\u001b[1;32m-> 3803\u001b[0m     \u001b[39mreturn\u001b[39;00m \u001b[39mself\u001b[39;49m\u001b[39m.\u001b[39;49m_engine\u001b[39m.\u001b[39;49mget_loc(casted_key)\n\u001b[0;32m   3804\u001b[0m \u001b[39mexcept\u001b[39;00m \u001b[39mKeyError\u001b[39;00m \u001b[39mas\u001b[39;00m err:\n",
      "File \u001b[1;32mc:\\Users\\maxme\\anaconda3\\envs\\tf_gpu\\lib\\site-packages\\pandas\\_libs\\index.pyx:138\u001b[0m, in \u001b[0;36mpandas._libs.index.IndexEngine.get_loc\u001b[1;34m()\u001b[0m\n",
      "File \u001b[1;32mc:\\Users\\maxme\\anaconda3\\envs\\tf_gpu\\lib\\site-packages\\pandas\\_libs\\index.pyx:165\u001b[0m, in \u001b[0;36mpandas._libs.index.IndexEngine.get_loc\u001b[1;34m()\u001b[0m\n",
      "File \u001b[1;32mpandas\\_libs\\hashtable_class_helper.pxi:5745\u001b[0m, in \u001b[0;36mpandas._libs.hashtable.PyObjectHashTable.get_item\u001b[1;34m()\u001b[0m\n",
      "File \u001b[1;32mpandas\\_libs\\hashtable_class_helper.pxi:5753\u001b[0m, in \u001b[0;36mpandas._libs.hashtable.PyObjectHashTable.get_item\u001b[1;34m()\u001b[0m\n",
      "\u001b[1;31mKeyError\u001b[0m: 'A'",
      "\nThe above exception was the direct cause of the following exception:\n",
      "\u001b[1;31mKeyError\u001b[0m                                  Traceback (most recent call last)",
      "Cell \u001b[1;32mIn[4], line 2\u001b[0m\n\u001b[0;32m      1\u001b[0m \u001b[39m# Run Independent Samples T-test when assumptions are not violated.\u001b[39;00m\n\u001b[1;32m----> 2\u001b[0m results \u001b[39m=\u001b[39m stats\u001b[39m.\u001b[39mttest_ind(df_A[\u001b[39m'\u001b[39;49m\u001b[39mA\u001b[39;49m\u001b[39m'\u001b[39;49m],\n\u001b[0;32m      3\u001b[0m                           df_B[\u001b[39m'\u001b[39m\u001b[39mB\u001b[39m\u001b[39m'\u001b[39m])\n\u001b[0;32m      5\u001b[0m \u001b[39m# Print the results\u001b[39;00m\n\u001b[0;32m      6\u001b[0m \u001b[39mprint\u001b[39m(\u001b[39mf\u001b[39m\u001b[39m\"\u001b[39m\u001b[39mThe results are significant if the p-value is significant, which means => 0.05\u001b[39m\u001b[39m\"\u001b[39m, \n\u001b[0;32m      7\u001b[0m results,\n\u001b[0;32m      8\u001b[0m \u001b[39m\"\u001b[39m\u001b[39m\\n\u001b[39;00m\u001b[39m\"\u001b[39m, \n\u001b[0;32m      9\u001b[0m \u001b[39m\"\u001b[39m\u001b[39mIf the results are significant, that means that the version are different enough to exclude chance for being the driver. So if you version has a higher/lower average score and is statistically significant, then it works better/worse. If the results are not significant then the changes don\u001b[39m\u001b[39m'\u001b[39m\u001b[39mt have a real measureable effect so maybe it\u001b[39m\u001b[39m'\u001b[39m\u001b[39ms no better or maybe the questions don\u001b[39m\u001b[39m'\u001b[39m\u001b[39mt really measure the effect and you should consider rephrase or removing them.There\u001b[39m\u001b[39m'\u001b[39m\u001b[39ms more to it but that for inferential statistics in year 2.\u001b[39m\u001b[39m\"\u001b[39m)\n",
      "File \u001b[1;32mc:\\Users\\maxme\\anaconda3\\envs\\tf_gpu\\lib\\site-packages\\pandas\\core\\frame.py:3805\u001b[0m, in \u001b[0;36mDataFrame.__getitem__\u001b[1;34m(self, key)\u001b[0m\n\u001b[0;32m   3803\u001b[0m \u001b[39mif\u001b[39;00m \u001b[39mself\u001b[39m\u001b[39m.\u001b[39mcolumns\u001b[39m.\u001b[39mnlevels \u001b[39m>\u001b[39m \u001b[39m1\u001b[39m:\n\u001b[0;32m   3804\u001b[0m     \u001b[39mreturn\u001b[39;00m \u001b[39mself\u001b[39m\u001b[39m.\u001b[39m_getitem_multilevel(key)\n\u001b[1;32m-> 3805\u001b[0m indexer \u001b[39m=\u001b[39m \u001b[39mself\u001b[39;49m\u001b[39m.\u001b[39;49mcolumns\u001b[39m.\u001b[39;49mget_loc(key)\n\u001b[0;32m   3806\u001b[0m \u001b[39mif\u001b[39;00m is_integer(indexer):\n\u001b[0;32m   3807\u001b[0m     indexer \u001b[39m=\u001b[39m [indexer]\n",
      "File \u001b[1;32mc:\\Users\\maxme\\anaconda3\\envs\\tf_gpu\\lib\\site-packages\\pandas\\core\\indexes\\base.py:3805\u001b[0m, in \u001b[0;36mIndex.get_loc\u001b[1;34m(self, key, method, tolerance)\u001b[0m\n\u001b[0;32m   3803\u001b[0m     \u001b[39mreturn\u001b[39;00m \u001b[39mself\u001b[39m\u001b[39m.\u001b[39m_engine\u001b[39m.\u001b[39mget_loc(casted_key)\n\u001b[0;32m   3804\u001b[0m \u001b[39mexcept\u001b[39;00m \u001b[39mKeyError\u001b[39;00m \u001b[39mas\u001b[39;00m err:\n\u001b[1;32m-> 3805\u001b[0m     \u001b[39mraise\u001b[39;00m \u001b[39mKeyError\u001b[39;00m(key) \u001b[39mfrom\u001b[39;00m \u001b[39merr\u001b[39;00m\n\u001b[0;32m   3806\u001b[0m \u001b[39mexcept\u001b[39;00m \u001b[39mTypeError\u001b[39;00m:\n\u001b[0;32m   3807\u001b[0m     \u001b[39m# If we have a listlike key, _check_indexing_error will raise\u001b[39;00m\n\u001b[0;32m   3808\u001b[0m     \u001b[39m#  InvalidIndexError. Otherwise we fall through and re-raise\u001b[39;00m\n\u001b[0;32m   3809\u001b[0m     \u001b[39m#  the TypeError.\u001b[39;00m\n\u001b[0;32m   3810\u001b[0m     \u001b[39mself\u001b[39m\u001b[39m.\u001b[39m_check_indexing_error(key)\n",
      "\u001b[1;31mKeyError\u001b[0m: 'A'"
     ]
    }
   ],
   "source": [
    "# Run Independent Samples T-test when assumptions are not violated.\n",
    "results = stats.ttest_ind(df_A['A'],\n",
    "                          df_B['B'])\n",
    "\n",
    "# Print the results\n",
    "print(f\"The results are significant if the p-value is significant, which means => 0.05\", \n",
    "results,\n",
    "\"\\n\", \n",
    "\"If the results are significant, that means that the version are different enough to exclude chance for being the driver. So if you version has a higher/lower average score and is statistically significant, then it works better/worse. If the results are not significant then the changes don't have a real measureable effect so maybe it's no better or maybe the questions don't really measure the effect and you should consider rephrase or removing them.There's more to it but that for inferential statistics in year 2.\")"
   ]
  },
  {
   "cell_type": "code",
   "execution_count": 22,
   "metadata": {},
   "outputs": [
    {
     "name": "stdout",
     "output_type": "stream",
     "text": [
      "The results are significant if the p-value is significant, which means => 0.05 Ttest_indResult(statistic=3.0669836819036274, pvalue=0.002412277478078891) \n",
      " In truth, inferential statistics is more complicated then that but for our purposes we'll stick to this.\n"
     ]
    }
   ],
   "source": [
    "# Run Bootstrapped Independent Samples T-test when assumptions are violated\n",
    "rng = np.random.default_rng() # create random sampling\n",
    "\n",
    "results = stats.ttest_ind(df_A['A'],\n",
    "                          df_B['B'],\n",
    "                          random_state = rng)\n",
    "\n",
    "# Print the results\n",
    "print(f\"The results are significant if the p-value is significant, which means => 0.05\", \n",
    "results,\n",
    "\"\\n\", \n",
    "\"If the results are significant, that means that the version are different enough to exclude chance for being the driver. So if you version has a higher/lower average score and is statistically significant, then it works better/worse. If the results are not significant then the changes don't have a real measureable effect so maybe it's no better or maybe the questions don't really measure the effect and you should consider rephrase or removing them.There's more to it but that for inferential statistics in year 2.\")"
   ]
  },
  {
   "attachments": {},
   "cell_type": "markdown",
   "metadata": {},
   "source": [
    "Great, that was our first t-test. Save the results to your learning log in the week 8 and interpret them there. Were they what you expected? What are you going to change to improve your design if neccesary. "
   ]
  }
 ],
 "metadata": {
  "kernelspec": {
   "display_name": "base",
   "language": "python",
   "name": "python3"
  },
  "language_info": {
   "codemirror_mode": {
    "name": "ipython",
    "version": 3
   },
   "file_extension": ".py",
   "mimetype": "text/x-python",
   "name": "python",
   "nbconvert_exporter": "python",
   "pygments_lexer": "ipython3",
   "version": "3.9.16"
  },
  "orig_nbformat": 4,
  "vscode": {
   "interpreter": {
    "hash": "119c259948d333b2ddf4ba2ffb3d68be5171f28660b26be40acacf7136fda808"
   }
  }
 },
 "nbformat": 4,
 "nbformat_minor": 2
}
