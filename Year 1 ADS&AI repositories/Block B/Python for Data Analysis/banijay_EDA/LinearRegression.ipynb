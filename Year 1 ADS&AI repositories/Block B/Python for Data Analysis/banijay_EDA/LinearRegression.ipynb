{
 "cells": [
  {
   "cell_type": "code",
   "execution_count": 1,
   "metadata": {},
   "outputs": [],
   "source": [
    "import numpy as np"
   ]
  },
  {
   "cell_type": "code",
   "execution_count": 2,
   "metadata": {},
   "outputs": [],
   "source": [
    "# add the function for linear regression\n",
    "\n",
    "def LinReg(X, y): #Implements linear regression on input data X and output variable y\n",
    "    X = np.array(X) #Convert X to a numpy array\n",
    "    y = np.array(y) #Convert y to a numpy array\n",
    "    print(X.shape) #Print the shape of X\n",
    "    X = np.insert(X, 0, 1, axis=1) #Adds a column of 1s to the input data matrix to allow for the computation of the y-intercept\n",
    "    X_transpose = X.transpose() #Calculates the transpose of the input data matrix\n",
    "    X_transpose_dot_X = np.dot(X_transpose, X) #Calculates the dot product of the transposed input data matrix and the input data matrix\n",
    "    print(X_transpose_dot_X.shape) \n",
    "    X_transpose_dot_X_inverse = np.linalg.pinv(X_transpose_dot_X) #Calculates the pseudo-inverse of the dot product of the transposed input data matrix and the input data matrix\n",
    "    X_transpose_dot_y = np.dot(X_transpose, y) #Calculates the dot product of the transposed input data matrix and the output variable\n",
    "    coefficients = np.dot(X_transpose_dot_X_inverse, X_transpose_dot_y) #Calculates the coefficients of the linear regression model\n",
    "    return coefficients #Returns the coefficients of the linear regression model"
   ]
  }
 ],
 "metadata": {
  "kernelspec": {
   "display_name": "base",
   "language": "python",
   "name": "python3"
  },
  "language_info": {
   "codemirror_mode": {
    "name": "ipython",
    "version": 3
   },
   "file_extension": ".py",
   "mimetype": "text/x-python",
   "name": "python",
   "nbconvert_exporter": "python",
   "pygments_lexer": "ipython3",
   "version": "3.9.13"
  },
  "orig_nbformat": 4,
  "vscode": {
   "interpreter": {
    "hash": "3e89cc40ac0e4ab38e96168c10bcb37749be72486dcb69ea15a3256d7a98f5e5"
   }
  }
 },
 "nbformat": 4,
 "nbformat_minor": 2
}
