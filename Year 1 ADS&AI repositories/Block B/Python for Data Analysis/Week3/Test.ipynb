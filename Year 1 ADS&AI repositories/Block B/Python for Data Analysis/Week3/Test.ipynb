{
 "cells": [
  {
   "cell_type": "code",
   "execution_count": 7,
   "metadata": {},
   "outputs": [
    {
     "name": "stdout",
     "output_type": "stream",
     "text": [
      "1.4.4\n",
      "<class 'pandas.core.frame.DataFrame'>\n",
      "RangeIndex: 2984 entries, 0 to 2983\n",
      "Data columns (total 9 columns):\n",
      " #   Column    Non-Null Count  Dtype \n",
      "---  ------    --------------  ----- \n",
      " 0   date      2984 non-null   object\n",
      " 1   hosts     2984 non-null   object\n",
      " 2   id        2984 non-null   object\n",
      " 3   length    2984 non-null   object\n",
      " 4   start     2984 non-null   object\n",
      " 5   end       2984 non-null   object\n",
      " 6   title     2984 non-null   object\n",
      " 7   summary   2984 non-null   object\n",
      " 8   keywords  2984 non-null   object\n",
      "dtypes: object(9)\n",
      "memory usage: 209.9+ KB\n"
     ]
    }
   ],
   "source": [
    "import pandas as pd\n",
    "print(pd.__version__)\n",
    "\n",
    "df = pd.read_pickle('banijay_op1data_content_raw.pkl')  \n",
    "df.head(10)\n",
    "df.info()\n",
    "df.describe()\n",
    "pd.value_counts(df['hosts'])\n",
    "pd.isna(df)\n",
    "df.dropna(inplace=True)"
   ]
  }
 ],
 "metadata": {
  "kernelspec": {
   "display_name": "Python 3.9.13 ('base')",
   "language": "python",
   "name": "python3"
  },
  "language_info": {
   "codemirror_mode": {
    "name": "ipython",
    "version": 3
   },
   "file_extension": ".py",
   "mimetype": "text/x-python",
   "name": "python",
   "nbconvert_exporter": "python",
   "pygments_lexer": "ipython3",
   "version": "3.9.13"
  },
  "orig_nbformat": 4,
  "vscode": {
   "interpreter": {
    "hash": "e34a51ce2e5d6cd426e3a877cb16f65e3dd85900a5b76bb886dcc805c982a405"
   }
  }
 },
 "nbformat": 4,
 "nbformat_minor": 2
}
