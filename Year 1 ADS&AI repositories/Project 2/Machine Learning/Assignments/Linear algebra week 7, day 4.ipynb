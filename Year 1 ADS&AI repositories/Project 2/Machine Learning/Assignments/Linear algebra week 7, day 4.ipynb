{
 "cells": [
  {
   "attachments": {},
   "cell_type": "markdown",
   "metadata": {},
   "source": [
    "# Linear algebra assignment week 7, day 4"
   ]
  },
  {
   "cell_type": "code",
   "execution_count": 7,
   "metadata": {},
   "outputs": [
    {
     "name": "stdout",
     "output_type": "stream",
     "text": [
      "[[-1.]\n",
      " [ 1.]]\n"
     ]
    }
   ],
   "source": [
    "import numpy as np\n",
    "\n",
    "#define matrices\n",
    "A = np.matrix([[1,2],[3,5]])\n",
    "B = np.matrix([[1],[2]])\n",
    "\n",
    "# find the inverse of A\n",
    "A_inverse = np.linalg.inv(A)\n",
    "\n",
    "# Solving for X\n",
    "X =A_inverse * B\n",
    "print(X)"
   ]
  },
  {
   "cell_type": "code",
   "execution_count": 8,
   "metadata": {},
   "outputs": [
    {
     "name": "stdout",
     "output_type": "stream",
     "text": [
      "[[-1.]\n",
      " [ 3.]]\n"
     ]
    }
   ],
   "source": [
    "#define matrices\n",
    "A = np.matrix([[4,3],[1,1]])\n",
    "B = np.matrix([[5],[2]])\n",
    "\n",
    "# find the inverse of A\n",
    "A_inverse = np.linalg.inv(A)\n",
    "\n",
    "# Solving for X\n",
    "X =A_inverse * B\n",
    "print(X)"
   ]
  },
  {
   "cell_type": "code",
   "execution_count": 9,
   "metadata": {},
   "outputs": [
    {
     "name": "stdout",
     "output_type": "stream",
     "text": [
      "[[ 5.05882353]\n",
      " [-0.07843137]]\n"
     ]
    }
   ],
   "source": [
    "#define matrices\n",
    "A = np.matrix([[4,3],[5,-9]])\n",
    "B = np.matrix([[20],[26]])\n",
    "\n",
    "# find the inverse of A\n",
    "A_inverse = np.linalg.inv(A)\n",
    "\n",
    "# Solving for X\n",
    "X =A_inverse * B\n",
    "print(X)"
   ]
  },
  {
   "cell_type": "code",
   "execution_count": 10,
   "metadata": {},
   "outputs": [
    {
     "name": "stdout",
     "output_type": "stream",
     "text": [
      "[[14.55555556]\n",
      " [-5.88888889]\n",
      " [-9.11111111]]\n"
     ]
    }
   ],
   "source": [
    "#define matrices\n",
    "A = np.matrix([[4,1,3],[2,2,3],[3,5,2]])\n",
    "B = np.matrix([[25],[-10],[-4]])\n",
    "\n",
    "# find the inverse of A\n",
    "A_inverse = np.linalg.inv(A)\n",
    "\n",
    "# Solving for X\n",
    "X =A_inverse * B\n",
    "print(X)"
   ]
  }
 ],
 "metadata": {
  "kernelspec": {
   "display_name": "base",
   "language": "python",
   "name": "python3"
  },
  "language_info": {
   "codemirror_mode": {
    "name": "ipython",
    "version": 3
   },
   "file_extension": ".py",
   "mimetype": "text/x-python",
   "name": "python",
   "nbconvert_exporter": "python",
   "pygments_lexer": "ipython3",
   "version": "3.9.13 (main, Aug 25 2022, 23:51:50) [MSC v.1916 64 bit (AMD64)]"
  },
  "orig_nbformat": 4,
  "vscode": {
   "interpreter": {
    "hash": "3e89cc40ac0e4ab38e96168c10bcb37749be72486dcb69ea15a3256d7a98f5e5"
   }
  }
 },
 "nbformat": 4,
 "nbformat_minor": 2
}
